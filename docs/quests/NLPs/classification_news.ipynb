{
  "nbformat": 4,
  "nbformat_minor": 0,
  "metadata": {
    "colab": {
      "provenance": [],
      "authorship_tag": "ABX9TyM0ulPIbvanbhEjqxxEGpxc",
      "include_colab_link": true
    },
    "kernelspec": {
      "name": "python3",
      "display_name": "Python 3"
    },
    "language_info": {
      "name": "python"
    }
  },
  "cells": [
    {
      "cell_type": "markdown",
      "metadata": {
        "id": "view-in-github",
        "colab_type": "text"
      },
      "source": [
        "<a href=\"https://colab.research.google.com/github/nohjuhyeon/study_AIs/blob/main/docs/quests/NLPs/classification_news.ipynb\" target=\"_parent\"><img src=\"https://colab.research.google.com/assets/colab-badge.svg\" alt=\"Open In Colab\"/></a>"
      ]
    },
    {
      "cell_type": "markdown",
      "source": [
        "## 사용할 pickle 불러오기\n",
        "- sentence_tokenizing : 문장 토큰화 모델\n",
        "- classification_topic : 토픽 분류 모델"
      ],
      "metadata": {
        "id": "iX0y-gdNThvx"
      }
    },
    {
      "cell_type": "code",
      "source": [
        "file_path = 'NLP_classification_ynanaewstitles.pkl'\n",
        "import pickle\n",
        "with open(file_path,'rb') as pickle_file:\n",
        "  classification_topic = pickle.load(pickle_file)\n"
      ],
      "metadata": {
        "id": "_fAZeV24TSlj"
      },
      "execution_count": 237,
      "outputs": []
    },
    {
      "cell_type": "code",
      "source": [
        "# pickle 불러오기\n",
        "file_path = 'sentence_tokenizing.pkl'\n",
        "import pickle\n",
        "with open(file_path,'rb') as pickle_file:\n",
        "  sentence_tokenizing = pickle.load(pickle_file)\n"
      ],
      "metadata": {
        "id": "OtkgA5ToSKqr"
      },
      "execution_count": 236,
      "outputs": []
    },
    {
      "cell_type": "markdown",
      "source": [
        "## 한글처리"
      ],
      "metadata": {
        "id": "Y00cIUvArtk5"
      }
    },
    {
      "cell_type": "code",
      "source": [
        "!apt-get -y install fonts-nanum\n",
        "!fc-cache -fv\n",
        "!rm ~/.cache/matplotlib -rf"
      ],
      "metadata": {
        "colab": {
          "base_uri": "https://localhost:8080/"
        },
        "id": "nVtYk4hkrsZQ",
        "outputId": "32a0e039-4841-4d70-999f-07652e9ddbb4"
      },
      "execution_count": 217,
      "outputs": [
        {
          "output_type": "stream",
          "name": "stdout",
          "text": [
            "Reading package lists... Done\n",
            "Building dependency tree... Done\n",
            "Reading state information... Done\n",
            "fonts-nanum is already the newest version (20200506-1).\n",
            "0 upgraded, 0 newly installed, 0 to remove and 33 not upgraded.\n",
            "/usr/share/fonts: caching, new cache contents: 0 fonts, 1 dirs\n",
            "/usr/share/fonts/truetype: caching, new cache contents: 0 fonts, 3 dirs\n",
            "/usr/share/fonts/truetype/humor-sans: caching, new cache contents: 1 fonts, 0 dirs\n",
            "/usr/share/fonts/truetype/liberation: caching, new cache contents: 16 fonts, 0 dirs\n",
            "/usr/share/fonts/truetype/nanum: caching, new cache contents: 12 fonts, 0 dirs\n",
            "/usr/local/share/fonts: caching, new cache contents: 0 fonts, 0 dirs\n",
            "/root/.local/share/fonts: skipping, no such directory\n",
            "/root/.fonts: skipping, no such directory\n",
            "/usr/share/fonts/truetype: skipping, looped directory detected\n",
            "/usr/share/fonts/truetype/humor-sans: skipping, looped directory detected\n",
            "/usr/share/fonts/truetype/liberation: skipping, looped directory detected\n",
            "/usr/share/fonts/truetype/nanum: skipping, looped directory detected\n",
            "/var/cache/fontconfig: cleaning cache directory\n",
            "/root/.cache/fontconfig: not cleaning non-existent cache directory\n",
            "/root/.fontconfig: not cleaning non-existent cache directory\n",
            "fc-cache: succeeded\n"
          ]
        }
      ]
    },
    {
      "cell_type": "code",
      "source": [
        "!ls /usr/share/fonts/truetype/nanum/NanumBarunGothic.ttf"
      ],
      "metadata": {
        "id": "Axwqiojwt0Om",
        "outputId": "96668fef-b2a1-409e-925b-f9461f025b71",
        "colab": {
          "base_uri": "https://localhost:8080/"
        }
      },
      "execution_count": 218,
      "outputs": [
        {
          "output_type": "stream",
          "name": "stdout",
          "text": [
            "/usr/share/fonts/truetype/nanum/NanumBarunGothic.ttf\n"
          ]
        }
      ]
    },
    {
      "cell_type": "markdown",
      "source": [
        "## 사용할 데이터 불러오기 및 전처리"
      ],
      "metadata": {
        "id": "JKmwa8WcT4nP"
      }
    },
    {
      "cell_type": "code",
      "execution_count": 241,
      "metadata": {
        "colab": {
          "base_uri": "https://localhost:8080/"
        },
        "id": "Rz1_JcaRNCnS",
        "outputId": "11e96935-1f38-405f-8277-489c39e3a8f3"
      },
      "outputs": [
        {
          "output_type": "execute_result",
          "data": {
            "text/plain": [
              "45"
            ]
          },
          "metadata": {},
          "execution_count": 241
        }
      ],
      "source": [
        "# 파일 불러오기\n",
        "import pandas as pd\n",
        "df_IT_news = pd.read_excel('IT News.xlsx', sheet_name = None)\n",
        "topic = pd.read_csv(\"topic_dict.csv\")\n",
        "len(df_IT_news)"
      ]
    },
    {
      "cell_type": "code",
      "source": [
        "df_sheets = []\n",
        "for sheet_name, df in df_IT_news.items():\n",
        "  df = df[df['문장 요약'].notnull()]\n",
        "  if df.columns[0] != \"이름\":\n",
        "    print(df.columns[0])\n",
        "    df = df.rename(columns={df.columns[0]: '이름'})\n",
        "  df.reset_index(inplace = True)\n",
        "  df_sheets.append(df)\n",
        "df_sheets[4]"
      ],
      "metadata": {
        "colab": {
          "base_uri": "https://localhost:8080/",
          "height": 353
        },
        "id": "5fF8xrG3N236",
        "outputId": "f839a05b-b0f6-493e-c116-ec6af150e9d1"
      },
      "execution_count": 367,
      "outputs": [
        {
          "output_type": "stream",
          "name": "stdout",
          "text": [
            "ㅋ\n",
            "ㅋㅋㅋㅋㅋㅋㅋㅋㅋㅋ\n",
            "ㅋㅋㅋㅋㅋㅋㅋ\n",
            "ㅋㅋㅋㅋㅋㅋㅋㅋㅋㅋㅋ\n",
            "ㅋ\n"
          ]
        },
        {
          "output_type": "execute_result",
          "data": {
            "text/plain": [
              "   index   이름  선호도 투표                                        뉴스명  \\\n",
              "0      1  김유진     NaN         브이캣, SSG닷컴에 ‘영상 및 배너 제작 AI 솔루션’ 공급   \n",
              "1      4  박요한     NaN  “지수까지 나올 줄이야” 스마일게이트, 첫 투자 영화 ‘전독시’ 본격 촬영   \n",
              "2      6  김명준     NaN            97% 정확도...피만 뽑으면 알츠하이머인지 알 수 있다   \n",
              "3      9  조유경     NaN     [단독] 아내에게 전화했는데 다른 사람 목소리가…KT는 “껐다 켜라”   \n",
              "\n",
              "                                               문장 요약  \\\n",
              "0  브이캣은 SSG닷컴에 상품의 URL만 입력하면 영상과 배너를 만들 수 있는 시스템을...   \n",
              "1  게임 회사 스마일게이트의 ‘외도’가 주목을 끈다. 처음으로 게임이 아닌 영화 투자·...   \n",
              "2  알츠하이머 유발 단백질 ‘타우’\\n97% 높은 정확도로 감지 가능\\n조기 진단·치료...   \n",
              "3  전화를 걸었을때 실제 전화를 건 연락처가 아닌 다른 연락처로 전화가 연결되는 이슈가...   \n",
              "\n",
              "                                                한 줄평  \n",
              "0  특히 빠른 교체가 중요한 기획전, 이벤트 영역의 배너 전량이 자동 제작되도록 SSG...  \n",
              "1  하나의 분야에서만 활동하던 기업들이 다방면으로 넓게 시야를 넓히고 있는 것은 하나의...  \n",
              "2  현재의 진단시스템은 검사 비용이 높고 진단 기간도 길다는 단점이 있는 반면 만약, ...  \n",
              "3  현재 원인을 파악하고 있으나 아직까지 파악하지 못하였다. 이 상황이 범죄에 악용된다...  "
            ],
            "text/html": [
              "\n",
              "  <div id=\"df-bea5baf2-6f9f-49dd-982b-8e0d96eec558\" class=\"colab-df-container\">\n",
              "    <div>\n",
              "<style scoped>\n",
              "    .dataframe tbody tr th:only-of-type {\n",
              "        vertical-align: middle;\n",
              "    }\n",
              "\n",
              "    .dataframe tbody tr th {\n",
              "        vertical-align: top;\n",
              "    }\n",
              "\n",
              "    .dataframe thead th {\n",
              "        text-align: right;\n",
              "    }\n",
              "</style>\n",
              "<table border=\"1\" class=\"dataframe\">\n",
              "  <thead>\n",
              "    <tr style=\"text-align: right;\">\n",
              "      <th></th>\n",
              "      <th>index</th>\n",
              "      <th>이름</th>\n",
              "      <th>선호도 투표</th>\n",
              "      <th>뉴스명</th>\n",
              "      <th>문장 요약</th>\n",
              "      <th>한 줄평</th>\n",
              "    </tr>\n",
              "  </thead>\n",
              "  <tbody>\n",
              "    <tr>\n",
              "      <th>0</th>\n",
              "      <td>1</td>\n",
              "      <td>김유진</td>\n",
              "      <td>NaN</td>\n",
              "      <td>브이캣, SSG닷컴에 ‘영상 및 배너 제작 AI 솔루션’ 공급</td>\n",
              "      <td>브이캣은 SSG닷컴에 상품의 URL만 입력하면 영상과 배너를 만들 수 있는 시스템을...</td>\n",
              "      <td>특히 빠른 교체가 중요한 기획전, 이벤트 영역의 배너 전량이 자동 제작되도록 SSG...</td>\n",
              "    </tr>\n",
              "    <tr>\n",
              "      <th>1</th>\n",
              "      <td>4</td>\n",
              "      <td>박요한</td>\n",
              "      <td>NaN</td>\n",
              "      <td>“지수까지 나올 줄이야” 스마일게이트, 첫 투자 영화 ‘전독시’ 본격 촬영</td>\n",
              "      <td>게임 회사 스마일게이트의 ‘외도’가 주목을 끈다. 처음으로 게임이 아닌 영화 투자·...</td>\n",
              "      <td>하나의 분야에서만 활동하던 기업들이 다방면으로 넓게 시야를 넓히고 있는 것은 하나의...</td>\n",
              "    </tr>\n",
              "    <tr>\n",
              "      <th>2</th>\n",
              "      <td>6</td>\n",
              "      <td>김명준</td>\n",
              "      <td>NaN</td>\n",
              "      <td>97% 정확도...피만 뽑으면 알츠하이머인지 알 수 있다</td>\n",
              "      <td>알츠하이머 유발 단백질 ‘타우’\\n97% 높은 정확도로 감지 가능\\n조기 진단·치료...</td>\n",
              "      <td>현재의 진단시스템은 검사 비용이 높고 진단 기간도 길다는 단점이 있는 반면 만약, ...</td>\n",
              "    </tr>\n",
              "    <tr>\n",
              "      <th>3</th>\n",
              "      <td>9</td>\n",
              "      <td>조유경</td>\n",
              "      <td>NaN</td>\n",
              "      <td>[단독] 아내에게 전화했는데 다른 사람 목소리가…KT는 “껐다 켜라”</td>\n",
              "      <td>전화를 걸었을때 실제 전화를 건 연락처가 아닌 다른 연락처로 전화가 연결되는 이슈가...</td>\n",
              "      <td>현재 원인을 파악하고 있으나 아직까지 파악하지 못하였다. 이 상황이 범죄에 악용된다...</td>\n",
              "    </tr>\n",
              "  </tbody>\n",
              "</table>\n",
              "</div>\n",
              "    <div class=\"colab-df-buttons\">\n",
              "\n",
              "  <div class=\"colab-df-container\">\n",
              "    <button class=\"colab-df-convert\" onclick=\"convertToInteractive('df-bea5baf2-6f9f-49dd-982b-8e0d96eec558')\"\n",
              "            title=\"Convert this dataframe to an interactive table.\"\n",
              "            style=\"display:none;\">\n",
              "\n",
              "  <svg xmlns=\"http://www.w3.org/2000/svg\" height=\"24px\" viewBox=\"0 -960 960 960\">\n",
              "    <path d=\"M120-120v-720h720v720H120Zm60-500h600v-160H180v160Zm220 220h160v-160H400v160Zm0 220h160v-160H400v160ZM180-400h160v-160H180v160Zm440 0h160v-160H620v160ZM180-180h160v-160H180v160Zm440 0h160v-160H620v160Z\"/>\n",
              "  </svg>\n",
              "    </button>\n",
              "\n",
              "  <style>\n",
              "    .colab-df-container {\n",
              "      display:flex;\n",
              "      gap: 12px;\n",
              "    }\n",
              "\n",
              "    .colab-df-convert {\n",
              "      background-color: #E8F0FE;\n",
              "      border: none;\n",
              "      border-radius: 50%;\n",
              "      cursor: pointer;\n",
              "      display: none;\n",
              "      fill: #1967D2;\n",
              "      height: 32px;\n",
              "      padding: 0 0 0 0;\n",
              "      width: 32px;\n",
              "    }\n",
              "\n",
              "    .colab-df-convert:hover {\n",
              "      background-color: #E2EBFA;\n",
              "      box-shadow: 0px 1px 2px rgba(60, 64, 67, 0.3), 0px 1px 3px 1px rgba(60, 64, 67, 0.15);\n",
              "      fill: #174EA6;\n",
              "    }\n",
              "\n",
              "    .colab-df-buttons div {\n",
              "      margin-bottom: 4px;\n",
              "    }\n",
              "\n",
              "    [theme=dark] .colab-df-convert {\n",
              "      background-color: #3B4455;\n",
              "      fill: #D2E3FC;\n",
              "    }\n",
              "\n",
              "    [theme=dark] .colab-df-convert:hover {\n",
              "      background-color: #434B5C;\n",
              "      box-shadow: 0px 1px 3px 1px rgba(0, 0, 0, 0.15);\n",
              "      filter: drop-shadow(0px 1px 2px rgba(0, 0, 0, 0.3));\n",
              "      fill: #FFFFFF;\n",
              "    }\n",
              "  </style>\n",
              "\n",
              "    <script>\n",
              "      const buttonEl =\n",
              "        document.querySelector('#df-bea5baf2-6f9f-49dd-982b-8e0d96eec558 button.colab-df-convert');\n",
              "      buttonEl.style.display =\n",
              "        google.colab.kernel.accessAllowed ? 'block' : 'none';\n",
              "\n",
              "      async function convertToInteractive(key) {\n",
              "        const element = document.querySelector('#df-bea5baf2-6f9f-49dd-982b-8e0d96eec558');\n",
              "        const dataTable =\n",
              "          await google.colab.kernel.invokeFunction('convertToInteractive',\n",
              "                                                    [key], {});\n",
              "        if (!dataTable) return;\n",
              "\n",
              "        const docLinkHtml = 'Like what you see? Visit the ' +\n",
              "          '<a target=\"_blank\" href=https://colab.research.google.com/notebooks/data_table.ipynb>data table notebook</a>'\n",
              "          + ' to learn more about interactive tables.';\n",
              "        element.innerHTML = '';\n",
              "        dataTable['output_type'] = 'display_data';\n",
              "        await google.colab.output.renderOutput(dataTable, element);\n",
              "        const docLink = document.createElement('div');\n",
              "        docLink.innerHTML = docLinkHtml;\n",
              "        element.appendChild(docLink);\n",
              "      }\n",
              "    </script>\n",
              "  </div>\n",
              "\n",
              "\n",
              "<div id=\"df-70c37244-c16a-40ab-bd1a-ed27dae1273a\">\n",
              "  <button class=\"colab-df-quickchart\" onclick=\"quickchart('df-70c37244-c16a-40ab-bd1a-ed27dae1273a')\"\n",
              "            title=\"Suggest charts\"\n",
              "            style=\"display:none;\">\n",
              "\n",
              "<svg xmlns=\"http://www.w3.org/2000/svg\" height=\"24px\"viewBox=\"0 0 24 24\"\n",
              "     width=\"24px\">\n",
              "    <g>\n",
              "        <path d=\"M19 3H5c-1.1 0-2 .9-2 2v14c0 1.1.9 2 2 2h14c1.1 0 2-.9 2-2V5c0-1.1-.9-2-2-2zM9 17H7v-7h2v7zm4 0h-2V7h2v10zm4 0h-2v-4h2v4z\"/>\n",
              "    </g>\n",
              "</svg>\n",
              "  </button>\n",
              "\n",
              "<style>\n",
              "  .colab-df-quickchart {\n",
              "      --bg-color: #E8F0FE;\n",
              "      --fill-color: #1967D2;\n",
              "      --hover-bg-color: #E2EBFA;\n",
              "      --hover-fill-color: #174EA6;\n",
              "      --disabled-fill-color: #AAA;\n",
              "      --disabled-bg-color: #DDD;\n",
              "  }\n",
              "\n",
              "  [theme=dark] .colab-df-quickchart {\n",
              "      --bg-color: #3B4455;\n",
              "      --fill-color: #D2E3FC;\n",
              "      --hover-bg-color: #434B5C;\n",
              "      --hover-fill-color: #FFFFFF;\n",
              "      --disabled-bg-color: #3B4455;\n",
              "      --disabled-fill-color: #666;\n",
              "  }\n",
              "\n",
              "  .colab-df-quickchart {\n",
              "    background-color: var(--bg-color);\n",
              "    border: none;\n",
              "    border-radius: 50%;\n",
              "    cursor: pointer;\n",
              "    display: none;\n",
              "    fill: var(--fill-color);\n",
              "    height: 32px;\n",
              "    padding: 0;\n",
              "    width: 32px;\n",
              "  }\n",
              "\n",
              "  .colab-df-quickchart:hover {\n",
              "    background-color: var(--hover-bg-color);\n",
              "    box-shadow: 0 1px 2px rgba(60, 64, 67, 0.3), 0 1px 3px 1px rgba(60, 64, 67, 0.15);\n",
              "    fill: var(--button-hover-fill-color);\n",
              "  }\n",
              "\n",
              "  .colab-df-quickchart-complete:disabled,\n",
              "  .colab-df-quickchart-complete:disabled:hover {\n",
              "    background-color: var(--disabled-bg-color);\n",
              "    fill: var(--disabled-fill-color);\n",
              "    box-shadow: none;\n",
              "  }\n",
              "\n",
              "  .colab-df-spinner {\n",
              "    border: 2px solid var(--fill-color);\n",
              "    border-color: transparent;\n",
              "    border-bottom-color: var(--fill-color);\n",
              "    animation:\n",
              "      spin 1s steps(1) infinite;\n",
              "  }\n",
              "\n",
              "  @keyframes spin {\n",
              "    0% {\n",
              "      border-color: transparent;\n",
              "      border-bottom-color: var(--fill-color);\n",
              "      border-left-color: var(--fill-color);\n",
              "    }\n",
              "    20% {\n",
              "      border-color: transparent;\n",
              "      border-left-color: var(--fill-color);\n",
              "      border-top-color: var(--fill-color);\n",
              "    }\n",
              "    30% {\n",
              "      border-color: transparent;\n",
              "      border-left-color: var(--fill-color);\n",
              "      border-top-color: var(--fill-color);\n",
              "      border-right-color: var(--fill-color);\n",
              "    }\n",
              "    40% {\n",
              "      border-color: transparent;\n",
              "      border-right-color: var(--fill-color);\n",
              "      border-top-color: var(--fill-color);\n",
              "    }\n",
              "    60% {\n",
              "      border-color: transparent;\n",
              "      border-right-color: var(--fill-color);\n",
              "    }\n",
              "    80% {\n",
              "      border-color: transparent;\n",
              "      border-right-color: var(--fill-color);\n",
              "      border-bottom-color: var(--fill-color);\n",
              "    }\n",
              "    90% {\n",
              "      border-color: transparent;\n",
              "      border-bottom-color: var(--fill-color);\n",
              "    }\n",
              "  }\n",
              "</style>\n",
              "\n",
              "  <script>\n",
              "    async function quickchart(key) {\n",
              "      const quickchartButtonEl =\n",
              "        document.querySelector('#' + key + ' button');\n",
              "      quickchartButtonEl.disabled = true;  // To prevent multiple clicks.\n",
              "      quickchartButtonEl.classList.add('colab-df-spinner');\n",
              "      try {\n",
              "        const charts = await google.colab.kernel.invokeFunction(\n",
              "            'suggestCharts', [key], {});\n",
              "      } catch (error) {\n",
              "        console.error('Error during call to suggestCharts:', error);\n",
              "      }\n",
              "      quickchartButtonEl.classList.remove('colab-df-spinner');\n",
              "      quickchartButtonEl.classList.add('colab-df-quickchart-complete');\n",
              "    }\n",
              "    (() => {\n",
              "      let quickchartButtonEl =\n",
              "        document.querySelector('#df-70c37244-c16a-40ab-bd1a-ed27dae1273a button');\n",
              "      quickchartButtonEl.style.display =\n",
              "        google.colab.kernel.accessAllowed ? 'block' : 'none';\n",
              "    })();\n",
              "  </script>\n",
              "</div>\n",
              "\n",
              "    </div>\n",
              "  </div>\n"
            ],
            "application/vnd.google.colaboratory.intrinsic+json": {
              "type": "dataframe",
              "summary": "{\n  \"name\": \"df_sheets[4]\",\n  \"rows\": 4,\n  \"fields\": [\n    {\n      \"column\": \"index\",\n      \"properties\": {\n        \"dtype\": \"number\",\n        \"std\": 3,\n        \"min\": 1,\n        \"max\": 9,\n        \"samples\": [\n          4,\n          9,\n          1\n        ],\n        \"num_unique_values\": 4,\n        \"semantic_type\": \"\",\n        \"description\": \"\"\n      }\n    },\n    {\n      \"column\": \"\\uc774\\ub984\",\n      \"properties\": {\n        \"dtype\": \"string\",\n        \"samples\": [\n          \"\\ubc15\\uc694\\ud55c\",\n          \"\\uc870\\uc720\\uacbd\",\n          \"\\uae40\\uc720\\uc9c4\"\n        ],\n        \"num_unique_values\": 4,\n        \"semantic_type\": \"\",\n        \"description\": \"\"\n      }\n    },\n    {\n      \"column\": \"\\uc120\\ud638\\ub3c4 \\ud22c\\ud45c\",\n      \"properties\": {\n        \"dtype\": \"number\",\n        \"std\": NaN,\n        \"min\": NaN,\n        \"max\": NaN,\n        \"samples\": [],\n        \"num_unique_values\": 0,\n        \"semantic_type\": \"\",\n        \"description\": \"\"\n      }\n    },\n    {\n      \"column\": \"\\ub274\\uc2a4\\uba85\",\n      \"properties\": {\n        \"dtype\": \"string\",\n        \"samples\": [],\n        \"num_unique_values\": 4,\n        \"semantic_type\": \"\",\n        \"description\": \"\"\n      }\n    },\n    {\n      \"column\": \"\\ubb38\\uc7a5 \\uc694\\uc57d\",\n      \"properties\": {\n        \"dtype\": \"string\",\n        \"samples\": [],\n        \"num_unique_values\": 4,\n        \"semantic_type\": \"\",\n        \"description\": \"\"\n      }\n    },\n    {\n      \"column\": \"\\ud55c \\uc904\\ud3c9\",\n      \"properties\": {\n        \"dtype\": \"string\",\n        \"samples\": [],\n        \"num_unique_values\": 4,\n        \"semantic_type\": \"\",\n        \"description\": \"\"\n      }\n    }\n  ]\n}"
            }
          },
          "metadata": {},
          "execution_count": 367
        }
      ]
    },
    {
      "cell_type": "markdown",
      "source": [
        "## 문장 토큰화하기"
      ],
      "metadata": {
        "id": "usob1AGibFW9"
      }
    },
    {
      "cell_type": "code",
      "source": [
        "! pip install konlpy"
      ],
      "metadata": {
        "colab": {
          "base_uri": "https://localhost:8080/"
        },
        "id": "N7LUOtJjR2yr",
        "outputId": "4440c413-0613-4c89-d985-bed093578928"
      },
      "execution_count": 373,
      "outputs": [
        {
          "output_type": "stream",
          "name": "stdout",
          "text": [
            "Requirement already satisfied: konlpy in /usr/local/lib/python3.10/dist-packages (0.6.0)\n",
            "Requirement already satisfied: JPype1>=0.7.0 in /usr/local/lib/python3.10/dist-packages (from konlpy) (1.5.0)\n",
            "Requirement already satisfied: lxml>=4.1.0 in /usr/local/lib/python3.10/dist-packages (from konlpy) (4.9.4)\n",
            "Requirement already satisfied: numpy>=1.6 in /usr/local/lib/python3.10/dist-packages (from konlpy) (1.25.2)\n",
            "Requirement already satisfied: packaging in /usr/local/lib/python3.10/dist-packages (from JPype1>=0.7.0->konlpy) (23.2)\n"
          ]
        }
      ]
    },
    {
      "cell_type": "code",
      "source": [
        "from konlpy.tag import Okt\n",
        "okt = Okt()"
      ],
      "metadata": {
        "id": "N2R8dHJGR3iY"
      },
      "execution_count": 374,
      "outputs": []
    },
    {
      "cell_type": "code",
      "source": [
        "# 형태소 분석 함수\n",
        "def okt_clean(text):\n",
        "    clean_text = []\n",
        "    for word in okt.pos(text, stem=True):\n",
        "        if word[1] not in ['Josa', 'Eomi', 'Punctuation']:\n",
        "            clean_text.append(word[0])\n",
        "\n",
        "    return \" \".join(clean_text)"
      ],
      "metadata": {
        "id": "z5H8r3VnRJTj"
      },
      "execution_count": 375,
      "outputs": []
    },
    {
      "cell_type": "code",
      "source": [
        "# 문장 토큰화 함수\n",
        "def sentence_token(x,okt_clean,sentence_tokenizing):\n",
        "  sentence_nouns = okt_clean(x)\n",
        "  sentence_tokens = sentence_tokenizing.transform([sentence_nouns])\n",
        "  return sentence_tokens.toarray()"
      ],
      "metadata": {
        "id": "-BotibDn3b7C"
      },
      "execution_count": 376,
      "outputs": []
    },
    {
      "cell_type": "code",
      "source": [
        "# topic 리스트 만드는 함수\n",
        "def topic_list_make(df_sheets,sentence_token,condition_list):\n",
        "  sentence_list = []\n",
        "  for i in range(len(df_sheets)):\n",
        "    column_name = df_sheets[i].columns[1]\n",
        "    condition_list = condition_list\n",
        "    condition = f\"{column_name} in {condition_list}\"\n",
        "    for j in range(len(df_sheets[i].query(condition)['문장 요약'].values)):\n",
        "      sentence_tokens_array = sentence_token(df_sheets[i].query(condition)['문장 요약'].values[j],okt_clean,sentence_tokenizing)\n",
        "      topic_index=int(classification_topic.predict(sentence_tokens_array)[0])\n",
        "      sentence_list.append(topic.iloc[topic_index,0])\n",
        "  Series_topic = pd.Series(data=sentence_list)\n",
        "  topic_list = Series_topic.value_counts()\n",
        "  return topic_list"
      ],
      "metadata": {
        "id": "B1Ew31j03Gzb"
      },
      "execution_count": 377,
      "outputs": []
    },
    {
      "cell_type": "code",
      "source": [
        "user_list = [\"노주현\"]\n",
        "user_topic_list = topic_list_make(df_sheets,sentence_token,user_list)\n",
        "user_topic_list"
      ],
      "metadata": {
        "colab": {
          "base_uri": "https://localhost:8080/"
        },
        "id": "2ne-H5wMUfGa",
        "outputId": "d2052b70-c693-4620-bc84-1c1dc0bada04"
      },
      "execution_count": 428,
      "outputs": [
        {
          "output_type": "execute_result",
          "data": {
            "text/plain": [
              "IT과학    17\n",
              "사회       2\n",
              "경제       1\n",
              "세계       1\n",
              "정치       1\n",
              "dtype: int64"
            ]
          },
          "metadata": {},
          "execution_count": 428
        }
      ]
    },
    {
      "cell_type": "code",
      "source": [
        "entire_user_list = list(df_sheets[0][\"이름\"].values)\n",
        "\n",
        "entire_topic_list = topic_list_make(df_sheets,sentence_token,entire_user_list)\n",
        "entire_topic_list"
      ],
      "metadata": {
        "colab": {
          "base_uri": "https://localhost:8080/"
        },
        "id": "KSojj3SyxTYq",
        "outputId": "597140a5-5316-4b18-9ef3-cb44aad94844"
      },
      "execution_count": 411,
      "outputs": [
        {
          "output_type": "execute_result",
          "data": {
            "text/plain": [
              "IT과학    184\n",
              "경제       27\n",
              "사회       27\n",
              "정치       10\n",
              "세계        8\n",
              "생활문화      3\n",
              "스포츠       1\n",
              "dtype: int64"
            ]
          },
          "metadata": {},
          "execution_count": 411
        }
      ]
    },
    {
      "cell_type": "markdown",
      "source": [
        "## Wordcloud"
      ],
      "metadata": {
        "id": "v9sXYeeAuoD0"
      }
    },
    {
      "cell_type": "markdown",
      "source": [
        "### user wordcloud"
      ],
      "metadata": {
        "id": "RWemcLV2zKWg"
      }
    },
    {
      "cell_type": "code",
      "source": [
        "from wordcloud import WordCloud"
      ],
      "metadata": {
        "id": "aKhjQz_gaysH"
      },
      "execution_count": 412,
      "outputs": []
    },
    {
      "cell_type": "code",
      "source": [
        "wordCloud = WordCloud(background_color='white', font_path = '/usr/share/fonts/truetype/nanum/NanumBarunGothic.ttf')\n",
        "user_wordcloud = wordCloud.generate_from_frequencies(user_topic_list)\n",
        "user_wordcloud"
      ],
      "metadata": {
        "colab": {
          "base_uri": "https://localhost:8080/"
        },
        "id": "93YpFQCTurSZ",
        "outputId": "9b255a97-bf92-4d7c-e7a5-668b00872aa3"
      },
      "execution_count": 429,
      "outputs": [
        {
          "output_type": "execute_result",
          "data": {
            "text/plain": [
              "<wordcloud.wordcloud.WordCloud at 0x7fac03f69e10>"
            ]
          },
          "metadata": {},
          "execution_count": 429
        }
      ]
    },
    {
      "cell_type": "code",
      "source": [
        "user_wordcloud.words_"
      ],
      "metadata": {
        "colab": {
          "base_uri": "https://localhost:8080/"
        },
        "id": "cijI3aKTusUD",
        "outputId": "1d9bb718-6a04-4169-994e-fbf5a587ce6c"
      },
      "execution_count": 430,
      "outputs": [
        {
          "output_type": "execute_result",
          "data": {
            "text/plain": [
              "{'IT과학': 1.0,\n",
              " '사회': 0.11764705882352941,\n",
              " '경제': 0.058823529411764705,\n",
              " '세계': 0.058823529411764705,\n",
              " '정치': 0.058823529411764705}"
            ]
          },
          "metadata": {},
          "execution_count": 430
        }
      ]
    },
    {
      "cell_type": "code",
      "source": [
        "import matplotlib.pyplot as plt\n",
        "plt.imshow(user_wordcloud)\n",
        "plt.axis('off')\n",
        "plt.show()"
      ],
      "metadata": {
        "colab": {
          "base_uri": "https://localhost:8080/",
          "height": 285
        },
        "id": "Irrof5UxwdgI",
        "outputId": "6d95b666-d6dc-4204-d06b-3afb7f430ac9"
      },
      "execution_count": 431,
      "outputs": [
        {
          "output_type": "display_data",
          "data": {
            "text/plain": [
              "<Figure size 640x480 with 1 Axes>"
            ],
            "image/png": "[encoded data removed]"
          },
          "metadata": {}
        }
      ]
    },
    {
      "cell_type": "markdown",
      "source": [
        "### entire wordcloud"
      ],
      "metadata": {
        "id": "mG7GxUOnzMv6"
      }
    },
    {
      "cell_type": "code",
      "source": [
        "from wordcloud import WordCloud"
      ],
      "metadata": {
        "id": "a3h00v_rzMv7"
      },
      "execution_count": 402,
      "outputs": []
    },
    {
      "cell_type": "code",
      "source": [
        "wordCloud = WordCloud(background_color='white', font_path = '/usr/share/fonts/truetype/nanum/NanumBarunGothic.ttf')\n",
        "user_wordcloud = wordCloud.generate_from_frequencies(entire_topic_list)\n",
        "user_wordcloud"
      ],
      "metadata": {
        "colab": {
          "base_uri": "https://localhost:8080/"
        },
        "outputId": "0721632c-9941-4136-adfb-d3319362fdf2",
        "id": "BIr_mUjazMv7"
      },
      "execution_count": 403,
      "outputs": [
        {
          "output_type": "execute_result",
          "data": {
            "text/plain": [
              "<wordcloud.wordcloud.WordCloud at 0x7fac03f1c490>"
            ]
          },
          "metadata": {},
          "execution_count": 403
        }
      ]
    },
    {
      "cell_type": "code",
      "source": [
        "user_wordcloud.words_"
      ],
      "metadata": {
        "colab": {
          "base_uri": "https://localhost:8080/"
        },
        "outputId": "bd93dc86-c190-40cd-8aa1-786c854c74cf",
        "id": "5zEKqDvwzMv7"
      },
      "execution_count": 404,
      "outputs": [
        {
          "output_type": "execute_result",
          "data": {
            "text/plain": [
              "{'IT과학': 1.0,\n",
              " '경제': 0.14673913043478262,\n",
              " '사회': 0.14673913043478262,\n",
              " '정치': 0.05434782608695652,\n",
              " '세계': 0.043478260869565216,\n",
              " '생활문화': 0.016304347826086956,\n",
              " '스포츠': 0.005434782608695652}"
            ]
          },
          "metadata": {},
          "execution_count": 404
        }
      ]
    },
    {
      "cell_type": "code",
      "source": [
        "import matplotlib.pyplot as plt\n",
        "plt.imshow(user_wordcloud)\n",
        "plt.axis('off')\n",
        "plt.show()"
      ],
      "metadata": {
        "colab": {
          "base_uri": "https://localhost:8080/",
          "height": 285
        },
        "outputId": "21ea5d79-ced9-466d-8a34-858a48637807",
        "id": "iMJHlT7wzMv7"
      },
      "execution_count": 405,
      "outputs": [
        {
          "output_type": "display_data",
          "data": {
            "text/plain": [
              "<Figure size 640x480 with 1 Axes>"
            ],
            "image/png": "[encoded data removed]"
          },
          "metadata": {}
        }
      ]
    },
    {
      "cell_type": "code",
      "source": [],
      "metadata": {
        "id": "l3yjtu9x6fek"
      },
      "execution_count": 405,
      "outputs": []
    }
  ]
}