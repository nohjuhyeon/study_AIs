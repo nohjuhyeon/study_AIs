{
  "nbformat": 4,
  "nbformat_minor": 0,
  "metadata": {
    "colab": {
      "provenance": [],
      "authorship_tag": "ABX9TyOqBnzyCnmIBuI1Ex/TPZYw",
      "include_colab_link": true
    },
    "kernelspec": {
      "name": "python3",
      "display_name": "Python 3"
    },
    "language_info": {
      "name": "python"
    }
  },
  "cells": [
    {
      "cell_type": "markdown",
      "metadata": {
        "id": "view-in-github",
        "colab_type": "text"
      },
      "source": [
        "<a href=\"https://colab.research.google.com/github/nohjuhyeon/study_AIs/blob/main/docs/quests/NLPs/classification_news.ipynb\" target=\"_parent\"><img src=\"https://colab.research.google.com/assets/colab-badge.svg\" alt=\"Open In Colab\"/></a>"
      ]
    },
    {
      "cell_type": "markdown",
      "source": [
        "## 사용할 pickle 불러오기\n",
        "- sentence_tokenizing : 문장 토큰화 모델\n",
        "- classification_topic : 토픽 분류 모델"
      ],
      "metadata": {
        "id": "iX0y-gdNThvx"
      }
    },
    {
      "cell_type": "code",
      "source": [
        "file_path = 'NLP_classification_ynanaewstitles.pkl'\n",
        "import pickle\n",
        "with open(file_path,'rb') as pickle_file:\n",
        "  classification_topic = pickle.load(pickle_file)\n",
        "\n",
        "type(classification_topic)"
      ],
      "metadata": {
        "colab": {
          "base_uri": "https://localhost:8080/",
          "height": 239
        },
        "id": "_fAZeV24TSlj",
        "outputId": "28a5e262-7007-46ee-86d9-dc1e1c9fdc06"
      },
      "execution_count": 215,
      "outputs": [
        {
          "output_type": "execute_result",
          "data": {
            "text/plain": [
              "sklearn.ensemble._forest.RandomForestClassifier"
            ],
            "text/html": [
              "<div style=\"max-width:800px; border: 1px solid var(--colab-border-color);\"><style>\n",
              "      pre.function-repr-contents {\n",
              "        overflow-x: auto;\n",
              "        padding: 8px 12px;\n",
              "        max-height: 500px;\n",
              "      }\n",
              "\n",
              "      pre.function-repr-contents.function-repr-contents-collapsed {\n",
              "        cursor: pointer;\n",
              "        max-height: 100px;\n",
              "      }\n",
              "    </style>\n",
              "    <pre style=\"white-space: initial; background:\n",
              "         var(--colab-secondary-surface-color); padding: 8px 12px;\n",
              "         border-bottom: 1px solid var(--colab-border-color);\"><b>sklearn.ensemble._forest.RandomForestClassifier</b><br/>def __init__(n_estimators=100, *, criterion=&#x27;gini&#x27;, max_depth=None, min_samples_split=2, min_samples_leaf=1, min_weight_fraction_leaf=0.0, max_features=&#x27;sqrt&#x27;, max_leaf_nodes=None, min_impurity_decrease=0.0, bootstrap=True, oob_score=False, n_jobs=None, random_state=None, verbose=0, warm_start=False, class_weight=None, ccp_alpha=0.0, max_samples=None)</pre><pre class=\"function-repr-contents function-repr-contents-collapsed\" style=\"\"><a class=\"filepath\" style=\"display:none\" href=\"#\">/usr/local/lib/python3.10/dist-packages/sklearn/ensemble/_forest.py</a>A random forest classifier.\n",
              "\n",
              "A random forest is a meta estimator that fits a number of decision tree\n",
              "classifiers on various sub-samples of the dataset and uses averaging to\n",
              "improve the predictive accuracy and control over-fitting.\n",
              "The sub-sample size is controlled with the `max_samples` parameter if\n",
              "`bootstrap=True` (default), otherwise the whole dataset is used to build\n",
              "each tree.\n",
              "\n",
              "Read more in the :ref:`User Guide &lt;forest&gt;`.\n",
              "\n",
              "Parameters\n",
              "----------\n",
              "n_estimators : int, default=100\n",
              "    The number of trees in the forest.\n",
              "\n",
              "    .. versionchanged:: 0.22\n",
              "       The default value of ``n_estimators`` changed from 10 to 100\n",
              "       in 0.22.\n",
              "\n",
              "criterion : {&quot;gini&quot;, &quot;entropy&quot;, &quot;log_loss&quot;}, default=&quot;gini&quot;\n",
              "    The function to measure the quality of a split. Supported criteria are\n",
              "    &quot;gini&quot; for the Gini impurity and &quot;log_loss&quot; and &quot;entropy&quot; both for the\n",
              "    Shannon information gain, see :ref:`tree_mathematical_formulation`.\n",
              "    Note: This parameter is tree-specific.\n",
              "\n",
              "max_depth : int, default=None\n",
              "    The maximum depth of the tree. If None, then nodes are expanded until\n",
              "    all leaves are pure or until all leaves contain less than\n",
              "    min_samples_split samples.\n",
              "\n",
              "min_samples_split : int or float, default=2\n",
              "    The minimum number of samples required to split an internal node:\n",
              "\n",
              "    - If int, then consider `min_samples_split` as the minimum number.\n",
              "    - If float, then `min_samples_split` is a fraction and\n",
              "      `ceil(min_samples_split * n_samples)` are the minimum\n",
              "      number of samples for each split.\n",
              "\n",
              "    .. versionchanged:: 0.18\n",
              "       Added float values for fractions.\n",
              "\n",
              "min_samples_leaf : int or float, default=1\n",
              "    The minimum number of samples required to be at a leaf node.\n",
              "    A split point at any depth will only be considered if it leaves at\n",
              "    least ``min_samples_leaf`` training samples in each of the left and\n",
              "    right branches.  This may have the effect of smoothing the model,\n",
              "    especially in regression.\n",
              "\n",
              "    - If int, then consider `min_samples_leaf` as the minimum number.\n",
              "    - If float, then `min_samples_leaf` is a fraction and\n",
              "      `ceil(min_samples_leaf * n_samples)` are the minimum\n",
              "      number of samples for each node.\n",
              "\n",
              "    .. versionchanged:: 0.18\n",
              "       Added float values for fractions.\n",
              "\n",
              "min_weight_fraction_leaf : float, default=0.0\n",
              "    The minimum weighted fraction of the sum total of weights (of all\n",
              "    the input samples) required to be at a leaf node. Samples have\n",
              "    equal weight when sample_weight is not provided.\n",
              "\n",
              "max_features : {&quot;sqrt&quot;, &quot;log2&quot;, None}, int or float, default=&quot;sqrt&quot;\n",
              "    The number of features to consider when looking for the best split:\n",
              "\n",
              "    - If int, then consider `max_features` features at each split.\n",
              "    - If float, then `max_features` is a fraction and\n",
              "      `max(1, int(max_features * n_features_in_))` features are considered at each\n",
              "      split.\n",
              "    - If &quot;auto&quot;, then `max_features=sqrt(n_features)`.\n",
              "    - If &quot;sqrt&quot;, then `max_features=sqrt(n_features)`.\n",
              "    - If &quot;log2&quot;, then `max_features=log2(n_features)`.\n",
              "    - If None, then `max_features=n_features`.\n",
              "\n",
              "    .. versionchanged:: 1.1\n",
              "        The default of `max_features` changed from `&quot;auto&quot;` to `&quot;sqrt&quot;`.\n",
              "\n",
              "    .. deprecated:: 1.1\n",
              "        The `&quot;auto&quot;` option was deprecated in 1.1 and will be removed\n",
              "        in 1.3.\n",
              "\n",
              "    Note: the search for a split does not stop until at least one\n",
              "    valid partition of the node samples is found, even if it requires to\n",
              "    effectively inspect more than ``max_features`` features.\n",
              "\n",
              "max_leaf_nodes : int, default=None\n",
              "    Grow trees with ``max_leaf_nodes`` in best-first fashion.\n",
              "    Best nodes are defined as relative reduction in impurity.\n",
              "    If None then unlimited number of leaf nodes.\n",
              "\n",
              "min_impurity_decrease : float, default=0.0\n",
              "    A node will be split if this split induces a decrease of the impurity\n",
              "    greater than or equal to this value.\n",
              "\n",
              "    The weighted impurity decrease equation is the following::\n",
              "\n",
              "        N_t / N * (impurity - N_t_R / N_t * right_impurity\n",
              "                            - N_t_L / N_t * left_impurity)\n",
              "\n",
              "    where ``N`` is the total number of samples, ``N_t`` is the number of\n",
              "    samples at the current node, ``N_t_L`` is the number of samples in the\n",
              "    left child, and ``N_t_R`` is the number of samples in the right child.\n",
              "\n",
              "    ``N``, ``N_t``, ``N_t_R`` and ``N_t_L`` all refer to the weighted sum,\n",
              "    if ``sample_weight`` is passed.\n",
              "\n",
              "    .. versionadded:: 0.19\n",
              "\n",
              "bootstrap : bool, default=True\n",
              "    Whether bootstrap samples are used when building trees. If False, the\n",
              "    whole dataset is used to build each tree.\n",
              "\n",
              "oob_score : bool, default=False\n",
              "    Whether to use out-of-bag samples to estimate the generalization score.\n",
              "    Only available if bootstrap=True.\n",
              "\n",
              "n_jobs : int, default=None\n",
              "    The number of jobs to run in parallel. :meth:`fit`, :meth:`predict`,\n",
              "    :meth:`decision_path` and :meth:`apply` are all parallelized over the\n",
              "    trees. ``None`` means 1 unless in a :obj:`joblib.parallel_backend`\n",
              "    context. ``-1`` means using all processors. See :term:`Glossary\n",
              "    &lt;n_jobs&gt;` for more details.\n",
              "\n",
              "random_state : int, RandomState instance or None, default=None\n",
              "    Controls both the randomness of the bootstrapping of the samples used\n",
              "    when building trees (if ``bootstrap=True``) and the sampling of the\n",
              "    features to consider when looking for the best split at each node\n",
              "    (if ``max_features &lt; n_features``).\n",
              "    See :term:`Glossary &lt;random_state&gt;` for details.\n",
              "\n",
              "verbose : int, default=0\n",
              "    Controls the verbosity when fitting and predicting.\n",
              "\n",
              "warm_start : bool, default=False\n",
              "    When set to ``True``, reuse the solution of the previous call to fit\n",
              "    and add more estimators to the ensemble, otherwise, just fit a whole\n",
              "    new forest. See :term:`Glossary &lt;warm_start&gt;` and\n",
              "    :ref:`gradient_boosting_warm_start` for details.\n",
              "\n",
              "class_weight : {&quot;balanced&quot;, &quot;balanced_subsample&quot;}, dict or list of dicts,             default=None\n",
              "    Weights associated with classes in the form ``{class_label: weight}``.\n",
              "    If not given, all classes are supposed to have weight one. For\n",
              "    multi-output problems, a list of dicts can be provided in the same\n",
              "    order as the columns of y.\n",
              "\n",
              "    Note that for multioutput (including multilabel) weights should be\n",
              "    defined for each class of every column in its own dict. For example,\n",
              "    for four-class multilabel classification weights should be\n",
              "    [{0: 1, 1: 1}, {0: 1, 1: 5}, {0: 1, 1: 1}, {0: 1, 1: 1}] instead of\n",
              "    [{1:1}, {2:5}, {3:1}, {4:1}].\n",
              "\n",
              "    The &quot;balanced&quot; mode uses the values of y to automatically adjust\n",
              "    weights inversely proportional to class frequencies in the input data\n",
              "    as ``n_samples / (n_classes * np.bincount(y))``\n",
              "\n",
              "    The &quot;balanced_subsample&quot; mode is the same as &quot;balanced&quot; except that\n",
              "    weights are computed based on the bootstrap sample for every tree\n",
              "    grown.\n",
              "\n",
              "    For multi-output, the weights of each column of y will be multiplied.\n",
              "\n",
              "    Note that these weights will be multiplied with sample_weight (passed\n",
              "    through the fit method) if sample_weight is specified.\n",
              "\n",
              "ccp_alpha : non-negative float, default=0.0\n",
              "    Complexity parameter used for Minimal Cost-Complexity Pruning. The\n",
              "    subtree with the largest cost complexity that is smaller than\n",
              "    ``ccp_alpha`` will be chosen. By default, no pruning is performed. See\n",
              "    :ref:`minimal_cost_complexity_pruning` for details.\n",
              "\n",
              "    .. versionadded:: 0.22\n",
              "\n",
              "max_samples : int or float, default=None\n",
              "    If bootstrap is True, the number of samples to draw from X\n",
              "    to train each base estimator.\n",
              "\n",
              "    - If None (default), then draw `X.shape[0]` samples.\n",
              "    - If int, then draw `max_samples` samples.\n",
              "    - If float, then draw `max_samples * X.shape[0]` samples. Thus,\n",
              "      `max_samples` should be in the interval `(0.0, 1.0]`.\n",
              "\n",
              "    .. versionadded:: 0.22\n",
              "\n",
              "Attributes\n",
              "----------\n",
              "estimator_ : :class:`~sklearn.tree.DecisionTreeClassifier`\n",
              "    The child estimator template used to create the collection of fitted\n",
              "    sub-estimators.\n",
              "\n",
              "    .. versionadded:: 1.2\n",
              "       `base_estimator_` was renamed to `estimator_`.\n",
              "\n",
              "base_estimator_ : DecisionTreeClassifier\n",
              "    The child estimator template used to create the collection of fitted\n",
              "    sub-estimators.\n",
              "\n",
              "    .. deprecated:: 1.2\n",
              "        `base_estimator_` is deprecated and will be removed in 1.4.\n",
              "        Use `estimator_` instead.\n",
              "\n",
              "estimators_ : list of DecisionTreeClassifier\n",
              "    The collection of fitted sub-estimators.\n",
              "\n",
              "classes_ : ndarray of shape (n_classes,) or a list of such arrays\n",
              "    The classes labels (single output problem), or a list of arrays of\n",
              "    class labels (multi-output problem).\n",
              "\n",
              "n_classes_ : int or list\n",
              "    The number of classes (single output problem), or a list containing the\n",
              "    number of classes for each output (multi-output problem).\n",
              "\n",
              "n_features_in_ : int\n",
              "    Number of features seen during :term:`fit`.\n",
              "\n",
              "    .. versionadded:: 0.24\n",
              "\n",
              "feature_names_in_ : ndarray of shape (`n_features_in_`,)\n",
              "    Names of features seen during :term:`fit`. Defined only when `X`\n",
              "    has feature names that are all strings.\n",
              "\n",
              "    .. versionadded:: 1.0\n",
              "\n",
              "n_outputs_ : int\n",
              "    The number of outputs when ``fit`` is performed.\n",
              "\n",
              "feature_importances_ : ndarray of shape (n_features,)\n",
              "    The impurity-based feature importances.\n",
              "    The higher, the more important the feature.\n",
              "    The importance of a feature is computed as the (normalized)\n",
              "    total reduction of the criterion brought by that feature.  It is also\n",
              "    known as the Gini importance.\n",
              "\n",
              "    Warning: impurity-based feature importances can be misleading for\n",
              "    high cardinality features (many unique values). See\n",
              "    :func:`sklearn.inspection.permutation_importance` as an alternative.\n",
              "\n",
              "oob_score_ : float\n",
              "    Score of the training dataset obtained using an out-of-bag estimate.\n",
              "    This attribute exists only when ``oob_score`` is True.\n",
              "\n",
              "oob_decision_function_ : ndarray of shape (n_samples, n_classes) or             (n_samples, n_classes, n_outputs)\n",
              "    Decision function computed with out-of-bag estimate on the training\n",
              "    set. If n_estimators is small it might be possible that a data point\n",
              "    was never left out during the bootstrap. In this case,\n",
              "    `oob_decision_function_` might contain NaN. This attribute exists\n",
              "    only when ``oob_score`` is True.\n",
              "\n",
              "See Also\n",
              "--------\n",
              "sklearn.tree.DecisionTreeClassifier : A decision tree classifier.\n",
              "sklearn.ensemble.ExtraTreesClassifier : Ensemble of extremely randomized\n",
              "    tree classifiers.\n",
              "\n",
              "Notes\n",
              "-----\n",
              "The default values for the parameters controlling the size of the trees\n",
              "(e.g. ``max_depth``, ``min_samples_leaf``, etc.) lead to fully grown and\n",
              "unpruned trees which can potentially be very large on some data sets. To\n",
              "reduce memory consumption, the complexity and size of the trees should be\n",
              "controlled by setting those parameter values.\n",
              "\n",
              "The features are always randomly permuted at each split. Therefore,\n",
              "the best found split may vary, even with the same training data,\n",
              "``max_features=n_features`` and ``bootstrap=False``, if the improvement\n",
              "of the criterion is identical for several splits enumerated during the\n",
              "search of the best split. To obtain a deterministic behaviour during\n",
              "fitting, ``random_state`` has to be fixed.\n",
              "\n",
              "References\n",
              "----------\n",
              ".. [1] L. Breiman, &quot;Random Forests&quot;, Machine Learning, 45(1), 5-32, 2001.\n",
              "\n",
              "Examples\n",
              "--------\n",
              "&gt;&gt;&gt; from sklearn.ensemble import RandomForestClassifier\n",
              "&gt;&gt;&gt; from sklearn.datasets import make_classification\n",
              "&gt;&gt;&gt; X, y = make_classification(n_samples=1000, n_features=4,\n",
              "...                            n_informative=2, n_redundant=0,\n",
              "...                            random_state=0, shuffle=False)\n",
              "&gt;&gt;&gt; clf = RandomForestClassifier(max_depth=2, random_state=0)\n",
              "&gt;&gt;&gt; clf.fit(X, y)\n",
              "RandomForestClassifier(...)\n",
              "&gt;&gt;&gt; print(clf.predict([[0, 0, 0, 0]]))\n",
              "[1]</pre>\n",
              "      <script>\n",
              "      if (google.colab.kernel.accessAllowed && google.colab.files && google.colab.files.view) {\n",
              "        for (const element of document.querySelectorAll('.filepath')) {\n",
              "          element.style.display = 'block'\n",
              "          element.onclick = (event) => {\n",
              "            event.preventDefault();\n",
              "            event.stopPropagation();\n",
              "            google.colab.files.view(element.textContent, 1081);\n",
              "          };\n",
              "        }\n",
              "      }\n",
              "      for (const element of document.querySelectorAll('.function-repr-contents')) {\n",
              "        element.onclick = (event) => {\n",
              "          event.preventDefault();\n",
              "          event.stopPropagation();\n",
              "          element.classList.toggle('function-repr-contents-collapsed');\n",
              "        };\n",
              "      }\n",
              "      </script>\n",
              "      </div>"
            ]
          },
          "metadata": {},
          "execution_count": 215
        }
      ]
    },
    {
      "cell_type": "code",
      "source": [
        "# pickle 불러오기\n",
        "file_path = 'sentence_tokenizing.pkl'\n",
        "import pickle\n",
        "with open(file_path,'rb') as pickle_file:\n",
        "  sentence_tokenizing = pickle.load(pickle_file)\n",
        "\n",
        "type(sentence_tokenizing)"
      ],
      "metadata": {
        "colab": {
          "base_uri": "https://localhost:8080/",
          "height": 239
        },
        "id": "OtkgA5ToSKqr",
        "outputId": "a3221d58-0638-450d-b784-213ab1f3740a"
      },
      "execution_count": 216,
      "outputs": [
        {
          "output_type": "execute_result",
          "data": {
            "text/plain": [
              "sklearn.feature_extraction.text.TfidfVectorizer"
            ],
            "text/html": [
              "<div style=\"max-width:800px; border: 1px solid var(--colab-border-color);\"><style>\n",
              "      pre.function-repr-contents {\n",
              "        overflow-x: auto;\n",
              "        padding: 8px 12px;\n",
              "        max-height: 500px;\n",
              "      }\n",
              "\n",
              "      pre.function-repr-contents.function-repr-contents-collapsed {\n",
              "        cursor: pointer;\n",
              "        max-height: 100px;\n",
              "      }\n",
              "    </style>\n",
              "    <pre style=\"white-space: initial; background:\n",
              "         var(--colab-secondary-surface-color); padding: 8px 12px;\n",
              "         border-bottom: 1px solid var(--colab-border-color);\"><b>sklearn.feature_extraction.text.TfidfVectorizer</b><br/>def __init__(*, input=&#x27;content&#x27;, encoding=&#x27;utf-8&#x27;, decode_error=&#x27;strict&#x27;, strip_accents=None, lowercase=True, preprocessor=None, tokenizer=None, analyzer=&#x27;word&#x27;, stop_words=None, token_pattern=&#x27;(?u)\\\\b\\\\w\\\\w+\\\\b&#x27;, ngram_range=(1, 1), max_df=1.0, min_df=1, max_features=None, vocabulary=None, binary=False, dtype=np.float64, norm=&#x27;l2&#x27;, use_idf=True, smooth_idf=True, sublinear_tf=False)</pre><pre class=\"function-repr-contents function-repr-contents-collapsed\" style=\"\"><a class=\"filepath\" style=\"display:none\" href=\"#\">/usr/local/lib/python3.10/dist-packages/sklearn/feature_extraction/text.py</a>Convert a collection of raw documents to a matrix of TF-IDF features.\n",
              "\n",
              "Equivalent to :class:`CountVectorizer` followed by\n",
              ":class:`TfidfTransformer`.\n",
              "\n",
              "Read more in the :ref:`User Guide &lt;text_feature_extraction&gt;`.\n",
              "\n",
              "Parameters\n",
              "----------\n",
              "input : {&#x27;filename&#x27;, &#x27;file&#x27;, &#x27;content&#x27;}, default=&#x27;content&#x27;\n",
              "    - If `&#x27;filename&#x27;`, the sequence passed as an argument to fit is\n",
              "      expected to be a list of filenames that need reading to fetch\n",
              "      the raw content to analyze.\n",
              "\n",
              "    - If `&#x27;file&#x27;`, the sequence items must have a &#x27;read&#x27; method (file-like\n",
              "      object) that is called to fetch the bytes in memory.\n",
              "\n",
              "    - If `&#x27;content&#x27;`, the input is expected to be a sequence of items that\n",
              "      can be of type string or byte.\n",
              "\n",
              "encoding : str, default=&#x27;utf-8&#x27;\n",
              "    If bytes or files are given to analyze, this encoding is used to\n",
              "    decode.\n",
              "\n",
              "decode_error : {&#x27;strict&#x27;, &#x27;ignore&#x27;, &#x27;replace&#x27;}, default=&#x27;strict&#x27;\n",
              "    Instruction on what to do if a byte sequence is given to analyze that\n",
              "    contains characters not of the given `encoding`. By default, it is\n",
              "    &#x27;strict&#x27;, meaning that a UnicodeDecodeError will be raised. Other\n",
              "    values are &#x27;ignore&#x27; and &#x27;replace&#x27;.\n",
              "\n",
              "strip_accents : {&#x27;ascii&#x27;, &#x27;unicode&#x27;} or callable, default=None\n",
              "    Remove accents and perform other character normalization\n",
              "    during the preprocessing step.\n",
              "    &#x27;ascii&#x27; is a fast method that only works on characters that have\n",
              "    a direct ASCII mapping.\n",
              "    &#x27;unicode&#x27; is a slightly slower method that works on any characters.\n",
              "    None (default) does nothing.\n",
              "\n",
              "    Both &#x27;ascii&#x27; and &#x27;unicode&#x27; use NFKD normalization from\n",
              "    :func:`unicodedata.normalize`.\n",
              "\n",
              "lowercase : bool, default=True\n",
              "    Convert all characters to lowercase before tokenizing.\n",
              "\n",
              "preprocessor : callable, default=None\n",
              "    Override the preprocessing (string transformation) stage while\n",
              "    preserving the tokenizing and n-grams generation steps.\n",
              "    Only applies if ``analyzer`` is not callable.\n",
              "\n",
              "tokenizer : callable, default=None\n",
              "    Override the string tokenization step while preserving the\n",
              "    preprocessing and n-grams generation steps.\n",
              "    Only applies if ``analyzer == &#x27;word&#x27;``.\n",
              "\n",
              "analyzer : {&#x27;word&#x27;, &#x27;char&#x27;, &#x27;char_wb&#x27;} or callable, default=&#x27;word&#x27;\n",
              "    Whether the feature should be made of word or character n-grams.\n",
              "    Option &#x27;char_wb&#x27; creates character n-grams only from text inside\n",
              "    word boundaries; n-grams at the edges of words are padded with space.\n",
              "\n",
              "    If a callable is passed it is used to extract the sequence of features\n",
              "    out of the raw, unprocessed input.\n",
              "\n",
              "    .. versionchanged:: 0.21\n",
              "        Since v0.21, if ``input`` is ``&#x27;filename&#x27;`` or ``&#x27;file&#x27;``, the data\n",
              "        is first read from the file and then passed to the given callable\n",
              "        analyzer.\n",
              "\n",
              "stop_words : {&#x27;english&#x27;}, list, default=None\n",
              "    If a string, it is passed to _check_stop_list and the appropriate stop\n",
              "    list is returned. &#x27;english&#x27; is currently the only supported string\n",
              "    value.\n",
              "    There are several known issues with &#x27;english&#x27; and you should\n",
              "    consider an alternative (see :ref:`stop_words`).\n",
              "\n",
              "    If a list, that list is assumed to contain stop words, all of which\n",
              "    will be removed from the resulting tokens.\n",
              "    Only applies if ``analyzer == &#x27;word&#x27;``.\n",
              "\n",
              "    If None, no stop words will be used. In this case, setting `max_df`\n",
              "    to a higher value, such as in the range (0.7, 1.0), can automatically detect\n",
              "    and filter stop words based on intra corpus document frequency of terms.\n",
              "\n",
              "token_pattern : str, default=r&quot;(?u)\\\\b\\\\w\\\\w+\\\\b&quot;\n",
              "    Regular expression denoting what constitutes a &quot;token&quot;, only used\n",
              "    if ``analyzer == &#x27;word&#x27;``. The default regexp selects tokens of 2\n",
              "    or more alphanumeric characters (punctuation is completely ignored\n",
              "    and always treated as a token separator).\n",
              "\n",
              "    If there is a capturing group in token_pattern then the\n",
              "    captured group content, not the entire match, becomes the token.\n",
              "    At most one capturing group is permitted.\n",
              "\n",
              "ngram_range : tuple (min_n, max_n), default=(1, 1)\n",
              "    The lower and upper boundary of the range of n-values for different\n",
              "    n-grams to be extracted. All values of n such that min_n &lt;= n &lt;= max_n\n",
              "    will be used. For example an ``ngram_range`` of ``(1, 1)`` means only\n",
              "    unigrams, ``(1, 2)`` means unigrams and bigrams, and ``(2, 2)`` means\n",
              "    only bigrams.\n",
              "    Only applies if ``analyzer`` is not callable.\n",
              "\n",
              "max_df : float or int, default=1.0\n",
              "    When building the vocabulary ignore terms that have a document\n",
              "    frequency strictly higher than the given threshold (corpus-specific\n",
              "    stop words).\n",
              "    If float in range [0.0, 1.0], the parameter represents a proportion of\n",
              "    documents, integer absolute counts.\n",
              "    This parameter is ignored if vocabulary is not None.\n",
              "\n",
              "min_df : float or int, default=1\n",
              "    When building the vocabulary ignore terms that have a document\n",
              "    frequency strictly lower than the given threshold. This value is also\n",
              "    called cut-off in the literature.\n",
              "    If float in range of [0.0, 1.0], the parameter represents a proportion\n",
              "    of documents, integer absolute counts.\n",
              "    This parameter is ignored if vocabulary is not None.\n",
              "\n",
              "max_features : int, default=None\n",
              "    If not None, build a vocabulary that only consider the top\n",
              "    `max_features` ordered by term frequency across the corpus.\n",
              "    Otherwise, all features are used.\n",
              "\n",
              "    This parameter is ignored if vocabulary is not None.\n",
              "\n",
              "vocabulary : Mapping or iterable, default=None\n",
              "    Either a Mapping (e.g., a dict) where keys are terms and values are\n",
              "    indices in the feature matrix, or an iterable over terms. If not\n",
              "    given, a vocabulary is determined from the input documents.\n",
              "\n",
              "binary : bool, default=False\n",
              "    If True, all non-zero term counts are set to 1. This does not mean\n",
              "    outputs will have only 0/1 values, only that the tf term in tf-idf\n",
              "    is binary. (Set idf and normalization to False to get 0/1 outputs).\n",
              "\n",
              "dtype : dtype, default=float64\n",
              "    Type of the matrix returned by fit_transform() or transform().\n",
              "\n",
              "norm : {&#x27;l1&#x27;, &#x27;l2&#x27;} or None, default=&#x27;l2&#x27;\n",
              "    Each output row will have unit norm, either:\n",
              "\n",
              "    - &#x27;l2&#x27;: Sum of squares of vector elements is 1. The cosine\n",
              "      similarity between two vectors is their dot product when l2 norm has\n",
              "      been applied.\n",
              "    - &#x27;l1&#x27;: Sum of absolute values of vector elements is 1.\n",
              "      See :func:`preprocessing.normalize`.\n",
              "    - None: No normalization.\n",
              "\n",
              "use_idf : bool, default=True\n",
              "    Enable inverse-document-frequency reweighting. If False, idf(t) = 1.\n",
              "\n",
              "smooth_idf : bool, default=True\n",
              "    Smooth idf weights by adding one to document frequencies, as if an\n",
              "    extra document was seen containing every term in the collection\n",
              "    exactly once. Prevents zero divisions.\n",
              "\n",
              "sublinear_tf : bool, default=False\n",
              "    Apply sublinear tf scaling, i.e. replace tf with 1 + log(tf).\n",
              "\n",
              "Attributes\n",
              "----------\n",
              "vocabulary_ : dict\n",
              "    A mapping of terms to feature indices.\n",
              "\n",
              "fixed_vocabulary_ : bool\n",
              "    True if a fixed vocabulary of term to indices mapping\n",
              "    is provided by the user.\n",
              "\n",
              "idf_ : array of shape (n_features,)\n",
              "    The inverse document frequency (IDF) vector; only defined\n",
              "    if ``use_idf`` is True.\n",
              "\n",
              "stop_words_ : set\n",
              "    Terms that were ignored because they either:\n",
              "\n",
              "      - occurred in too many documents (`max_df`)\n",
              "      - occurred in too few documents (`min_df`)\n",
              "      - were cut off by feature selection (`max_features`).\n",
              "\n",
              "    This is only available if no vocabulary was given.\n",
              "\n",
              "See Also\n",
              "--------\n",
              "CountVectorizer : Transforms text into a sparse matrix of n-gram counts.\n",
              "\n",
              "TfidfTransformer : Performs the TF-IDF transformation from a provided\n",
              "    matrix of counts.\n",
              "\n",
              "Notes\n",
              "-----\n",
              "The ``stop_words_`` attribute can get large and increase the model size\n",
              "when pickling. This attribute is provided only for introspection and can\n",
              "be safely removed using delattr or set to None before pickling.\n",
              "\n",
              "Examples\n",
              "--------\n",
              "&gt;&gt;&gt; from sklearn.feature_extraction.text import TfidfVectorizer\n",
              "&gt;&gt;&gt; corpus = [\n",
              "...     &#x27;This is the first document.&#x27;,\n",
              "...     &#x27;This document is the second document.&#x27;,\n",
              "...     &#x27;And this is the third one.&#x27;,\n",
              "...     &#x27;Is this the first document?&#x27;,\n",
              "... ]\n",
              "&gt;&gt;&gt; vectorizer = TfidfVectorizer()\n",
              "&gt;&gt;&gt; X = vectorizer.fit_transform(corpus)\n",
              "&gt;&gt;&gt; vectorizer.get_feature_names_out()\n",
              "array([&#x27;and&#x27;, &#x27;document&#x27;, &#x27;first&#x27;, &#x27;is&#x27;, &#x27;one&#x27;, &#x27;second&#x27;, &#x27;the&#x27;, &#x27;third&#x27;,\n",
              "       &#x27;this&#x27;], ...)\n",
              "&gt;&gt;&gt; print(X.shape)\n",
              "(4, 9)</pre>\n",
              "      <script>\n",
              "      if (google.colab.kernel.accessAllowed && google.colab.files && google.colab.files.view) {\n",
              "        for (const element of document.querySelectorAll('.filepath')) {\n",
              "          element.style.display = 'block'\n",
              "          element.onclick = (event) => {\n",
              "            event.preventDefault();\n",
              "            event.stopPropagation();\n",
              "            google.colab.files.view(element.textContent, 1758);\n",
              "          };\n",
              "        }\n",
              "      }\n",
              "      for (const element of document.querySelectorAll('.function-repr-contents')) {\n",
              "        element.onclick = (event) => {\n",
              "          event.preventDefault();\n",
              "          event.stopPropagation();\n",
              "          element.classList.toggle('function-repr-contents-collapsed');\n",
              "        };\n",
              "      }\n",
              "      </script>\n",
              "      </div>"
            ]
          },
          "metadata": {},
          "execution_count": 216
        }
      ]
    },
    {
      "cell_type": "markdown",
      "source": [
        "## 한글처리"
      ],
      "metadata": {
        "id": "Y00cIUvArtk5"
      }
    },
    {
      "cell_type": "code",
      "source": [
        "!apt-get -y install fonts-nanum\n",
        "!fc-cache -fv\n",
        "!rm ~/.cache/matplotlib -rf"
      ],
      "metadata": {
        "colab": {
          "base_uri": "https://localhost:8080/"
        },
        "id": "nVtYk4hkrsZQ",
        "outputId": "32a0e039-4841-4d70-999f-07652e9ddbb4"
      },
      "execution_count": 217,
      "outputs": [
        {
          "output_type": "stream",
          "name": "stdout",
          "text": [
            "Reading package lists... Done\n",
            "Building dependency tree... Done\n",
            "Reading state information... Done\n",
            "fonts-nanum is already the newest version (20200506-1).\n",
            "0 upgraded, 0 newly installed, 0 to remove and 33 not upgraded.\n",
            "/usr/share/fonts: caching, new cache contents: 0 fonts, 1 dirs\n",
            "/usr/share/fonts/truetype: caching, new cache contents: 0 fonts, 3 dirs\n",
            "/usr/share/fonts/truetype/humor-sans: caching, new cache contents: 1 fonts, 0 dirs\n",
            "/usr/share/fonts/truetype/liberation: caching, new cache contents: 16 fonts, 0 dirs\n",
            "/usr/share/fonts/truetype/nanum: caching, new cache contents: 12 fonts, 0 dirs\n",
            "/usr/local/share/fonts: caching, new cache contents: 0 fonts, 0 dirs\n",
            "/root/.local/share/fonts: skipping, no such directory\n",
            "/root/.fonts: skipping, no such directory\n",
            "/usr/share/fonts/truetype: skipping, looped directory detected\n",
            "/usr/share/fonts/truetype/humor-sans: skipping, looped directory detected\n",
            "/usr/share/fonts/truetype/liberation: skipping, looped directory detected\n",
            "/usr/share/fonts/truetype/nanum: skipping, looped directory detected\n",
            "/var/cache/fontconfig: cleaning cache directory\n",
            "/root/.cache/fontconfig: not cleaning non-existent cache directory\n",
            "/root/.fontconfig: not cleaning non-existent cache directory\n",
            "fc-cache: succeeded\n"
          ]
        }
      ]
    },
    {
      "cell_type": "code",
      "source": [
        "!ls /usr/share/fonts/truetype/nanum/NanumBarunGothic.ttf"
      ],
      "metadata": {
        "id": "Axwqiojwt0Om",
        "outputId": "96668fef-b2a1-409e-925b-f9461f025b71",
        "colab": {
          "base_uri": "https://localhost:8080/"
        }
      },
      "execution_count": 218,
      "outputs": [
        {
          "output_type": "stream",
          "name": "stdout",
          "text": [
            "/usr/share/fonts/truetype/nanum/NanumBarunGothic.ttf\n"
          ]
        }
      ]
    },
    {
      "cell_type": "markdown",
      "source": [
        "## 사용할 데이터 불러오기 및 전처리"
      ],
      "metadata": {
        "id": "JKmwa8WcT4nP"
      }
    },
    {
      "cell_type": "code",
      "execution_count": 219,
      "metadata": {
        "colab": {
          "base_uri": "https://localhost:8080/"
        },
        "id": "Rz1_JcaRNCnS",
        "outputId": "19610bbc-9a28-43cf-d767-dffa2027663c"
      },
      "outputs": [
        {
          "output_type": "execute_result",
          "data": {
            "text/plain": [
              "45"
            ]
          },
          "metadata": {},
          "execution_count": 219
        }
      ],
      "source": [
        "# 파일 불러오기\n",
        "import pandas as pd\n",
        "df_IT_news = pd.read_excel('IT News.xlsx', sheet_name = None)\n",
        "topic = pd.read_csv(\"topic_dict.csv\")\n",
        "len(df_IT_news)"
      ]
    },
    {
      "cell_type": "code",
      "source": [
        "df_sheets = []\n",
        "for sheet_name, df in df_IT_news.items():\n",
        "  df_sheets.append(df)\n",
        "  df_sheets[-1].loc[:,'문장 요약'].fillna(\"\",inplace=True)\n",
        "df_sheets[0]"
      ],
      "metadata": {
        "colab": {
          "base_uri": "https://localhost:8080/",
          "height": 798
        },
        "id": "5fF8xrG3N236",
        "outputId": "fab9dc24-687c-4fee-c6c6-250dfe01c0eb"
      },
      "execution_count": 220,
      "outputs": [
        {
          "output_type": "execute_result",
          "data": {
            "text/plain": [
              "     이름   선호도 투표                                      뉴스명  \\\n",
              "0   문석천      NaN             개보위 \"맞춤형 광고 개인정보 처리 투명성 높인다\"   \n",
              "1   김유진      1.0                 카카오쇼핑 모바일 교환권, 삼성페이에서 쓴다   \n",
              "2   노주현      1.0                       AI로 인간추론능력 40% 높였다   \n",
              "3   김하늘     11.0                       인간 뇌조직으로 컴퓨터 구축 성공   \n",
              "4   박요한      NaN  주담대 갈아타기 대박 낸 네이버·카카오페이 '전월세대출 갈아타기' 출시   \n",
              "5   오지수      NaN       \"쇼핑몰 매장·화장실 위치 한눈에\"…카카오맵, 실내지도 서비스   \n",
              "6   김명준  11111.0      뇌 안에 컴퓨터 있다... 머스크의 ‘뉴럴링크’, 칩 이식 성공   \n",
              "7   공명윤      NaN                                      NaN   \n",
              "8   한동철      NaN                                      NaN   \n",
              "9   조유경      NaN    중고거래 플랫폼 구입 에어프라이어, 불량인데 판매자 연락도 안된다?   \n",
              "10  김덕재      NaN      음악가 71% \"AI로 생계 잃을 것\" 우려…작사·작곡에는 활용   \n",
              "11  김경하      NaN                                      NaN   \n",
              "12  서정민      NaN                                      NaN   \n",
              "13  장영지      1.0      내 콘텐츠로 무단학습하는 AI… 그림에 `독`타서 저작권 지킨다   \n",
              "14  오상훈      NaN                                      NaN   \n",
              "\n",
              "                                                문장 요약  \\\n",
              "0   정부가 맞춤형 광고에 사용되는 개인정보 처리 투명성을 높인다. 앞으로 광고 사업자와...   \n",
              "1   카카오톡 선물하기에서 선물 받은 모바일 교환권을 삼성페이와 연동할 수 있다. 선물함...   \n",
              "2   KAIST는 이상완 뇌인지과학과 교수 연구팀이 인간의 빠른 추론 능력을 유도해 인과...   \n",
              "3   인간 줄기세포로 만든 뇌조직(미니 뇌)을 전자칩에 연결한 '브레인웨이'를 구축해 간...   \n",
              "4   네이버페이와 카카오페이(377300)가 '전월세대출 갈아타기' 서비스를 출시한다고 ...   \n",
              "5   카카오의 위치 기반 라이프플랫폼 카카오맵은 백화점, 아울렛, 대형 쇼핑몰 등 국내 ...   \n",
              "6   사람의 뇌에 칩을 심어 질병과 장애를 극복하는 공상과학(SF) 영화가 현실이 되고 ...   \n",
              "7                                                       \n",
              "8                                                       \n",
              "9             중고거래 플랫폼 사용량의 급증으로 중고물품 피해사례도 급증하고 있다.    \n",
              "10  프랑스·독일의 음악가 열에 일곱은 생성형 인공지능(AI)으로 생계에 위협을 느낀다는...   \n",
              "11                                                      \n",
              "12                                                      \n",
              "13  AI 모델들이 저작물을 무단 학습하는 것을 막기 위한 '나이트셰이드(Nightsha...   \n",
              "14                                                      \n",
              "\n",
              "                                                 한 줄평  \n",
              "0   개인 정보 관리 및 처리의 투명성을 높여야 한다고 생각했는데 정부가 이와 관련하여 ...  \n",
              "1   이용자들은 카페, 식당, 영화관 등에서 삼성페이를 켜고 해당 모바일 교환권을 터치해...  \n",
              "2                 멀지 않은 미래에는 교육의 방식에도 많은 변화가 있을 것 같다.  \n",
              "3    인간의 뇌를 완전히 이해하지 못한 상황에서 과연 인간의 뇌를 흉내낼 수 있을지 모르겠다  \n",
              "4            주택담보대출에 대한 차입 증권화등을 통해 STO 사업이 가능하지 않을까?  \n",
              "5      카카오맵 유입/네이버지도 이탈 증가와 지도 서비스 내 광고 효과의 확대가 예상된다.  \n",
              "6   뇌는 지금까지 10%도 파악하지 못한 미지의 영역이기에 뇌의 신호를 제대로 포착하고...  \n",
              "7                                                 NaN  \n",
              "8                                                 NaN  \n",
              "9   대형 중고거래 플랫폼들은 자체 분쟁조정센터를 운영하여 이에 대한 대책을 마련하고 있...  \n",
              "10                       AI의 발전도에 따라 산업의 방향성도 변화하고 있다  \n",
              "11                                                NaN  \n",
              "12                                                NaN  \n",
              "13           저작권이 있는 저작물을 무단 학습시키는 것에 대한 규제가 이루어져야한다.  \n",
              "14                                                NaN  "
            ],
            "text/html": [
              "\n",
              "  <div id=\"df-e8b26017-ab3b-46c8-80f9-da491f1efc81\" class=\"colab-df-container\">\n",
              "    <div>\n",
              "<style scoped>\n",
              "    .dataframe tbody tr th:only-of-type {\n",
              "        vertical-align: middle;\n",
              "    }\n",
              "\n",
              "    .dataframe tbody tr th {\n",
              "        vertical-align: top;\n",
              "    }\n",
              "\n",
              "    .dataframe thead th {\n",
              "        text-align: right;\n",
              "    }\n",
              "</style>\n",
              "<table border=\"1\" class=\"dataframe\">\n",
              "  <thead>\n",
              "    <tr style=\"text-align: right;\">\n",
              "      <th></th>\n",
              "      <th>이름</th>\n",
              "      <th>선호도 투표</th>\n",
              "      <th>뉴스명</th>\n",
              "      <th>문장 요약</th>\n",
              "      <th>한 줄평</th>\n",
              "    </tr>\n",
              "  </thead>\n",
              "  <tbody>\n",
              "    <tr>\n",
              "      <th>0</th>\n",
              "      <td>문석천</td>\n",
              "      <td>NaN</td>\n",
              "      <td>개보위 \"맞춤형 광고 개인정보 처리 투명성 높인다\"</td>\n",
              "      <td>정부가 맞춤형 광고에 사용되는 개인정보 처리 투명성을 높인다. 앞으로 광고 사업자와...</td>\n",
              "      <td>개인 정보 관리 및 처리의 투명성을 높여야 한다고 생각했는데 정부가 이와 관련하여 ...</td>\n",
              "    </tr>\n",
              "    <tr>\n",
              "      <th>1</th>\n",
              "      <td>김유진</td>\n",
              "      <td>1.0</td>\n",
              "      <td>카카오쇼핑 모바일 교환권, 삼성페이에서 쓴다</td>\n",
              "      <td>카카오톡 선물하기에서 선물 받은 모바일 교환권을 삼성페이와 연동할 수 있다. 선물함...</td>\n",
              "      <td>이용자들은 카페, 식당, 영화관 등에서 삼성페이를 켜고 해당 모바일 교환권을 터치해...</td>\n",
              "    </tr>\n",
              "    <tr>\n",
              "      <th>2</th>\n",
              "      <td>노주현</td>\n",
              "      <td>1.0</td>\n",
              "      <td>AI로 인간추론능력 40% 높였다</td>\n",
              "      <td>KAIST는 이상완 뇌인지과학과 교수 연구팀이 인간의 빠른 추론 능력을 유도해 인과...</td>\n",
              "      <td>멀지 않은 미래에는 교육의 방식에도 많은 변화가 있을 것 같다.</td>\n",
              "    </tr>\n",
              "    <tr>\n",
              "      <th>3</th>\n",
              "      <td>김하늘</td>\n",
              "      <td>11.0</td>\n",
              "      <td>인간 뇌조직으로 컴퓨터 구축 성공</td>\n",
              "      <td>인간 줄기세포로 만든 뇌조직(미니 뇌)을 전자칩에 연결한 '브레인웨이'를 구축해 간...</td>\n",
              "      <td>인간의 뇌를 완전히 이해하지 못한 상황에서 과연 인간의 뇌를 흉내낼 수 있을지 모르겠다</td>\n",
              "    </tr>\n",
              "    <tr>\n",
              "      <th>4</th>\n",
              "      <td>박요한</td>\n",
              "      <td>NaN</td>\n",
              "      <td>주담대 갈아타기 대박 낸 네이버·카카오페이 '전월세대출 갈아타기' 출시</td>\n",
              "      <td>네이버페이와 카카오페이(377300)가 '전월세대출 갈아타기' 서비스를 출시한다고 ...</td>\n",
              "      <td>주택담보대출에 대한 차입 증권화등을 통해 STO 사업이 가능하지 않을까?</td>\n",
              "    </tr>\n",
              "    <tr>\n",
              "      <th>5</th>\n",
              "      <td>오지수</td>\n",
              "      <td>NaN</td>\n",
              "      <td>\"쇼핑몰 매장·화장실 위치 한눈에\"…카카오맵, 실내지도 서비스</td>\n",
              "      <td>카카오의 위치 기반 라이프플랫폼 카카오맵은 백화점, 아울렛, 대형 쇼핑몰 등 국내 ...</td>\n",
              "      <td>카카오맵 유입/네이버지도 이탈 증가와 지도 서비스 내 광고 효과의 확대가 예상된다.</td>\n",
              "    </tr>\n",
              "    <tr>\n",
              "      <th>6</th>\n",
              "      <td>김명준</td>\n",
              "      <td>11111.0</td>\n",
              "      <td>뇌 안에 컴퓨터 있다... 머스크의 ‘뉴럴링크’, 칩 이식 성공</td>\n",
              "      <td>사람의 뇌에 칩을 심어 질병과 장애를 극복하는 공상과학(SF) 영화가 현실이 되고 ...</td>\n",
              "      <td>뇌는 지금까지 10%도 파악하지 못한 미지의 영역이기에 뇌의 신호를 제대로 포착하고...</td>\n",
              "    </tr>\n",
              "    <tr>\n",
              "      <th>7</th>\n",
              "      <td>공명윤</td>\n",
              "      <td>NaN</td>\n",
              "      <td>NaN</td>\n",
              "      <td></td>\n",
              "      <td>NaN</td>\n",
              "    </tr>\n",
              "    <tr>\n",
              "      <th>8</th>\n",
              "      <td>한동철</td>\n",
              "      <td>NaN</td>\n",
              "      <td>NaN</td>\n",
              "      <td></td>\n",
              "      <td>NaN</td>\n",
              "    </tr>\n",
              "    <tr>\n",
              "      <th>9</th>\n",
              "      <td>조유경</td>\n",
              "      <td>NaN</td>\n",
              "      <td>중고거래 플랫폼 구입 에어프라이어, 불량인데 판매자 연락도 안된다?</td>\n",
              "      <td>중고거래 플랫폼 사용량의 급증으로 중고물품 피해사례도 급증하고 있다.</td>\n",
              "      <td>대형 중고거래 플랫폼들은 자체 분쟁조정센터를 운영하여 이에 대한 대책을 마련하고 있...</td>\n",
              "    </tr>\n",
              "    <tr>\n",
              "      <th>10</th>\n",
              "      <td>김덕재</td>\n",
              "      <td>NaN</td>\n",
              "      <td>음악가 71% \"AI로 생계 잃을 것\" 우려…작사·작곡에는 활용</td>\n",
              "      <td>프랑스·독일의 음악가 열에 일곱은 생성형 인공지능(AI)으로 생계에 위협을 느낀다는...</td>\n",
              "      <td>AI의 발전도에 따라 산업의 방향성도 변화하고 있다</td>\n",
              "    </tr>\n",
              "    <tr>\n",
              "      <th>11</th>\n",
              "      <td>김경하</td>\n",
              "      <td>NaN</td>\n",
              "      <td>NaN</td>\n",
              "      <td></td>\n",
              "      <td>NaN</td>\n",
              "    </tr>\n",
              "    <tr>\n",
              "      <th>12</th>\n",
              "      <td>서정민</td>\n",
              "      <td>NaN</td>\n",
              "      <td>NaN</td>\n",
              "      <td></td>\n",
              "      <td>NaN</td>\n",
              "    </tr>\n",
              "    <tr>\n",
              "      <th>13</th>\n",
              "      <td>장영지</td>\n",
              "      <td>1.0</td>\n",
              "      <td>내 콘텐츠로 무단학습하는 AI… 그림에 `독`타서 저작권 지킨다</td>\n",
              "      <td>AI 모델들이 저작물을 무단 학습하는 것을 막기 위한 '나이트셰이드(Nightsha...</td>\n",
              "      <td>저작권이 있는 저작물을 무단 학습시키는 것에 대한 규제가 이루어져야한다.</td>\n",
              "    </tr>\n",
              "    <tr>\n",
              "      <th>14</th>\n",
              "      <td>오상훈</td>\n",
              "      <td>NaN</td>\n",
              "      <td>NaN</td>\n",
              "      <td></td>\n",
              "      <td>NaN</td>\n",
              "    </tr>\n",
              "  </tbody>\n",
              "</table>\n",
              "</div>\n",
              "    <div class=\"colab-df-buttons\">\n",
              "\n",
              "  <div class=\"colab-df-container\">\n",
              "    <button class=\"colab-df-convert\" onclick=\"convertToInteractive('df-e8b26017-ab3b-46c8-80f9-da491f1efc81')\"\n",
              "            title=\"Convert this dataframe to an interactive table.\"\n",
              "            style=\"display:none;\">\n",
              "\n",
              "  <svg xmlns=\"http://www.w3.org/2000/svg\" height=\"24px\" viewBox=\"0 -960 960 960\">\n",
              "    <path d=\"M120-120v-720h720v720H120Zm60-500h600v-160H180v160Zm220 220h160v-160H400v160Zm0 220h160v-160H400v160ZM180-400h160v-160H180v160Zm440 0h160v-160H620v160ZM180-180h160v-160H180v160Zm440 0h160v-160H620v160Z\"/>\n",
              "  </svg>\n",
              "    </button>\n",
              "\n",
              "  <style>\n",
              "    .colab-df-container {\n",
              "      display:flex;\n",
              "      gap: 12px;\n",
              "    }\n",
              "\n",
              "    .colab-df-convert {\n",
              "      background-color: #E8F0FE;\n",
              "      border: none;\n",
              "      border-radius: 50%;\n",
              "      cursor: pointer;\n",
              "      display: none;\n",
              "      fill: #1967D2;\n",
              "      height: 32px;\n",
              "      padding: 0 0 0 0;\n",
              "      width: 32px;\n",
              "    }\n",
              "\n",
              "    .colab-df-convert:hover {\n",
              "      background-color: #E2EBFA;\n",
              "      box-shadow: 0px 1px 2px rgba(60, 64, 67, 0.3), 0px 1px 3px 1px rgba(60, 64, 67, 0.15);\n",
              "      fill: #174EA6;\n",
              "    }\n",
              "\n",
              "    .colab-df-buttons div {\n",
              "      margin-bottom: 4px;\n",
              "    }\n",
              "\n",
              "    [theme=dark] .colab-df-convert {\n",
              "      background-color: #3B4455;\n",
              "      fill: #D2E3FC;\n",
              "    }\n",
              "\n",
              "    [theme=dark] .colab-df-convert:hover {\n",
              "      background-color: #434B5C;\n",
              "      box-shadow: 0px 1px 3px 1px rgba(0, 0, 0, 0.15);\n",
              "      filter: drop-shadow(0px 1px 2px rgba(0, 0, 0, 0.3));\n",
              "      fill: #FFFFFF;\n",
              "    }\n",
              "  </style>\n",
              "\n",
              "    <script>\n",
              "      const buttonEl =\n",
              "        document.querySelector('#df-e8b26017-ab3b-46c8-80f9-da491f1efc81 button.colab-df-convert');\n",
              "      buttonEl.style.display =\n",
              "        google.colab.kernel.accessAllowed ? 'block' : 'none';\n",
              "\n",
              "      async function convertToInteractive(key) {\n",
              "        const element = document.querySelector('#df-e8b26017-ab3b-46c8-80f9-da491f1efc81');\n",
              "        const dataTable =\n",
              "          await google.colab.kernel.invokeFunction('convertToInteractive',\n",
              "                                                    [key], {});\n",
              "        if (!dataTable) return;\n",
              "\n",
              "        const docLinkHtml = 'Like what you see? Visit the ' +\n",
              "          '<a target=\"_blank\" href=https://colab.research.google.com/notebooks/data_table.ipynb>data table notebook</a>'\n",
              "          + ' to learn more about interactive tables.';\n",
              "        element.innerHTML = '';\n",
              "        dataTable['output_type'] = 'display_data';\n",
              "        await google.colab.output.renderOutput(dataTable, element);\n",
              "        const docLink = document.createElement('div');\n",
              "        docLink.innerHTML = docLinkHtml;\n",
              "        element.appendChild(docLink);\n",
              "      }\n",
              "    </script>\n",
              "  </div>\n",
              "\n",
              "\n",
              "<div id=\"df-57919551-589e-4536-bcd2-ab0a51be123f\">\n",
              "  <button class=\"colab-df-quickchart\" onclick=\"quickchart('df-57919551-589e-4536-bcd2-ab0a51be123f')\"\n",
              "            title=\"Suggest charts\"\n",
              "            style=\"display:none;\">\n",
              "\n",
              "<svg xmlns=\"http://www.w3.org/2000/svg\" height=\"24px\"viewBox=\"0 0 24 24\"\n",
              "     width=\"24px\">\n",
              "    <g>\n",
              "        <path d=\"M19 3H5c-1.1 0-2 .9-2 2v14c0 1.1.9 2 2 2h14c1.1 0 2-.9 2-2V5c0-1.1-.9-2-2-2zM9 17H7v-7h2v7zm4 0h-2V7h2v10zm4 0h-2v-4h2v4z\"/>\n",
              "    </g>\n",
              "</svg>\n",
              "  </button>\n",
              "\n",
              "<style>\n",
              "  .colab-df-quickchart {\n",
              "      --bg-color: #E8F0FE;\n",
              "      --fill-color: #1967D2;\n",
              "      --hover-bg-color: #E2EBFA;\n",
              "      --hover-fill-color: #174EA6;\n",
              "      --disabled-fill-color: #AAA;\n",
              "      --disabled-bg-color: #DDD;\n",
              "  }\n",
              "\n",
              "  [theme=dark] .colab-df-quickchart {\n",
              "      --bg-color: #3B4455;\n",
              "      --fill-color: #D2E3FC;\n",
              "      --hover-bg-color: #434B5C;\n",
              "      --hover-fill-color: #FFFFFF;\n",
              "      --disabled-bg-color: #3B4455;\n",
              "      --disabled-fill-color: #666;\n",
              "  }\n",
              "\n",
              "  .colab-df-quickchart {\n",
              "    background-color: var(--bg-color);\n",
              "    border: none;\n",
              "    border-radius: 50%;\n",
              "    cursor: pointer;\n",
              "    display: none;\n",
              "    fill: var(--fill-color);\n",
              "    height: 32px;\n",
              "    padding: 0;\n",
              "    width: 32px;\n",
              "  }\n",
              "\n",
              "  .colab-df-quickchart:hover {\n",
              "    background-color: var(--hover-bg-color);\n",
              "    box-shadow: 0 1px 2px rgba(60, 64, 67, 0.3), 0 1px 3px 1px rgba(60, 64, 67, 0.15);\n",
              "    fill: var(--button-hover-fill-color);\n",
              "  }\n",
              "\n",
              "  .colab-df-quickchart-complete:disabled,\n",
              "  .colab-df-quickchart-complete:disabled:hover {\n",
              "    background-color: var(--disabled-bg-color);\n",
              "    fill: var(--disabled-fill-color);\n",
              "    box-shadow: none;\n",
              "  }\n",
              "\n",
              "  .colab-df-spinner {\n",
              "    border: 2px solid var(--fill-color);\n",
              "    border-color: transparent;\n",
              "    border-bottom-color: var(--fill-color);\n",
              "    animation:\n",
              "      spin 1s steps(1) infinite;\n",
              "  }\n",
              "\n",
              "  @keyframes spin {\n",
              "    0% {\n",
              "      border-color: transparent;\n",
              "      border-bottom-color: var(--fill-color);\n",
              "      border-left-color: var(--fill-color);\n",
              "    }\n",
              "    20% {\n",
              "      border-color: transparent;\n",
              "      border-left-color: var(--fill-color);\n",
              "      border-top-color: var(--fill-color);\n",
              "    }\n",
              "    30% {\n",
              "      border-color: transparent;\n",
              "      border-left-color: var(--fill-color);\n",
              "      border-top-color: var(--fill-color);\n",
              "      border-right-color: var(--fill-color);\n",
              "    }\n",
              "    40% {\n",
              "      border-color: transparent;\n",
              "      border-right-color: var(--fill-color);\n",
              "      border-top-color: var(--fill-color);\n",
              "    }\n",
              "    60% {\n",
              "      border-color: transparent;\n",
              "      border-right-color: var(--fill-color);\n",
              "    }\n",
              "    80% {\n",
              "      border-color: transparent;\n",
              "      border-right-color: var(--fill-color);\n",
              "      border-bottom-color: var(--fill-color);\n",
              "    }\n",
              "    90% {\n",
              "      border-color: transparent;\n",
              "      border-bottom-color: var(--fill-color);\n",
              "    }\n",
              "  }\n",
              "</style>\n",
              "\n",
              "  <script>\n",
              "    async function quickchart(key) {\n",
              "      const quickchartButtonEl =\n",
              "        document.querySelector('#' + key + ' button');\n",
              "      quickchartButtonEl.disabled = true;  // To prevent multiple clicks.\n",
              "      quickchartButtonEl.classList.add('colab-df-spinner');\n",
              "      try {\n",
              "        const charts = await google.colab.kernel.invokeFunction(\n",
              "            'suggestCharts', [key], {});\n",
              "      } catch (error) {\n",
              "        console.error('Error during call to suggestCharts:', error);\n",
              "      }\n",
              "      quickchartButtonEl.classList.remove('colab-df-spinner');\n",
              "      quickchartButtonEl.classList.add('colab-df-quickchart-complete');\n",
              "    }\n",
              "    (() => {\n",
              "      let quickchartButtonEl =\n",
              "        document.querySelector('#df-57919551-589e-4536-bcd2-ab0a51be123f button');\n",
              "      quickchartButtonEl.style.display =\n",
              "        google.colab.kernel.accessAllowed ? 'block' : 'none';\n",
              "    })();\n",
              "  </script>\n",
              "</div>\n",
              "\n",
              "    </div>\n",
              "  </div>\n"
            ],
            "application/vnd.google.colaboratory.intrinsic+json": {
              "type": "dataframe",
              "summary": "{\n  \"name\": \"df_sheets[0]\",\n  \"rows\": 15,\n  \"fields\": [\n    {\n      \"column\": \"\\uc774\\ub984\",\n      \"properties\": {\n        \"dtype\": \"string\",\n        \"samples\": [\n          \"\\uc870\\uc720\\uacbd\",\n          \"\\uae40\\uacbd\\ud558\",\n          \"\\ubb38\\uc11d\\ucc9c\"\n        ],\n        \"num_unique_values\": 15,\n        \"semantic_type\": \"\",\n        \"description\": \"\"\n      }\n    },\n    {\n      \"column\": \"\\uc120\\ud638\\ub3c4 \\ud22c\\ud45c\",\n      \"properties\": {\n        \"dtype\": \"number\",\n        \"std\": 4967.426899311152,\n        \"min\": 1.0,\n        \"max\": 11111.0,\n        \"samples\": [\n          1.0,\n          11.0,\n          11111.0\n        ],\n        \"num_unique_values\": 3,\n        \"semantic_type\": \"\",\n        \"description\": \"\"\n      }\n    },\n    {\n      \"column\": \"\\ub274\\uc2a4\\uba85\",\n      \"properties\": {\n        \"dtype\": \"string\",\n        \"samples\": [\n          \"\\uc74c\\uc545\\uac00 71% \\\"AI\\ub85c \\uc0dd\\uacc4 \\uc783\\uc744 \\uac83\\\" \\uc6b0\\ub824\\u2026\\uc791\\uc0ac\\u00b7\\uc791\\uace1\\uc5d0\\ub294 \\ud65c\\uc6a9\",\n          \"\\uce74\\uce74\\uc624\\uc1fc\\ud551 \\ubaa8\\ubc14\\uc77c \\uad50\\ud658\\uad8c, \\uc0bc\\uc131\\ud398\\uc774\\uc5d0\\uc11c \\uc4f4\\ub2e4\",\n          \"\\\"\\uc1fc\\ud551\\ubab0 \\ub9e4\\uc7a5\\u00b7\\ud654\\uc7a5\\uc2e4 \\uc704\\uce58 \\ud55c\\ub208\\uc5d0\\\"\\u2026\\uce74\\uce74\\uc624\\ub9f5, \\uc2e4\\ub0b4\\uc9c0\\ub3c4 \\uc11c\\ube44\\uc2a4\"\n        ],\n        \"num_unique_values\": 10,\n        \"semantic_type\": \"\",\n        \"description\": \"\"\n      }\n    },\n    {\n      \"column\": \"\\ubb38\\uc7a5 \\uc694\\uc57d\",\n      \"properties\": {\n        \"dtype\": \"string\",\n        \"samples\": [\n          \"\\uce74\\uce74\\uc624\\uc758 \\uc704\\uce58 \\uae30\\ubc18 \\ub77c\\uc774\\ud504\\ud50c\\ub7ab\\ud3fc \\uce74\\uce74\\uc624\\ub9f5\\uc740 \\ubc31\\ud654\\uc810, \\uc544\\uc6b8\\ub81b, \\ub300\\ud615 \\uc1fc\\ud551\\ubab0 \\ub4f1 \\uad6d\\ub0b4 \\uc8fc\\uc694 \\ubcf5\\ud569\\uc0c1\\uc5c5\\uc2dc\\uc124 100\\uc5ec\\uacf3\\uc5d0 \\ub300\\ud55c \\uc2e4\\ub0b4\\uc9c0\\ub3c4 \\uc11c\\ube44\\uc2a4\\ub97c \\uc2e4\\uc2dc\\ud55c\\ub2e4\\uace0 31\\uc77c \\ubc1d\\ud614\\ub2e4.\",\n          \"\\uc815\\ubd80\\uac00 \\ub9de\\ucda4\\ud615 \\uad11\\uace0\\uc5d0 \\uc0ac\\uc6a9\\ub418\\ub294 \\uac1c\\uc778\\uc815\\ubcf4 \\ucc98\\ub9ac \\ud22c\\uba85\\uc131\\uc744 \\ub192\\uc778\\ub2e4. \\uc55e\\uc73c\\ub85c \\uad11\\uace0 \\uc0ac\\uc5c5\\uc790\\uc640 \\uad11\\uace0 \\ub9e4\\uccb4 \\uc0ac\\uc5c5\\uc790\\ub294 \\uc885\\uc804\\ubcf4\\ub2e4 \\uba85\\ud655\\ud55c \\uac1c\\uc778\\uc815\\ubcf4 \\ucc98\\ub9ac \\uaddc\\uc815\\uc744 \\uc9c0\\ucf1c\\uc57c \\ud55c\\ub2e4. \\uc774\\uc6a9\\uc790\\ub294 \\uc790\\uc2e0\\uc758 \\uc815\\ubcf4\\uac00 \\uc5b4\\ub5bb\\uac8c \\uc774\\uc6a9\\ub410\\ub294\\uc9c0 \\uad6c\\uccb4\\uc801\\uc73c\\ub85c \\ud655\\uc778\\ud560 \\uc218 \\uc788\\ub2e4. \\uc815\\ubd80\\ub294 \\ubbfc\\u00b7\\uad00 \\ud611\\uc758\\uccb4\\ub97c \\uad6c\\uc131\\ud574 \\uc815\\ubcf4 \\ucc98\\ub9ac \\ud22c\\uba85\\uc131\\uc744 \\ub354 \\ub192\\uc77c \\uacc4\\ud68d\\uc774\\ub2e4.\",\n          \"\\ud504\\ub791\\uc2a4\\u00b7\\ub3c5\\uc77c\\uc758 \\uc74c\\uc545\\uac00 \\uc5f4\\uc5d0 \\uc77c\\uacf1\\uc740 \\uc0dd\\uc131\\ud615 \\uc778\\uacf5\\uc9c0\\ub2a5(AI)\\uc73c\\ub85c \\uc0dd\\uacc4\\uc5d0 \\uc704\\ud611\\uc744 \\ub290\\ub080\\ub2e4\\ub294 \\uc5ec\\ub860\\uc870\\uc0ac \\uacb0\\uacfc\\uac00 30\\uc77c(\\ud604\\uc9c0\\uc2dc\\uac04) \\uacf5\\uac1c\\ub410\\ub2e4.\"\n        ],\n        \"num_unique_values\": 11,\n        \"semantic_type\": \"\",\n        \"description\": \"\"\n      }\n    },\n    {\n      \"column\": \"\\ud55c \\uc904\\ud3c9\",\n      \"properties\": {\n        \"dtype\": \"string\",\n        \"samples\": [\n          \"AI\\uc758 \\ubc1c\\uc804\\ub3c4\\uc5d0 \\ub530\\ub77c \\uc0b0\\uc5c5\\uc758 \\ubc29\\ud5a5\\uc131\\ub3c4 \\ubcc0\\ud654\\ud558\\uace0 \\uc788\\ub2e4\",\n          \"\\uc774\\uc6a9\\uc790\\ub4e4\\uc740 \\uce74\\ud398, \\uc2dd\\ub2f9, \\uc601\\ud654\\uad00 \\ub4f1\\uc5d0\\uc11c \\uc0bc\\uc131\\ud398\\uc774\\ub97c \\ucf1c\\uace0 \\ud574\\ub2f9 \\ubaa8\\ubc14\\uc77c \\uad50\\ud658\\uad8c\\uc744 \\ud130\\uce58\\ud574 \\uc190\\uc27d\\uac8c \\uacb0\\uc81c\\uac00 \\uac00\\ub2a5\\ud558\\uace0, \\uc0bc\\uc131\\ud398\\uc774 \\u2018\\ucfe0\\ud3f0\\u2019 \\ud654\\uba74\\uc5d0\\uc11c \\uc800\\uc7a5\\ud574 \\ub454 \\uc5ec\\ub7ec \\ubaa8\\ubc14\\uc77c \\uad50\\ud658\\uad8c\\uc744 \\ubaa8\\uc544 \\ubcfc \\uc218 \\uc788\\uc5b4 \\uad00\\ub9ac\\ub3c4 \\uc26c\\uc6cc\\uc11c \\uc0ac\\uc6a9\\uc790 \\ud3b8\\uc758\\uc131\\uc774 \\uc99d\\ub300\\ub420 \\uac83\\uc73c\\ub85c \\uae30\\ub300\\ud55c\\ub2e4.\",\n          \"\\uce74\\uce74\\uc624\\ub9f5 \\uc720\\uc785/\\ub124\\uc774\\ubc84\\uc9c0\\ub3c4 \\uc774\\ud0c8 \\uc99d\\uac00\\uc640 \\uc9c0\\ub3c4 \\uc11c\\ube44\\uc2a4 \\ub0b4 \\uad11\\uace0 \\ud6a8\\uacfc\\uc758 \\ud655\\ub300\\uac00 \\uc608\\uc0c1\\ub41c\\ub2e4.\"\n        ],\n        \"num_unique_values\": 10,\n        \"semantic_type\": \"\",\n        \"description\": \"\"\n      }\n    }\n  ]\n}"
            }
          },
          "metadata": {},
          "execution_count": 220
        }
      ]
    },
    {
      "cell_type": "markdown",
      "source": [
        "## 문장 토큰화하기"
      ],
      "metadata": {
        "id": "usob1AGibFW9"
      }
    },
    {
      "cell_type": "code",
      "source": [
        "! pip install konlpy"
      ],
      "metadata": {
        "colab": {
          "base_uri": "https://localhost:8080/"
        },
        "id": "N7LUOtJjR2yr",
        "outputId": "968d1dc9-6471-4aab-ff17-2d134b7ad284"
      },
      "execution_count": 221,
      "outputs": [
        {
          "output_type": "stream",
          "name": "stdout",
          "text": [
            "Requirement already satisfied: konlpy in /usr/local/lib/python3.10/dist-packages (0.6.0)\n",
            "Requirement already satisfied: JPype1>=0.7.0 in /usr/local/lib/python3.10/dist-packages (from konlpy) (1.5.0)\n",
            "Requirement already satisfied: lxml>=4.1.0 in /usr/local/lib/python3.10/dist-packages (from konlpy) (4.9.4)\n",
            "Requirement already satisfied: numpy>=1.6 in /usr/local/lib/python3.10/dist-packages (from konlpy) (1.25.2)\n",
            "Requirement already satisfied: packaging in /usr/local/lib/python3.10/dist-packages (from JPype1>=0.7.0->konlpy) (23.2)\n"
          ]
        }
      ]
    },
    {
      "cell_type": "code",
      "source": [
        "from konlpy.tag import Okt\n",
        "okt = Okt()"
      ],
      "metadata": {
        "id": "N2R8dHJGR3iY"
      },
      "execution_count": 222,
      "outputs": []
    },
    {
      "cell_type": "code",
      "source": [
        "# 형태소 분석 함수\n",
        "def okt_clean(text):\n",
        "    clean_text = []\n",
        "    for word in okt.pos(text, stem=True):\n",
        "        if word[1] not in ['Josa', 'Eomi', 'Punctuation']:\n",
        "            clean_text.append(word[0])\n",
        "\n",
        "    return \" \".join(clean_text)"
      ],
      "metadata": {
        "id": "z5H8r3VnRJTj"
      },
      "execution_count": 223,
      "outputs": []
    },
    {
      "cell_type": "code",
      "source": [
        "# 문장 토큰화 함수\n",
        "def sentence_token(x,okt_clean,sentence_tokenizing):\n",
        "  sentence_nouns = okt_clean(x)\n",
        "  sentence_tokens = sentence_tokenizing.transform([sentence_nouns])\n",
        "  return sentence_tokens.toarray()"
      ],
      "metadata": {
        "id": "-BotibDn3b7C"
      },
      "execution_count": 224,
      "outputs": []
    },
    {
      "cell_type": "code",
      "source": [
        "# topic 리스트 만드는 함수\n",
        "def topic_list_make(df_sheets,sentence_token,condition_list):\n",
        "  column_name = df_sheets[0].columns[0]\n",
        "  condition = f\"{column_name} in {condition_list}\"\n",
        "  sentence_list = []\n",
        "  for i in range(len(df_sheets)):\n",
        "    for j in range(len(df_sheets[i])):\n",
        "      try:\n",
        "        sentence_tokens_array = sentence_token(df_sheets[i].query(condition)['문장 요약'].values[j],okt_clean,sentence_tokenizing)\n",
        "        topic_index=int(classification_topic.predict(sentence_tokens_array)[0])\n",
        "        sentence_list.append(topic.iloc[topic_index,0])\n",
        "      except:\n",
        "        pass\n",
        "  Series_topic = pd.Series(data=sentence_list)\n",
        "  topic_list = Series_topic.value_counts()\n",
        "  return topic_list"
      ],
      "metadata": {
        "id": "B1Ew31j03Gzb"
      },
      "execution_count": 225,
      "outputs": []
    },
    {
      "cell_type": "code",
      "source": [
        "user_list = [\"노주현\"]\n",
        "\n",
        "user_topic_list = topic_list_make(df_sheets,sentence_token,user_list)\n",
        "user_topic_list"
      ],
      "metadata": {
        "colab": {
          "base_uri": "https://localhost:8080/"
        },
        "id": "2ne-H5wMUfGa",
        "outputId": "efe477f9-7239-476f-8798-fed79bc1844c"
      },
      "execution_count": 226,
      "outputs": [
        {
          "output_type": "execute_result",
          "data": {
            "text/plain": [
              "사회      21\n",
              "IT과학    16\n",
              "경제       1\n",
              "세계       1\n",
              "정치       1\n",
              "dtype: int64"
            ]
          },
          "metadata": {},
          "execution_count": 226
        }
      ]
    },
    {
      "cell_type": "code",
      "source": [
        "entire_user_list = list(df_sheets[0][\"이름\"].values)\n",
        "\n",
        "entire_topic_list = topic_list_make(df_sheets,sentence_token,entire_user_list)\n",
        "entire_topic_list"
      ],
      "metadata": {
        "colab": {
          "base_uri": "https://localhost:8080/"
        },
        "id": "KSojj3SyxTYq",
        "outputId": "6537d5bb-8df3-4211-d3fc-a1b0e45b181c"
      },
      "execution_count": 227,
      "outputs": [
        {
          "output_type": "execute_result",
          "data": {
            "text/plain": [
              "사회      336\n",
              "IT과학    211\n",
              "경제       29\n",
              "세계       11\n",
              "정치        9\n",
              "생활문화      3\n",
              "스포츠       1\n",
              "dtype: int64"
            ]
          },
          "metadata": {},
          "execution_count": 227
        }
      ]
    },
    {
      "cell_type": "markdown",
      "source": [
        "## Wordcloud"
      ],
      "metadata": {
        "id": "v9sXYeeAuoD0"
      }
    },
    {
      "cell_type": "markdown",
      "source": [
        "### user wordcloud"
      ],
      "metadata": {
        "id": "RWemcLV2zKWg"
      }
    },
    {
      "cell_type": "code",
      "source": [
        "from wordcloud import WordCloud"
      ],
      "metadata": {
        "id": "aKhjQz_gaysH"
      },
      "execution_count": 228,
      "outputs": []
    },
    {
      "cell_type": "code",
      "source": [
        "wordCloud = WordCloud(background_color='white', font_path = '/usr/share/fonts/truetype/nanum/NanumBarunGothic.ttf')\n",
        "user_wordcloud = wordCloud.generate_from_frequencies(user_topic_list)\n",
        "user_wordcloud"
      ],
      "metadata": {
        "colab": {
          "base_uri": "https://localhost:8080/"
        },
        "id": "93YpFQCTurSZ",
        "outputId": "e962eb74-99fc-42fb-de7c-82cdac1ce492"
      },
      "execution_count": 229,
      "outputs": [
        {
          "output_type": "execute_result",
          "data": {
            "text/plain": [
              "<wordcloud.wordcloud.WordCloud at 0x7fac0b86e4d0>"
            ]
          },
          "metadata": {},
          "execution_count": 229
        }
      ]
    },
    {
      "cell_type": "code",
      "source": [
        "user_wordcloud.words_"
      ],
      "metadata": {
        "colab": {
          "base_uri": "https://localhost:8080/"
        },
        "id": "cijI3aKTusUD",
        "outputId": "ff9d0ea0-e064-4975-b2b2-5e5798f6ea1f"
      },
      "execution_count": 230,
      "outputs": [
        {
          "output_type": "execute_result",
          "data": {
            "text/plain": [
              "{'사회': 1.0,\n",
              " 'IT과학': 0.7619047619047619,\n",
              " '경제': 0.047619047619047616,\n",
              " '세계': 0.047619047619047616,\n",
              " '정치': 0.047619047619047616}"
            ]
          },
          "metadata": {},
          "execution_count": 230
        }
      ]
    },
    {
      "cell_type": "code",
      "source": [
        "import matplotlib.pyplot as plt\n",
        "plt.imshow(user_wordcloud)\n",
        "plt.axis('off')\n",
        "plt.show()"
      ],
      "metadata": {
        "colab": {
          "base_uri": "https://localhost:8080/",
          "height": 285
        },
        "id": "Irrof5UxwdgI",
        "outputId": "728da551-e338-47a1-b615-79d91a864a39"
      },
      "execution_count": 231,
      "outputs": [
        {
          "output_type": "display_data",
          "data": {
            "text/plain": [
              "<Figure size 640x480 with 1 Axes>"
            ],
            "image/png": "[encoded data removed]"
          },
          "metadata": {}
        }
      ]
    },
    {
      "cell_type": "markdown",
      "source": [
        "### entire wordcloud"
      ],
      "metadata": {
        "id": "mG7GxUOnzMv6"
      }
    },
    {
      "cell_type": "code",
      "source": [
        "from wordcloud import WordCloud"
      ],
      "metadata": {
        "id": "a3h00v_rzMv7"
      },
      "execution_count": 232,
      "outputs": []
    },
    {
      "cell_type": "code",
      "source": [
        "wordCloud = WordCloud(background_color='white', font_path = '/usr/share/fonts/truetype/nanum/NanumBarunGothic.ttf')\n",
        "user_wordcloud = wordCloud.generate_from_frequencies(entire_topic_list)\n",
        "user_wordcloud"
      ],
      "metadata": {
        "colab": {
          "base_uri": "https://localhost:8080/"
        },
        "outputId": "1e7852f0-68bc-4efd-d356-1c24e34d1e96",
        "id": "BIr_mUjazMv7"
      },
      "execution_count": 233,
      "outputs": [
        {
          "output_type": "execute_result",
          "data": {
            "text/plain": [
              "<wordcloud.wordcloud.WordCloud at 0x7fac0b8c4730>"
            ]
          },
          "metadata": {},
          "execution_count": 233
        }
      ]
    },
    {
      "cell_type": "code",
      "source": [
        "user_wordcloud.words_"
      ],
      "metadata": {
        "colab": {
          "base_uri": "https://localhost:8080/"
        },
        "outputId": "ae491377-b651-4fd7-f77b-504390227a4a",
        "id": "5zEKqDvwzMv7"
      },
      "execution_count": 234,
      "outputs": [
        {
          "output_type": "execute_result",
          "data": {
            "text/plain": [
              "{'사회': 1.0,\n",
              " 'IT과학': 0.6279761904761905,\n",
              " '경제': 0.08630952380952381,\n",
              " '세계': 0.03273809523809524,\n",
              " '정치': 0.026785714285714284,\n",
              " '생활문화': 0.008928571428571428,\n",
              " '스포츠': 0.002976190476190476}"
            ]
          },
          "metadata": {},
          "execution_count": 234
        }
      ]
    },
    {
      "cell_type": "code",
      "source": [
        "import matplotlib.pyplot as plt\n",
        "plt.imshow(user_wordcloud)\n",
        "plt.axis('off')\n",
        "plt.show()"
      ],
      "metadata": {
        "colab": {
          "base_uri": "https://localhost:8080/",
          "height": 285
        },
        "outputId": "98699a28-403b-4453-cab2-f2510a932240",
        "id": "iMJHlT7wzMv7"
      },
      "execution_count": 235,
      "outputs": [
        {
          "output_type": "display_data",
          "data": {
            "text/plain": [
              "<Figure size 640x480 with 1 Axes>"
            ],
            "image/png": "[encoded data removed]"
          },
          "metadata": {}
        }
      ]
    },
    {
      "cell_type": "code",
      "source": [],
      "metadata": {
        "id": "l3yjtu9x6fek"
      },
      "execution_count": 235,
      "outputs": []
    }
  ]
}