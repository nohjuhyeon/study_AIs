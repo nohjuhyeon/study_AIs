{
  "nbformat": 4,
  "nbformat_minor": 0,
  "metadata": {
    "colab": {
      "provenance": [],
      "authorship_tag": "ABX9TyNAG1djIU8ZqkDESWdtHCWf",
      "include_colab_link": true
    },
    "kernelspec": {
      "name": "python3",
      "display_name": "Python 3"
    },
    "language_info": {
      "name": "python"
    }
  },
  "cells": [
    {
      "cell_type": "markdown",
      "metadata": {
        "id": "view-in-github",
        "colab_type": "text"
      },
      "source": [
        "<a href=\"https://colab.research.google.com/github/nohjuhyeon/study_AIs/blob/main/docs/quests/NLPs/wordcloud_regexp.ipynb\" target=\"_parent\"><img src=\"https://colab.research.google.com/assets/colab-badge.svg\" alt=\"Open In Colab\"/></a>"
      ]
    },
    {
      "cell_type": "markdown",
      "source": [
        "## 한글처리"
      ],
      "metadata": {
        "id": "Y00cIUvArtk5"
      }
    },
    {
      "cell_type": "code",
      "source": [
        "!apt-get -y install fonts-nanum\n",
        "!fc-cache -fv\n",
        "!rm ~/.cache/matplotlib -rf"
      ],
      "metadata": {
        "colab": {
          "base_uri": "https://localhost:8080/"
        },
        "id": "nVtYk4hkrsZQ",
        "outputId": "4edef421-e1d9-4a5b-9a19-4b7700c70582"
      },
      "execution_count": null,
      "outputs": [
        {
          "output_type": "stream",
          "name": "stdout",
          "text": [
            "Reading package lists... Done\n",
            "Building dependency tree... Done\n",
            "Reading state information... Done\n",
            "fonts-nanum is already the newest version (20200506-1).\n",
            "0 upgraded, 0 newly installed, 0 to remove and 33 not upgraded.\n",
            "/usr/share/fonts: caching, new cache contents: 0 fonts, 1 dirs\n",
            "/usr/share/fonts/truetype: caching, new cache contents: 0 fonts, 3 dirs\n",
            "/usr/share/fonts/truetype/humor-sans: caching, new cache contents: 1 fonts, 0 dirs\n",
            "/usr/share/fonts/truetype/liberation: caching, new cache contents: 16 fonts, 0 dirs\n",
            "/usr/share/fonts/truetype/nanum: caching, new cache contents: 12 fonts, 0 dirs\n",
            "/usr/local/share/fonts: caching, new cache contents: 0 fonts, 0 dirs\n",
            "/root/.local/share/fonts: skipping, no such directory\n",
            "/root/.fonts: skipping, no such directory\n",
            "/usr/share/fonts/truetype: skipping, looped directory detected\n",
            "/usr/share/fonts/truetype/humor-sans: skipping, looped directory detected\n",
            "/usr/share/fonts/truetype/liberation: skipping, looped directory detected\n",
            "/usr/share/fonts/truetype/nanum: skipping, looped directory detected\n",
            "/var/cache/fontconfig: cleaning cache directory\n",
            "/root/.cache/fontconfig: not cleaning non-existent cache directory\n",
            "/root/.fontconfig: not cleaning non-existent cache directory\n",
            "fc-cache: succeeded\n"
          ]
        }
      ]
    },
    {
      "cell_type": "code",
      "source": [
        "!ls /usr/share/fonts/truetype/nanum/NanumBarunGothic.ttf"
      ],
      "metadata": {
        "id": "Axwqiojwt0Om",
        "outputId": "206db669-3608-4c0c-eeb3-7e1aad28300f",
        "colab": {
          "base_uri": "https://localhost:8080/"
        }
      },
      "execution_count": null,
      "outputs": [
        {
          "output_type": "stream",
          "name": "stdout",
          "text": [
            "/usr/share/fonts/truetype/nanum/NanumBarunGothic.ttf\n"
          ]
        }
      ]
    },
    {
      "cell_type": "code",
      "source": [
        "from collections import Counter\n",
        "# Counter(text_split)"
      ],
      "metadata": {
        "id": "Ltye0r99nPNm"
      },
      "execution_count": null,
      "outputs": []
    },
    {
      "cell_type": "markdown",
      "source": [
        "## read excel file with sheets"
      ],
      "metadata": {
        "id": "ncISPhtdjWbF"
      }
    },
    {
      "cell_type": "code",
      "source": [
        "import pandas as pd\n",
        "df_OWG = pd.read_excel('OneWord_Game.xlsx', sheet_name = None)\n",
        "df_OWG"
      ],
      "metadata": {
        "id": "ekL2srVmjVvl"
      },
      "execution_count": null,
      "outputs": []
    },
    {
      "cell_type": "code",
      "source": [
        "df_sheets = []\n",
        "for sheet_name, df in df_OWG.items():\n",
        "  df_sheets.append(df)\n",
        "  print(f'{sheet_name} {type(df)}')\n",
        "  pass\n",
        "df_sheets[0]"
      ],
      "metadata": {
        "colab": {
          "base_uri": "https://localhost:8080/",
          "height": 1000
        },
        "id": "f0OV5fAUuPPl",
        "outputId": "c3e6edee-8625-49d8-9123-89d2495a7f15"
      },
      "execution_count": null,
      "outputs": [
        {
          "output_type": "stream",
          "name": "stdout",
          "text": [
            "2월 <class 'pandas.core.frame.DataFrame'>\n",
            "1월 <class 'pandas.core.frame.DataFrame'>\n",
            "12월 <class 'pandas.core.frame.DataFrame'>\n"
          ]
        },
        {
          "output_type": "execute_result",
          "data": {
            "text/plain": [
              "                                                        Unnamed: 1  \\\n",
              "0           문석천                                                NaN   \n",
              "1           김유진                                                NaN   \n",
              "2           노주현                                                NaN   \n",
              "3           김하늘                                                NaN   \n",
              "4           박요한                                                NaN   \n",
              "5           오지수                                 regular expression   \n",
              "6           김명준  자연어 처리\\n컴퓨터가 인간의 언어를 이해하고 처리하는 기술을 말한다.\\n컴퓨터를 ...   \n",
              "7           공명윤                                                NaN   \n",
              "8           한동철                                                NaN   \n",
              "9           조유경                                                NaN   \n",
              "10          김덕재                                                NaN   \n",
              "11          김경하                                                NaN   \n",
              "12          서정민                                                NaN   \n",
              "13          장영지              자연어 처리(Natural Language Processing)\\n   \n",
              "14          오상훈                                                NaN   \n",
              "\n",
              "                                  2024-02-15 00:00:00  \\\n",
              "0   비지도학습\\n머신러닝 학습의 일종으로 정답이 존재하지 않을 때 사용하는 방식이다.\\...   \n",
              "1   특성공학(feature engineering)\\n원시 데이터로부터 유용한 특성을 추...   \n",
              "2   scaling\\n수치형 데이터 변수들의 범위를 조정하는 과정입니다.\\n데이터를 일정...   \n",
              "3                                                 NaN   \n",
              "4   넓이 우선 탐색\\nBFS Breadth-First Search\\n\\n루트 노드에서 ...   \n",
              "5   Encoding\\n범주형 데이터를 숫자형 데이터로 변환하는 과정을 말한다. 이 과정...   \n",
              "6   지도학습\\n컴퓨터에게 문제와 정답을 모두 알려주고 공부시키는 머신러닝의 일종이다.\\...   \n",
              "7                                                 NaN   \n",
              "8   데이터스케일링\\n머신러닝을 위한 데이터셋을 정제할때, 특성별로 데이터\\n스케일이 다...   \n",
              "9                                                 NaN   \n",
              "10  sampling\\n분류모델에서 Dataset 비율이 차이나는 경우 비율을 맞추기 위...   \n",
              "11  OneHotEncoder\\n범주형 데이터를 수치형 데이터로 변환하는 방법 중 하나이...   \n",
              "12  f1 score\\nf1 score는 머신러닝과 통계에서 사용되는 평가 지표이며, 정...   \n",
              "13  스케일링\\n서로 다른 범위의 값을 가진 데이터들의 범위를 표준화시키는 과정이다. 머...   \n",
              "14                                                NaN   \n",
              "\n",
              "                                  2024-02-14 00:00:00  \\\n",
              "0   랜덤포레스트\\n지도 학습 알고리즘으로 의사결정트리의 집합이다.\\n목적은 True나 ...   \n",
              "1   선형회귀(linear Regression)\\n종속 변수 y와 한 개 이상의 독립변수...   \n",
              "2   선형 회귀\\n종속 변수와 독립 변수들 간의 관계를 파악하는데 사용하는 통계적인 방법...   \n",
              "3   피클 모듈\\n파이썬 객체를 저장하는데 사용하는 모듈로 작업 중인 파이썬 객체를 저장...   \n",
              "4   서브쿼리\\n\\n쿼리 내부에 중첩된 쿼리문으로 쿼리 내에서 다차적 분류를 시행하여 연...   \n",
              "5   강화학습(reinforcement learning)\\n문제와 정답을 알려주지 않고,...   \n",
              "6   머신러닝\\n인간의 학습 능력과 같은 기능을 컴퓨터에서 실현하고자 하는 기술 및 기법...   \n",
              "7                                                 NaN   \n",
              "8   딥러닝\\n컴퓨터가 인간처럼 판단하고 학습할 수 있도록 하고 \\n이를 통해 사물이나 ...   \n",
              "9   Supervised Learning 지도 학습\\n머신러닝을 학습시키는 방식 중 하나...   \n",
              "10  MSE(Mean Squared Error)\\n모델의 성능을 평가하는 산출방법\\n오차...   \n",
              "11  선형회귀분석\\n독립 변수와 종속 변수 사이의 관계를 모델링하는 통계적 기법으로 목적...   \n",
              "12                                                NaN   \n",
              "13  pickle\\n파이썬 객체 자체를 이진파일로 저장하는 파이썬 모듈이다. 대량의 데이...   \n",
              "14                                                NaN   \n",
              "\n",
              "                                  2024-02-13 00:00:00  \\\n",
              "0   지도학습 (supervisor learning)\\n머신러닝의 일종으로 컴퓨터에 모델...   \n",
              "1   scikit-learn(사이킷런), sklearn\\n파이썬을 기반으로 작동하는 오픈...   \n",
              "2   군집화(Clustering)\\n유사한 특성을 가진 데이터들끼리 그룹으로 나누는 작업...   \n",
              "3   지도 학습\\n문제와 정답을 모두 알려주고 공부시키는 머신러닝의 일종으로 예측과 분류...   \n",
              "4   Logistic Regression\\n\\n범주형 종속 변수의 결과를 예측하기 위해 ...   \n",
              "5   데이터 전처리\\n결측치나 이상치를 분석에 적합한 형태로 가공하고 정제하는 과정을 말...   \n",
              "6   귀무가설\\n차이가 없거나 의미있는 차이가 없는 경우의 가설이다.\\n실험이나 연구를 ...   \n",
              "7                                                 NaN   \n",
              "8   머신러닝\\n머신 러닝 또는 기계 학습은 컴퓨터 과학 중 인공지능의\\n 한 분야로, ...   \n",
              "9   Linear Regression 선형회귀분석\\n데이터의 경향성을 가장 잘 설명하는 ...   \n",
              "10  NumPy\\n수학 및 과학 연산을 위한 파이썬 패키지이다\\n판다스나 다른 패키지 등...   \n",
              "11  머신러닝\\n컴퓨터가 학습을 통해 성능을 개선하는 인공지능의 한 분야로, 크게 지도 ...   \n",
              "12  머신러닝\\n머신러닝은 인공지능의 한 분야로, \\n컴퓨터가 학습을 통해 스스로 성능을...   \n",
              "13  머신러닝\\n컴퓨터가 데이터를 학습해서 규칙을 찾아내는 과정이다. 머신러닝 모델이 학...   \n",
              "14                                                NaN   \n",
              "\n",
              "                                  2024-02-07 00:00:00  \\\n",
              "0   귀무가설\\nEDA를 통해 얻은 인사이트를 기반으로 CDA를 통해서 규명하고자 하는 ...   \n",
              "1                                                 NaN   \n",
              "2   anderson test \\n5000개 넘는 record를 가진 연속형 데이터의 정...   \n",
              "3   확증 데이터 분석(CDA)\\n규명하고자 하는 바를 가설로 수립한 다음, 해당 가설의...   \n",
              "4   이분탐색\\n\\n리스트 탐색 알고리즘 중 하나로 중앙값을 준으로 low high를 나...   \n",
              "5   PDA(Predictive Data Analysis)\\n데이터 간 관계를 학습한 것...   \n",
              "6   대립가설\\n새로운 결과나 주장을 '참'이라는 걸 입증하기위한 가설이다.\\n확률적으로...   \n",
              "7   PDA(Predictive Data Analysis)\\n데이터 간 관계를 수치화해서...   \n",
              "8   pda\\n데이터에 내재된 패턴을 분석하여  아직 수행되지\\n않을 일의 결과를 예측하...   \n",
              "9   p-value\\n관찰된 데이터 이상의 극단적인 결과를 얻을 확률을 의미한다. \\np...   \n",
              "10  anderson-darling test\\n분석을 하고자 하는 데이터의 분포도를 확인...   \n",
              "11                                                NaN   \n",
              "12  scipy.stats\\nScipy 모듈의 기능중 하나로 다양한 통계 알고리즘과 확률...   \n",
              "13  정규성 검증\\n데이터가 정규 분포를 따르는지 여부를 확인하는 과정이다. 데이터의 분...   \n",
              "14                                                NaN   \n",
              "\n",
              "                                  2024-02-06 00:00:00  \\\n",
              "0   pearsonr\\n다변수 검증 시 변수가 연속형과 연속형이고 정규분포일 경우 사용하...   \n",
              "1   CDA 확증 데이터 분석(Confirmatory Data Analysis)\\n규명하...   \n",
              "2   확증 데이터 분석\\n규명하고자 하는 바를 가설로 수립하여, 해당 가설이 참인지 거짓...   \n",
              "3   Anderson-normality Test\\n연속형 데이터의 정규분포 여부를 확인하...   \n",
              "4   정규표현식\\n\\n프로그래밍 내에서 사용하는 형식 언어로써, 특정한 패턴을 가진 문자...   \n",
              "5   기대빈도수(expected frequencies)\\n어떤 사건이 일어날 것으로 예상...   \n",
              "6   p-value\\n확률을 측정한것이다. 0.05 이하면 통계적으로 유의하다고 판단한다...   \n",
              "7   확증 데이터 분석(Confirmatory Data Analysis)\\n규명하고자 하...   \n",
              "8   상관계수\\n2개의 연속형 변수 간의  연관성에 대한 \\n측도이고 변수간의 분산상황이...   \n",
              "9   대립가설\\n귀무가설에 대조되는 가설로 특정한 관계나 차이가 존재하다는 것을 주장하는...   \n",
              "10  귀무가설\\n데이터 분석에서 어떠한 가설을 수립하였을 때 그 가설이 유의미하지 않을 ...   \n",
              "11  귀무가설\\n귀무가설은 주로 \"변화가 없다\" 또는 \"차이가 없다\"라는 상태를 나타내며...   \n",
              "12  shapiro test\\n표본이 적은 데이터의 정규성을 검사할 때 사용하며, 민감도...   \n",
              "13  귀무가설\\n처음부터 기각할 것을 예상하고 세우는 가설이다. 차이가 없거나 유의미한 ...   \n",
              "14                                                NaN   \n",
              "\n",
              "                                  2024-02-05 00:00:00  \\\n",
              "0   insight\\n인사이트를 통해 얻은 데이터를 기반으로 분석하여 얻는 과정으로 데이...   \n",
              "1   cut()\\n데이터를 구간 길이에 따라 나누는 함수로 데이터를 구간별로 쪼개어 나누...   \n",
              "2   concat \\n여러 개의 데이터프레임이나 시리즈를 하나의 구조로 연결할 때 사용하...   \n",
              "3   귀무가설\\n기각을 목적으로 수립하는 가설로 p-value가 0.05 이상일 때 귀무...   \n",
              "4   Generator\\n\\n순서가 있는 iterator를 생성해주는 기능으로 yield...   \n",
              "5   상관계수(correlation coefficient)\\n두 연속형 변수간의 상관관계...   \n",
              "6   seaborn\\n그래프를 매우 쉽게 표현할 수 있도록 돕는 시각화 라이브러리이다.\\...   \n",
              "7   탐색 데이터 분석(Exploratory Data Analysis)\\n- 데이터 증상...   \n",
              "8   Kaggle\\n전 세계 데이터 사이언티스트들이 데이터를 분석할 수\\n 있도록 대회를...   \n",
              "9   cut()\\n데이터를 구간 길이에 따라 나누는 함수이다. \\n연속형 데이터를 범주형...   \n",
              "10  Pandas Concat\\n데이터 프레임 기준 같은 컬럼끼리 이어 붙이는 명령어\\n...   \n",
              "11  pandas cut()\\n값의 범위를 기반으로 데이터를 여러 구간으로 나누는 역할을...   \n",
              "12  p-value\\nabbreviation of probablity-value.\\n어떤...   \n",
              "13  pandas.concat\\n동일한 컬럼 구조를 가진 시리즈나 데이터프레임을 하나의 ...   \n",
              "14                                                NaN   \n",
              "\n",
              "                                  2024-02-02 00:00:00  \\\n",
              "0   EDA(탐색 데이터 분석)\\n얻은 데이터를 토대로 데이터탐색을 통한 가설을 수립하는...   \n",
              "1   결측치(missing value)\\n수집된 dataset 중 관측되지 않은 특정 확...   \n",
              "2   데이터 전처리\\n분석을 하기 전에 데이터를 정리하고, 결측치와 이상값을 처리하는 과...   \n",
              "3                                                 NaN   \n",
              "4   탐욕 알고리즘\\n\\n양자 컴퓨터의 병렬적 구조가 아닌 현재의 직렬적 컴퓨터 시스템 ...   \n",
              "5                                                 NaN   \n",
              "6   pandas boxplot\\n데이터의 통계적의미를 표현하기위해 주로 사용한다.\\n데...   \n",
              "7   DDA(묘사 데이터 분석\\n통계적인 수치 데이터나 데이터의 구조 등을 분석하는 방법...   \n",
              "8   Seaborn\\n시본은 Mapplotib 를 기반으로 발전된 라이브러리로써 \\n원하...   \n",
              "9   EDA(탐색 데이터 분석, Exploratory Data Analysis)\\n데이터...   \n",
              "10  전처리\\n데이터 분석을 하기 전에 결측치를 확인하고 처리하는 과정\\n결측치를 확인한...   \n",
              "11                                                NaN   \n",
              "12  구글 코랩\\n구글에서 제공하는 클라우드 기반의 텍스트 및 코드 에디터이며,\\n쉬운 ...   \n",
              "13  이상치\\n데이터 값 중 일반적인 분포에서 크게 벗어난 값을 의미하며, 이상치를 식별...   \n",
              "14                                                NaN   \n",
              "\n",
              "                                  2024-02-01 00:00:00  \n",
              "0   boolean indexing\\n데이터 프레임 내에서 컬럼에 특정 condition...  \n",
              "1   datetime\\n날짜와 시간을 처리하는 다양한 기능을 제공하는 파이썬 라이브러리로...  \n",
              "2   boxplot\\n수치형 데이터의 분포와 이상값을 시각화하는 그래프입니다. \\n4분위...  \n",
              "3   jointplot\\n산점도와 히스토그램을 결합한 그래프로 데이터의 분포와 변수 간의...  \n",
              "4                                                 NaN  \n",
              "5   산점도(scatter plot)\\n2개의 연속형 변수를 이용해 점을 찍어 만든 통계...  \n",
              "6   Series\\n1열로만 이루어진 자료구조이다.(index + value)\\n각 셀에...  \n",
              "7                                                 NaN  \n",
              "8   PANDAS loc\\n판다스에서 데이터프레임을 특정 행 , 열 을 기준으로 \\n나누...  \n",
              "9   query\\ndataframe에서 data를 특정조건에 따라 필터링할때 사용되는 메...  \n",
              "10  query()\\nDataFrame에서 특정 조건에 맞는 행들을 선택할 때 사용하는 ...  \n",
              "11  query                                         ...  \n",
              "12                                                NaN  \n",
              "13  datetime\\n날짜와 시간을 처리할 수 있는 클래스와 함수를 제공하는 파이썬 모...  \n",
              "14                                                NaN  "
            ],
            "text/html": [
              "\n",
              "  <div id=\"df-495ad7b8-83da-4976-9693-a9d517b5a487\" class=\"colab-df-container\">\n",
              "    <div>\n",
              "<style scoped>\n",
              "    .dataframe tbody tr th:only-of-type {\n",
              "        vertical-align: middle;\n",
              "    }\n",
              "\n",
              "    .dataframe tbody tr th {\n",
              "        vertical-align: top;\n",
              "    }\n",
              "\n",
              "    .dataframe thead th {\n",
              "        text-align: right;\n",
              "    }\n",
              "</style>\n",
              "<table border=\"1\" class=\"dataframe\">\n",
              "  <thead>\n",
              "    <tr style=\"text-align: right;\">\n",
              "      <th></th>\n",
              "      <th></th>\n",
              "      <th>Unnamed: 1</th>\n",
              "      <th>2024-02-15 00:00:00</th>\n",
              "      <th>2024-02-14 00:00:00</th>\n",
              "      <th>2024-02-13 00:00:00</th>\n",
              "      <th>2024-02-07 00:00:00</th>\n",
              "      <th>2024-02-06 00:00:00</th>\n",
              "      <th>2024-02-05 00:00:00</th>\n",
              "      <th>2024-02-02 00:00:00</th>\n",
              "      <th>2024-02-01 00:00:00</th>\n",
              "    </tr>\n",
              "  </thead>\n",
              "  <tbody>\n",
              "    <tr>\n",
              "      <th>0</th>\n",
              "      <td>문석천</td>\n",
              "      <td>NaN</td>\n",
              "      <td>비지도학습\\n머신러닝 학습의 일종으로 정답이 존재하지 않을 때 사용하는 방식이다.\\...</td>\n",
              "      <td>랜덤포레스트\\n지도 학습 알고리즘으로 의사결정트리의 집합이다.\\n목적은 True나 ...</td>\n",
              "      <td>지도학습 (supervisor learning)\\n머신러닝의 일종으로 컴퓨터에 모델...</td>\n",
              "      <td>귀무가설\\nEDA를 통해 얻은 인사이트를 기반으로 CDA를 통해서 규명하고자 하는 ...</td>\n",
              "      <td>pearsonr\\n다변수 검증 시 변수가 연속형과 연속형이고 정규분포일 경우 사용하...</td>\n",
              "      <td>insight\\n인사이트를 통해 얻은 데이터를 기반으로 분석하여 얻는 과정으로 데이...</td>\n",
              "      <td>EDA(탐색 데이터 분석)\\n얻은 데이터를 토대로 데이터탐색을 통한 가설을 수립하는...</td>\n",
              "      <td>boolean indexing\\n데이터 프레임 내에서 컬럼에 특정 condition...</td>\n",
              "    </tr>\n",
              "    <tr>\n",
              "      <th>1</th>\n",
              "      <td>김유진</td>\n",
              "      <td>NaN</td>\n",
              "      <td>특성공학(feature engineering)\\n원시 데이터로부터 유용한 특성을 추...</td>\n",
              "      <td>선형회귀(linear Regression)\\n종속 변수 y와 한 개 이상의 독립변수...</td>\n",
              "      <td>scikit-learn(사이킷런), sklearn\\n파이썬을 기반으로 작동하는 오픈...</td>\n",
              "      <td>NaN</td>\n",
              "      <td>CDA 확증 데이터 분석(Confirmatory Data Analysis)\\n규명하...</td>\n",
              "      <td>cut()\\n데이터를 구간 길이에 따라 나누는 함수로 데이터를 구간별로 쪼개어 나누...</td>\n",
              "      <td>결측치(missing value)\\n수집된 dataset 중 관측되지 않은 특정 확...</td>\n",
              "      <td>datetime\\n날짜와 시간을 처리하는 다양한 기능을 제공하는 파이썬 라이브러리로...</td>\n",
              "    </tr>\n",
              "    <tr>\n",
              "      <th>2</th>\n",
              "      <td>노주현</td>\n",
              "      <td>NaN</td>\n",
              "      <td>scaling\\n수치형 데이터 변수들의 범위를 조정하는 과정입니다.\\n데이터를 일정...</td>\n",
              "      <td>선형 회귀\\n종속 변수와 독립 변수들 간의 관계를 파악하는데 사용하는 통계적인 방법...</td>\n",
              "      <td>군집화(Clustering)\\n유사한 특성을 가진 데이터들끼리 그룹으로 나누는 작업...</td>\n",
              "      <td>anderson test \\n5000개 넘는 record를 가진 연속형 데이터의 정...</td>\n",
              "      <td>확증 데이터 분석\\n규명하고자 하는 바를 가설로 수립하여, 해당 가설이 참인지 거짓...</td>\n",
              "      <td>concat \\n여러 개의 데이터프레임이나 시리즈를 하나의 구조로 연결할 때 사용하...</td>\n",
              "      <td>데이터 전처리\\n분석을 하기 전에 데이터를 정리하고, 결측치와 이상값을 처리하는 과...</td>\n",
              "      <td>boxplot\\n수치형 데이터의 분포와 이상값을 시각화하는 그래프입니다. \\n4분위...</td>\n",
              "    </tr>\n",
              "    <tr>\n",
              "      <th>3</th>\n",
              "      <td>김하늘</td>\n",
              "      <td>NaN</td>\n",
              "      <td>NaN</td>\n",
              "      <td>피클 모듈\\n파이썬 객체를 저장하는데 사용하는 모듈로 작업 중인 파이썬 객체를 저장...</td>\n",
              "      <td>지도 학습\\n문제와 정답을 모두 알려주고 공부시키는 머신러닝의 일종으로 예측과 분류...</td>\n",
              "      <td>확증 데이터 분석(CDA)\\n규명하고자 하는 바를 가설로 수립한 다음, 해당 가설의...</td>\n",
              "      <td>Anderson-normality Test\\n연속형 데이터의 정규분포 여부를 확인하...</td>\n",
              "      <td>귀무가설\\n기각을 목적으로 수립하는 가설로 p-value가 0.05 이상일 때 귀무...</td>\n",
              "      <td>NaN</td>\n",
              "      <td>jointplot\\n산점도와 히스토그램을 결합한 그래프로 데이터의 분포와 변수 간의...</td>\n",
              "    </tr>\n",
              "    <tr>\n",
              "      <th>4</th>\n",
              "      <td>박요한</td>\n",
              "      <td>NaN</td>\n",
              "      <td>넓이 우선 탐색\\nBFS Breadth-First Search\\n\\n루트 노드에서 ...</td>\n",
              "      <td>서브쿼리\\n\\n쿼리 내부에 중첩된 쿼리문으로 쿼리 내에서 다차적 분류를 시행하여 연...</td>\n",
              "      <td>Logistic Regression\\n\\n범주형 종속 변수의 결과를 예측하기 위해 ...</td>\n",
              "      <td>이분탐색\\n\\n리스트 탐색 알고리즘 중 하나로 중앙값을 준으로 low high를 나...</td>\n",
              "      <td>정규표현식\\n\\n프로그래밍 내에서 사용하는 형식 언어로써, 특정한 패턴을 가진 문자...</td>\n",
              "      <td>Generator\\n\\n순서가 있는 iterator를 생성해주는 기능으로 yield...</td>\n",
              "      <td>탐욕 알고리즘\\n\\n양자 컴퓨터의 병렬적 구조가 아닌 현재의 직렬적 컴퓨터 시스템 ...</td>\n",
              "      <td>NaN</td>\n",
              "    </tr>\n",
              "    <tr>\n",
              "      <th>5</th>\n",
              "      <td>오지수</td>\n",
              "      <td>regular expression</td>\n",
              "      <td>Encoding\\n범주형 데이터를 숫자형 데이터로 변환하는 과정을 말한다. 이 과정...</td>\n",
              "      <td>강화학습(reinforcement learning)\\n문제와 정답을 알려주지 않고,...</td>\n",
              "      <td>데이터 전처리\\n결측치나 이상치를 분석에 적합한 형태로 가공하고 정제하는 과정을 말...</td>\n",
              "      <td>PDA(Predictive Data Analysis)\\n데이터 간 관계를 학습한 것...</td>\n",
              "      <td>기대빈도수(expected frequencies)\\n어떤 사건이 일어날 것으로 예상...</td>\n",
              "      <td>상관계수(correlation coefficient)\\n두 연속형 변수간의 상관관계...</td>\n",
              "      <td>NaN</td>\n",
              "      <td>산점도(scatter plot)\\n2개의 연속형 변수를 이용해 점을 찍어 만든 통계...</td>\n",
              "    </tr>\n",
              "    <tr>\n",
              "      <th>6</th>\n",
              "      <td>김명준</td>\n",
              "      <td>자연어 처리\\n컴퓨터가 인간의 언어를 이해하고 처리하는 기술을 말한다.\\n컴퓨터를 ...</td>\n",
              "      <td>지도학습\\n컴퓨터에게 문제와 정답을 모두 알려주고 공부시키는 머신러닝의 일종이다.\\...</td>\n",
              "      <td>머신러닝\\n인간의 학습 능력과 같은 기능을 컴퓨터에서 실현하고자 하는 기술 및 기법...</td>\n",
              "      <td>귀무가설\\n차이가 없거나 의미있는 차이가 없는 경우의 가설이다.\\n실험이나 연구를 ...</td>\n",
              "      <td>대립가설\\n새로운 결과나 주장을 '참'이라는 걸 입증하기위한 가설이다.\\n확률적으로...</td>\n",
              "      <td>p-value\\n확률을 측정한것이다. 0.05 이하면 통계적으로 유의하다고 판단한다...</td>\n",
              "      <td>seaborn\\n그래프를 매우 쉽게 표현할 수 있도록 돕는 시각화 라이브러리이다.\\...</td>\n",
              "      <td>pandas boxplot\\n데이터의 통계적의미를 표현하기위해 주로 사용한다.\\n데...</td>\n",
              "      <td>Series\\n1열로만 이루어진 자료구조이다.(index + value)\\n각 셀에...</td>\n",
              "    </tr>\n",
              "    <tr>\n",
              "      <th>7</th>\n",
              "      <td>공명윤</td>\n",
              "      <td>NaN</td>\n",
              "      <td>NaN</td>\n",
              "      <td>NaN</td>\n",
              "      <td>NaN</td>\n",
              "      <td>PDA(Predictive Data Analysis)\\n데이터 간 관계를 수치화해서...</td>\n",
              "      <td>확증 데이터 분석(Confirmatory Data Analysis)\\n규명하고자 하...</td>\n",
              "      <td>탐색 데이터 분석(Exploratory Data Analysis)\\n- 데이터 증상...</td>\n",
              "      <td>DDA(묘사 데이터 분석\\n통계적인 수치 데이터나 데이터의 구조 등을 분석하는 방법...</td>\n",
              "      <td>NaN</td>\n",
              "    </tr>\n",
              "    <tr>\n",
              "      <th>8</th>\n",
              "      <td>한동철</td>\n",
              "      <td>NaN</td>\n",
              "      <td>데이터스케일링\\n머신러닝을 위한 데이터셋을 정제할때, 특성별로 데이터\\n스케일이 다...</td>\n",
              "      <td>딥러닝\\n컴퓨터가 인간처럼 판단하고 학습할 수 있도록 하고 \\n이를 통해 사물이나 ...</td>\n",
              "      <td>머신러닝\\n머신 러닝 또는 기계 학습은 컴퓨터 과학 중 인공지능의\\n 한 분야로, ...</td>\n",
              "      <td>pda\\n데이터에 내재된 패턴을 분석하여  아직 수행되지\\n않을 일의 결과를 예측하...</td>\n",
              "      <td>상관계수\\n2개의 연속형 변수 간의  연관성에 대한 \\n측도이고 변수간의 분산상황이...</td>\n",
              "      <td>Kaggle\\n전 세계 데이터 사이언티스트들이 데이터를 분석할 수\\n 있도록 대회를...</td>\n",
              "      <td>Seaborn\\n시본은 Mapplotib 를 기반으로 발전된 라이브러리로써 \\n원하...</td>\n",
              "      <td>PANDAS loc\\n판다스에서 데이터프레임을 특정 행 , 열 을 기준으로 \\n나누...</td>\n",
              "    </tr>\n",
              "    <tr>\n",
              "      <th>9</th>\n",
              "      <td>조유경</td>\n",
              "      <td>NaN</td>\n",
              "      <td>NaN</td>\n",
              "      <td>Supervised Learning 지도 학습\\n머신러닝을 학습시키는 방식 중 하나...</td>\n",
              "      <td>Linear Regression 선형회귀분석\\n데이터의 경향성을 가장 잘 설명하는 ...</td>\n",
              "      <td>p-value\\n관찰된 데이터 이상의 극단적인 결과를 얻을 확률을 의미한다. \\np...</td>\n",
              "      <td>대립가설\\n귀무가설에 대조되는 가설로 특정한 관계나 차이가 존재하다는 것을 주장하는...</td>\n",
              "      <td>cut()\\n데이터를 구간 길이에 따라 나누는 함수이다. \\n연속형 데이터를 범주형...</td>\n",
              "      <td>EDA(탐색 데이터 분석, Exploratory Data Analysis)\\n데이터...</td>\n",
              "      <td>query\\ndataframe에서 data를 특정조건에 따라 필터링할때 사용되는 메...</td>\n",
              "    </tr>\n",
              "    <tr>\n",
              "      <th>10</th>\n",
              "      <td>김덕재</td>\n",
              "      <td>NaN</td>\n",
              "      <td>sampling\\n분류모델에서 Dataset 비율이 차이나는 경우 비율을 맞추기 위...</td>\n",
              "      <td>MSE(Mean Squared Error)\\n모델의 성능을 평가하는 산출방법\\n오차...</td>\n",
              "      <td>NumPy\\n수학 및 과학 연산을 위한 파이썬 패키지이다\\n판다스나 다른 패키지 등...</td>\n",
              "      <td>anderson-darling test\\n분석을 하고자 하는 데이터의 분포도를 확인...</td>\n",
              "      <td>귀무가설\\n데이터 분석에서 어떠한 가설을 수립하였을 때 그 가설이 유의미하지 않을 ...</td>\n",
              "      <td>Pandas Concat\\n데이터 프레임 기준 같은 컬럼끼리 이어 붙이는 명령어\\n...</td>\n",
              "      <td>전처리\\n데이터 분석을 하기 전에 결측치를 확인하고 처리하는 과정\\n결측치를 확인한...</td>\n",
              "      <td>query()\\nDataFrame에서 특정 조건에 맞는 행들을 선택할 때 사용하는 ...</td>\n",
              "    </tr>\n",
              "    <tr>\n",
              "      <th>11</th>\n",
              "      <td>김경하</td>\n",
              "      <td>NaN</td>\n",
              "      <td>OneHotEncoder\\n범주형 데이터를 수치형 데이터로 변환하는 방법 중 하나이...</td>\n",
              "      <td>선형회귀분석\\n독립 변수와 종속 변수 사이의 관계를 모델링하는 통계적 기법으로 목적...</td>\n",
              "      <td>머신러닝\\n컴퓨터가 학습을 통해 성능을 개선하는 인공지능의 한 분야로, 크게 지도 ...</td>\n",
              "      <td>NaN</td>\n",
              "      <td>귀무가설\\n귀무가설은 주로 \"변화가 없다\" 또는 \"차이가 없다\"라는 상태를 나타내며...</td>\n",
              "      <td>pandas cut()\\n값의 범위를 기반으로 데이터를 여러 구간으로 나누는 역할을...</td>\n",
              "      <td>NaN</td>\n",
              "      <td>query                                         ...</td>\n",
              "    </tr>\n",
              "    <tr>\n",
              "      <th>12</th>\n",
              "      <td>서정민</td>\n",
              "      <td>NaN</td>\n",
              "      <td>f1 score\\nf1 score는 머신러닝과 통계에서 사용되는 평가 지표이며, 정...</td>\n",
              "      <td>NaN</td>\n",
              "      <td>머신러닝\\n머신러닝은 인공지능의 한 분야로, \\n컴퓨터가 학습을 통해 스스로 성능을...</td>\n",
              "      <td>scipy.stats\\nScipy 모듈의 기능중 하나로 다양한 통계 알고리즘과 확률...</td>\n",
              "      <td>shapiro test\\n표본이 적은 데이터의 정규성을 검사할 때 사용하며, 민감도...</td>\n",
              "      <td>p-value\\nabbreviation of probablity-value.\\n어떤...</td>\n",
              "      <td>구글 코랩\\n구글에서 제공하는 클라우드 기반의 텍스트 및 코드 에디터이며,\\n쉬운 ...</td>\n",
              "      <td>NaN</td>\n",
              "    </tr>\n",
              "    <tr>\n",
              "      <th>13</th>\n",
              "      <td>장영지</td>\n",
              "      <td>자연어 처리(Natural Language Processing)\\n</td>\n",
              "      <td>스케일링\\n서로 다른 범위의 값을 가진 데이터들의 범위를 표준화시키는 과정이다. 머...</td>\n",
              "      <td>pickle\\n파이썬 객체 자체를 이진파일로 저장하는 파이썬 모듈이다. 대량의 데이...</td>\n",
              "      <td>머신러닝\\n컴퓨터가 데이터를 학습해서 규칙을 찾아내는 과정이다. 머신러닝 모델이 학...</td>\n",
              "      <td>정규성 검증\\n데이터가 정규 분포를 따르는지 여부를 확인하는 과정이다. 데이터의 분...</td>\n",
              "      <td>귀무가설\\n처음부터 기각할 것을 예상하고 세우는 가설이다. 차이가 없거나 유의미한 ...</td>\n",
              "      <td>pandas.concat\\n동일한 컬럼 구조를 가진 시리즈나 데이터프레임을 하나의 ...</td>\n",
              "      <td>이상치\\n데이터 값 중 일반적인 분포에서 크게 벗어난 값을 의미하며, 이상치를 식별...</td>\n",
              "      <td>datetime\\n날짜와 시간을 처리할 수 있는 클래스와 함수를 제공하는 파이썬 모...</td>\n",
              "    </tr>\n",
              "    <tr>\n",
              "      <th>14</th>\n",
              "      <td>오상훈</td>\n",
              "      <td>NaN</td>\n",
              "      <td>NaN</td>\n",
              "      <td>NaN</td>\n",
              "      <td>NaN</td>\n",
              "      <td>NaN</td>\n",
              "      <td>NaN</td>\n",
              "      <td>NaN</td>\n",
              "      <td>NaN</td>\n",
              "      <td>NaN</td>\n",
              "    </tr>\n",
              "  </tbody>\n",
              "</table>\n",
              "</div>\n",
              "    <div class=\"colab-df-buttons\">\n",
              "\n",
              "  <div class=\"colab-df-container\">\n",
              "    <button class=\"colab-df-convert\" onclick=\"convertToInteractive('df-495ad7b8-83da-4976-9693-a9d517b5a487')\"\n",
              "            title=\"Convert this dataframe to an interactive table.\"\n",
              "            style=\"display:none;\">\n",
              "\n",
              "  <svg xmlns=\"http://www.w3.org/2000/svg\" height=\"24px\" viewBox=\"0 -960 960 960\">\n",
              "    <path d=\"M120-120v-720h720v720H120Zm60-500h600v-160H180v160Zm220 220h160v-160H400v160Zm0 220h160v-160H400v160ZM180-400h160v-160H180v160Zm440 0h160v-160H620v160ZM180-180h160v-160H180v160Zm440 0h160v-160H620v160Z\"/>\n",
              "  </svg>\n",
              "    </button>\n",
              "\n",
              "  <style>\n",
              "    .colab-df-container {\n",
              "      display:flex;\n",
              "      gap: 12px;\n",
              "    }\n",
              "\n",
              "    .colab-df-convert {\n",
              "      background-color: #E8F0FE;\n",
              "      border: none;\n",
              "      border-radius: 50%;\n",
              "      cursor: pointer;\n",
              "      display: none;\n",
              "      fill: #1967D2;\n",
              "      height: 32px;\n",
              "      padding: 0 0 0 0;\n",
              "      width: 32px;\n",
              "    }\n",
              "\n",
              "    .colab-df-convert:hover {\n",
              "      background-color: #E2EBFA;\n",
              "      box-shadow: 0px 1px 2px rgba(60, 64, 67, 0.3), 0px 1px 3px 1px rgba(60, 64, 67, 0.15);\n",
              "      fill: #174EA6;\n",
              "    }\n",
              "\n",
              "    .colab-df-buttons div {\n",
              "      margin-bottom: 4px;\n",
              "    }\n",
              "\n",
              "    [theme=dark] .colab-df-convert {\n",
              "      background-color: #3B4455;\n",
              "      fill: #D2E3FC;\n",
              "    }\n",
              "\n",
              "    [theme=dark] .colab-df-convert:hover {\n",
              "      background-color: #434B5C;\n",
              "      box-shadow: 0px 1px 3px 1px rgba(0, 0, 0, 0.15);\n",
              "      filter: drop-shadow(0px 1px 2px rgba(0, 0, 0, 0.3));\n",
              "      fill: #FFFFFF;\n",
              "    }\n",
              "  </style>\n",
              "\n",
              "    <script>\n",
              "      const buttonEl =\n",
              "        document.querySelector('#df-495ad7b8-83da-4976-9693-a9d517b5a487 button.colab-df-convert');\n",
              "      buttonEl.style.display =\n",
              "        google.colab.kernel.accessAllowed ? 'block' : 'none';\n",
              "\n",
              "      async function convertToInteractive(key) {\n",
              "        const element = document.querySelector('#df-495ad7b8-83da-4976-9693-a9d517b5a487');\n",
              "        const dataTable =\n",
              "          await google.colab.kernel.invokeFunction('convertToInteractive',\n",
              "                                                    [key], {});\n",
              "        if (!dataTable) return;\n",
              "\n",
              "        const docLinkHtml = 'Like what you see? Visit the ' +\n",
              "          '<a target=\"_blank\" href=https://colab.research.google.com/notebooks/data_table.ipynb>data table notebook</a>'\n",
              "          + ' to learn more about interactive tables.';\n",
              "        element.innerHTML = '';\n",
              "        dataTable['output_type'] = 'display_data';\n",
              "        await google.colab.output.renderOutput(dataTable, element);\n",
              "        const docLink = document.createElement('div');\n",
              "        docLink.innerHTML = docLinkHtml;\n",
              "        element.appendChild(docLink);\n",
              "      }\n",
              "    </script>\n",
              "  </div>\n",
              "\n",
              "\n",
              "<div id=\"df-60ea38a8-843e-408b-adce-1e4585b477e5\">\n",
              "  <button class=\"colab-df-quickchart\" onclick=\"quickchart('df-60ea38a8-843e-408b-adce-1e4585b477e5')\"\n",
              "            title=\"Suggest charts\"\n",
              "            style=\"display:none;\">\n",
              "\n",
              "<svg xmlns=\"http://www.w3.org/2000/svg\" height=\"24px\"viewBox=\"0 0 24 24\"\n",
              "     width=\"24px\">\n",
              "    <g>\n",
              "        <path d=\"M19 3H5c-1.1 0-2 .9-2 2v14c0 1.1.9 2 2 2h14c1.1 0 2-.9 2-2V5c0-1.1-.9-2-2-2zM9 17H7v-7h2v7zm4 0h-2V7h2v10zm4 0h-2v-4h2v4z\"/>\n",
              "    </g>\n",
              "</svg>\n",
              "  </button>\n",
              "\n",
              "<style>\n",
              "  .colab-df-quickchart {\n",
              "      --bg-color: #E8F0FE;\n",
              "      --fill-color: #1967D2;\n",
              "      --hover-bg-color: #E2EBFA;\n",
              "      --hover-fill-color: #174EA6;\n",
              "      --disabled-fill-color: #AAA;\n",
              "      --disabled-bg-color: #DDD;\n",
              "  }\n",
              "\n",
              "  [theme=dark] .colab-df-quickchart {\n",
              "      --bg-color: #3B4455;\n",
              "      --fill-color: #D2E3FC;\n",
              "      --hover-bg-color: #434B5C;\n",
              "      --hover-fill-color: #FFFFFF;\n",
              "      --disabled-bg-color: #3B4455;\n",
              "      --disabled-fill-color: #666;\n",
              "  }\n",
              "\n",
              "  .colab-df-quickchart {\n",
              "    background-color: var(--bg-color);\n",
              "    border: none;\n",
              "    border-radius: 50%;\n",
              "    cursor: pointer;\n",
              "    display: none;\n",
              "    fill: var(--fill-color);\n",
              "    height: 32px;\n",
              "    padding: 0;\n",
              "    width: 32px;\n",
              "  }\n",
              "\n",
              "  .colab-df-quickchart:hover {\n",
              "    background-color: var(--hover-bg-color);\n",
              "    box-shadow: 0 1px 2px rgba(60, 64, 67, 0.3), 0 1px 3px 1px rgba(60, 64, 67, 0.15);\n",
              "    fill: var(--button-hover-fill-color);\n",
              "  }\n",
              "\n",
              "  .colab-df-quickchart-complete:disabled,\n",
              "  .colab-df-quickchart-complete:disabled:hover {\n",
              "    background-color: var(--disabled-bg-color);\n",
              "    fill: var(--disabled-fill-color);\n",
              "    box-shadow: none;\n",
              "  }\n",
              "\n",
              "  .colab-df-spinner {\n",
              "    border: 2px solid var(--fill-color);\n",
              "    border-color: transparent;\n",
              "    border-bottom-color: var(--fill-color);\n",
              "    animation:\n",
              "      spin 1s steps(1) infinite;\n",
              "  }\n",
              "\n",
              "  @keyframes spin {\n",
              "    0% {\n",
              "      border-color: transparent;\n",
              "      border-bottom-color: var(--fill-color);\n",
              "      border-left-color: var(--fill-color);\n",
              "    }\n",
              "    20% {\n",
              "      border-color: transparent;\n",
              "      border-left-color: var(--fill-color);\n",
              "      border-top-color: var(--fill-color);\n",
              "    }\n",
              "    30% {\n",
              "      border-color: transparent;\n",
              "      border-left-color: var(--fill-color);\n",
              "      border-top-color: var(--fill-color);\n",
              "      border-right-color: var(--fill-color);\n",
              "    }\n",
              "    40% {\n",
              "      border-color: transparent;\n",
              "      border-right-color: var(--fill-color);\n",
              "      border-top-color: var(--fill-color);\n",
              "    }\n",
              "    60% {\n",
              "      border-color: transparent;\n",
              "      border-right-color: var(--fill-color);\n",
              "    }\n",
              "    80% {\n",
              "      border-color: transparent;\n",
              "      border-right-color: var(--fill-color);\n",
              "      border-bottom-color: var(--fill-color);\n",
              "    }\n",
              "    90% {\n",
              "      border-color: transparent;\n",
              "      border-bottom-color: var(--fill-color);\n",
              "    }\n",
              "  }\n",
              "</style>\n",
              "\n",
              "  <script>\n",
              "    async function quickchart(key) {\n",
              "      const quickchartButtonEl =\n",
              "        document.querySelector('#' + key + ' button');\n",
              "      quickchartButtonEl.disabled = true;  // To prevent multiple clicks.\n",
              "      quickchartButtonEl.classList.add('colab-df-spinner');\n",
              "      try {\n",
              "        const charts = await google.colab.kernel.invokeFunction(\n",
              "            'suggestCharts', [key], {});\n",
              "      } catch (error) {\n",
              "        console.error('Error during call to suggestCharts:', error);\n",
              "      }\n",
              "      quickchartButtonEl.classList.remove('colab-df-spinner');\n",
              "      quickchartButtonEl.classList.add('colab-df-quickchart-complete');\n",
              "    }\n",
              "    (() => {\n",
              "      let quickchartButtonEl =\n",
              "        document.querySelector('#df-60ea38a8-843e-408b-adce-1e4585b477e5 button');\n",
              "      quickchartButtonEl.style.display =\n",
              "        google.colab.kernel.accessAllowed ? 'block' : 'none';\n",
              "    })();\n",
              "  </script>\n",
              "</div>\n",
              "\n",
              "    </div>\n",
              "  </div>\n"
            ],
            "application/vnd.google.colaboratory.intrinsic+json": {
              "type": "dataframe",
              "summary": "{\n  \"name\": \"df_sheets[0]\",\n  \"rows\": 15,\n  \"fields\": [\n    {\n      \"column\": \"            \",\n      \"properties\": {\n        \"dtype\": \"string\",\n        \"samples\": [\n          \"\\uc870\\uc720\\uacbd\",\n          \"\\uae40\\uacbd\\ud558\",\n          \"\\ubb38\\uc11d\\ucc9c\"\n        ],\n        \"num_unique_values\": 15,\n        \"semantic_type\": \"\",\n        \"description\": \"\"\n      }\n    },\n    {\n      \"column\": \"Unnamed: 1\",\n      \"properties\": {\n        \"dtype\": \"category\",\n        \"samples\": [\n          \"regular expression\",\n          \"\\uc790\\uc5f0\\uc5b4 \\ucc98\\ub9ac\\n\\ucef4\\ud4e8\\ud130\\uac00 \\uc778\\uac04\\uc758 \\uc5b8\\uc5b4\\ub97c \\uc774\\ud574\\ud558\\uace0 \\ucc98\\ub9ac\\ud558\\ub294 \\uae30\\uc220\\uc744 \\ub9d0\\ud55c\\ub2e4.\\n\\ucef4\\ud4e8\\ud130\\ub97c \\uc774\\uc6a9\\ud574 \\uc778\\uac04 \\uc5b8\\uc5b4 \\uc774\\ud574, \\uc0dd\\uc131 \\ubc0f \\ubd84\\uc11d\\uc744 \\ub2e4\\ub8e8\\uae30 \\uc704\\ud55c \\ubaa9\\uc801\\uc774\\ub2e4.\",\n          \"\\uc790\\uc5f0\\uc5b4 \\ucc98\\ub9ac(Natural Language Processing)\\n\"\n        ],\n        \"num_unique_values\": 3,\n        \"semantic_type\": \"\",\n        \"description\": \"\"\n      }\n    },\n    {\n      \"column\": \"2024-02-15 00:00:00\",\n      \"properties\": {\n        \"dtype\": \"string\",\n        \"samples\": [\n          \"\\uc9c0\\ub3c4\\ud559\\uc2b5\\n\\ucef4\\ud4e8\\ud130\\uc5d0\\uac8c \\ubb38\\uc81c\\uc640 \\uc815\\ub2f5\\uc744 \\ubaa8\\ub450 \\uc54c\\ub824\\uc8fc\\uace0 \\uacf5\\ubd80\\uc2dc\\ud0a4\\ub294 \\uba38\\uc2e0\\ub7ec\\ub2dd\\uc758 \\uc77c\\uc885\\uc774\\ub2e4.\\n\\ub370\\uc774\\ud130\\uac00 \\uc8fc\\uc5b4\\uc84c\\uc744 \\ub54c \\ub808\\uc774\\ube14\\uc744 \\ucd9c\\ub825\\ud558\\ub3c4\\ub85d \\ud558\\ub294 \\ud568\\uc218\\ub97c \\ud559\\uc2b5\\ud558\\ub294 \\uac83\\uc774 \\ubaa9\\uc801\\uc774\\ub2e4.\",\n          \"\\ube44\\uc9c0\\ub3c4\\ud559\\uc2b5\\n\\uba38\\uc2e0\\ub7ec\\ub2dd \\ud559\\uc2b5\\uc758 \\uc77c\\uc885\\uc73c\\ub85c \\uc815\\ub2f5\\uc774 \\uc874\\uc7ac\\ud558\\uc9c0 \\uc54a\\uc744 \\ub54c \\uc0ac\\uc6a9\\ud558\\ub294 \\ubc29\\uc2dd\\uc774\\ub2e4.\\n\\ubaa9\\uc801: \\uc815\\ub2f5\\uc774 \\uc5c6\\uae30\\ub54c\\ubb38\\uc5d0 \\uc8fc\\uc5b4\\uc9c4 \\ud559\\uc2b5\\ubc29\\uc2dd\\uc744 \\uc774\\uc6a9\\ud558\\uc5ec \\ub370\\uc774\\ud130\\uac00 \\uac00\\uc9c4 \\uc758\\ubbf8\\ub97c \\ub3c4\\ucd9c\\ud574\\ub0b4\\uae30 \\uc704\\ud574 \\uc0ac\\uc6a9\\ud55c\\ub2e4\",\n          \"f1 score\\nf1 score\\ub294 \\uba38\\uc2e0\\ub7ec\\ub2dd\\uacfc \\ud1b5\\uacc4\\uc5d0\\uc11c \\uc0ac\\uc6a9\\ub418\\ub294 \\ud3c9\\uac00 \\uc9c0\\ud45c\\uc774\\uba70, \\uc815\\ubc00\\ub3c4\\uc640 \\uc7ac\\ud604\\uc728\\uc758 \\uc870\\ud654 \\ud3c9\\uade0\\uc774\\ub2e4. \\n\\ub530\\ub77c\\uc11c, f1 score\\ub97c \\uc0ac\\uc6a9\\ud558\\uba74 \\ubaa8\\ub378\\uc758 \\uc131\\ub2a5\\uc744 \\ub354 \\uc815\\ud655\\ud558\\uac8c \\ud3c9\\uac00\\ud560 \\uc218 \\uc788\\ub2e4. \"\n        ],\n        \"num_unique_values\": 11,\n        \"semantic_type\": \"\",\n        \"description\": \"\"\n      }\n    },\n    {\n      \"column\": \"2024-02-14 00:00:00\",\n      \"properties\": {\n        \"dtype\": \"string\",\n        \"samples\": [\n          \"\\uc120\\ud615\\ud68c\\uadc0\\ubd84\\uc11d\\n\\ub3c5\\ub9bd \\ubcc0\\uc218\\uc640 \\uc885\\uc18d \\ubcc0\\uc218 \\uc0ac\\uc774\\uc758 \\uad00\\uacc4\\ub97c \\ubaa8\\ub378\\ub9c1\\ud558\\ub294 \\ud1b5\\uacc4\\uc801 \\uae30\\ubc95\\uc73c\\ub85c \\ubaa9\\uc801\\uc740 \\ub3c5\\ub9bd \\ubcc0\\uc218\\uc758 \\ubcc0\\ud654\\uc5d0 \\ub530\\ub978 \\uc885\\uc18d \\ubcc0\\uc218\\uc758 \\ubcc0\\ud654\\ub97c \\uc608\\uce21\\ud560 \\uc218 \\uc788\\ub2e4.\",\n          \"MSE(Mean Squared Error)\\n\\ubaa8\\ub378\\uc758 \\uc131\\ub2a5\\uc744 \\ud3c9\\uac00\\ud558\\ub294 \\uc0b0\\ucd9c\\ubc29\\ubc95\\n\\uc624\\ucc28\\uc758 \\uc81c\\uacf1\\uc758 \\ud3c9\\uade0\\uc744 \\uad6c\\ud574\\uc11c \\uac12\\uc744 \\uc0b0\\ucd9c\\ud55c\\ub2e4.\",\n          \"\\ub79c\\ub364\\ud3ec\\ub808\\uc2a4\\ud2b8\\n\\uc9c0\\ub3c4 \\ud559\\uc2b5 \\uc54c\\uace0\\ub9ac\\uc998\\uc73c\\ub85c \\uc758\\uc0ac\\uacb0\\uc815\\ud2b8\\ub9ac\\uc758 \\uc9d1\\ud569\\uc774\\ub2e4.\\n\\ubaa9\\uc801\\uc740 True\\ub098 False\\ub85c \\uc751\\ub2f5\\ud558\\ub294 \\uc758\\uc0ac\\uacb0\\uc815\\ud2b8\\ub9ac\\ub97c \\uc9d1\\ud569\\ud568\\uc73c\\ub85c\\uc368 \\ud559\\uc2b5\\uc758 \\uc131\\ub2a5\\uc744 \\ub192\\uc774\\uae30 \\uc704\\ud574\\uc11c\\ub2e4.\"\n        ],\n        \"num_unique_values\": 12,\n        \"semantic_type\": \"\",\n        \"description\": \"\"\n      }\n    },\n    {\n      \"column\": \"2024-02-13 00:00:00\",\n      \"properties\": {\n        \"dtype\": \"string\",\n        \"samples\": [\n          \"\\uba38\\uc2e0\\ub7ec\\ub2dd\\n\\uba38\\uc2e0\\ub7ec\\ub2dd\\uc740 \\uc778\\uacf5\\uc9c0\\ub2a5\\uc758 \\ud55c \\ubd84\\uc57c\\ub85c, \\n\\ucef4\\ud4e8\\ud130\\uac00 \\ud559\\uc2b5\\uc744 \\ud1b5\\ud574 \\uc2a4\\uc2a4\\ub85c \\uc131\\ub2a5\\uc744 \\ud5a5\\uc0c1\\uc2dc\\ud0a4\\ub294 \\uc54c\\uace0\\ub9ac\\uc998\\uacfc \\uae30\\uc220\\uc744 \\uac1c\\ubc1c\\ud558\\ub294 \\uc5f0\\uad6c \\ubd84\\uc57c\\ub97c \\ub9d0\\ud569\\ub2c8\\ub2e4.\",\n          \"NumPy\\n\\uc218\\ud559 \\ubc0f \\uacfc\\ud559 \\uc5f0\\uc0b0\\uc744 \\uc704\\ud55c \\ud30c\\uc774\\uc36c \\ud328\\ud0a4\\uc9c0\\uc774\\ub2e4\\n\\ud310\\ub2e4\\uc2a4\\ub098 \\ub2e4\\ub978 \\ud328\\ud0a4\\uc9c0 \\ub4f1\\uacfc\\uc758 \\uc870\\ud569\\uc744 \\uc218\\uc6d4\\ud558\\uac8c \\ud558\\uace0, \\ud589\\ub82c\\uc758 \\uc5f0\\uc0b0\\uc744 \\uae30\\uc874 \\ubc29\\uc2dd\\ubcf4\\ub2e4 \\uac04\\ud3b8\\ud558\\uac8c \\ud560 \\uc218 \\uc788\\uac8c \\ud558\\uae30\\uc704\\ud574 \\uc0dd\\uaca8\\ub0ac\\ub2e4.\",\n          \"\\uc9c0\\ub3c4\\ud559\\uc2b5 (supervisor learning)\\n\\uba38\\uc2e0\\ub7ec\\ub2dd\\uc758 \\uc77c\\uc885\\uc73c\\ub85c \\ucef4\\ud4e8\\ud130\\uc5d0 \\ubaa8\\ub378\\uc5d0 \\ubb38\\uc81c\\uc640 \\ub2f5\\uc744 \\ubd80\\uc5ec\\ud558\\uc5ec \\ud559\\uc2b5\\uc2dc\\ud0a4\\ub294 \\ubc29\\uc2dd\\uc774\\ub2e4.\\n\\ubaa9\\uc801 : feature\\uac12\\uacfc \\uac19\\uc740 \\uc785\\ub825 \\ub370\\uc774\\ud130\\uc5d0 \\ub530\\ub978 target\\uac12\\uc744 \\uc608\\uce21\\ud558\\ub294 \\ubaa8\\ub378\\uc744 \\uc0dd\\uc131\\ud558\\uae30 \\uc704\\ud574 \\uc0ac\\uc6a9\\ud558\\uae30 \\uc704\\ud574 \\uc0ac\\uc6a9\\ud55c\\ub2e4.\"\n        ],\n        \"num_unique_values\": 13,\n        \"semantic_type\": \"\",\n        \"description\": \"\"\n      }\n    },\n    {\n      \"column\": \"2024-02-07 00:00:00\",\n      \"properties\": {\n        \"dtype\": \"string\",\n        \"samples\": [\n          \"scipy.stats\\nScipy \\ubaa8\\ub4c8\\uc758 \\uae30\\ub2a5\\uc911 \\ud558\\ub098\\ub85c \\ub2e4\\uc591\\ud55c \\ud1b5\\uacc4 \\uc54c\\uace0\\ub9ac\\uc998\\uacfc \\ud655\\ub960 \\ubd84\\ud3ec \\ubd84\\uc11d \\uae30\\ub2a5\\uc744 \\uc81c\\uacf5\\ud558\\uc5ec, \\n\\uc0ac\\uc6a9\\uc790\\uac00 \\ub370\\uc774\\ud130\\ub97c \\ud1b5\\ud574 \\ud1b5\\uacc4\\uc801 \\uac00\\uc124\\uc744 \\ud6a8\\uc728\\uc801\\uc73c\\ub85c \\uac80\\uc99d\\ud558\\uace0 \\uc774\\ud574\\ud558\\ub294 \\ub370 \\ub3c4\\uc6c0\\uc744 \\uc8fc\\ub294 \\ubaa8\\ub4c8\\uc774\\ub2e4.\",\n          \"anderson-darling test\\n\\ubd84\\uc11d\\uc744 \\ud558\\uace0\\uc790 \\ud558\\ub294 \\ub370\\uc774\\ud130\\uc758 \\ubd84\\ud3ec\\ub3c4\\ub97c \\ud655\\uc778\\ud558\\ub294 \\uac80\\uc0ac\\uae30\\ubc95\\n\\uc815\\uaddc\\ubd84\\ud3ec\\uc778 \\uacbd\\uc6b0 levene \\uac80\\uc0ac\\ub97c \\ud1b5\\ud574 \\ub4f1\\ubd84\\uc0b0/\\uc774\\ubd84\\uc0b0 \\uc5ec\\ubd80\\ub97c \\ud30c\\uc545\\ud55c \\ub4a4 \\ub2e4\\uc74c \\ud504\\ub85c\\uc138\\uc2a4\\ub97c \\uc9c4\\ud589\\ud558\\uace0, \\ube44\\uc815\\uaddc \\ubd84\\ud3ec\\uc77c \\uacbd\\uc6b0 \\ubc94\\uc8fc\\uac00 \\ub450\\uac00\\uc9c0\\ub77c\\uba74 ttest\\ub97c, 3\\uac00\\uc9c0 \\uc774\\uc0c1\\uc774\\ub77c\\uba74 kruskal\\uac80\\uc0ac\\ub97c \\uc9c4\\ud589\\ud55c\\ub2e4\",\n          \"\\uadc0\\ubb34\\uac00\\uc124\\nEDA\\ub97c \\ud1b5\\ud574 \\uc5bb\\uc740 \\uc778\\uc0ac\\uc774\\ud2b8\\ub97c \\uae30\\ubc18\\uc73c\\ub85c CDA\\ub97c \\ud1b5\\ud574\\uc11c \\uaddc\\uba85\\ud558\\uace0\\uc790 \\ud558\\ub294 \\uac00\\uc124\\uc5d0 \\ubc18\\ub300\\ub418\\uc5b4 \\uae30\\uac01\\ud558\\uace0\\uc790\\ud558\\ub294 \\uac00\\uc124\\uc774\\ub2e4.\\n\\ubaa9\\uc801\\uc740 \\uc774\\uac83\\uc744 \\uae30\\uac01\\ud558\\uc5ec \\ubc1d\\ud788\\uace0\\uc790 \\ud558\\ub294 \\uac00\\uc124\\uc758 \\uc9c4\\uc2e4 \\uc5ec\\ubd80\\ub97c \\ud310\\ubcc4\\ud558\\uae30 \\uc704\\ud574 \\uc0ac\\uc6a9\\ud55c\\ub2e4\"\n        ],\n        \"num_unique_values\": 12,\n        \"semantic_type\": \"\",\n        \"description\": \"\"\n      }\n    },\n    {\n      \"column\": \"2024-02-06 00:00:00\",\n      \"properties\": {\n        \"dtype\": \"string\",\n        \"samples\": [\n          \"\\ub300\\ub9bd\\uac00\\uc124\\n\\uadc0\\ubb34\\uac00\\uc124\\uc5d0 \\ub300\\uc870\\ub418\\ub294 \\uac00\\uc124\\ub85c \\ud2b9\\uc815\\ud55c \\uad00\\uacc4\\ub098 \\ucc28\\uc774\\uac00 \\uc874\\uc7ac\\ud558\\ub2e4\\ub294 \\uac83\\uc744 \\uc8fc\\uc7a5\\ud558\\ub294 \\uac00\\uc124\\uc785\\ub2c8\\ub2e4.\\n\\uadc0\\ubb34\\uac00\\uc124\\uc774 \\ucc44\\ud0dd\\ub418\\uc9c0 \\uc54a\\uc558\\uc744\\ub54c \\ucc44\\ud0dd\\ub418\\uba70, \\uc8fc\\uc7a5\\ud558\\uace0\\uc790 \\ud558\\ub294 \\ubc14\\ub97c \\uc218\\uce58\\uc801\\uc73c\\ub85c \\uc99d\\uba85\\ud558\\uae30 \\uc704\\ud574 \\uc0ac\\uc6a9\\ub41c\\ub2e4.\",\n          \"\\uadc0\\ubb34\\uac00\\uc124\\n\\uadc0\\ubb34\\uac00\\uc124\\uc740 \\uc8fc\\ub85c \\\"\\ubcc0\\ud654\\uac00 \\uc5c6\\ub2e4\\\" \\ub610\\ub294 \\\"\\ucc28\\uc774\\uac00 \\uc5c6\\ub2e4\\\"\\ub77c\\ub294 \\uc0c1\\ud0dc\\ub97c \\ub098\\ud0c0\\ub0b4\\uba70 \\ub450 \\uadf8\\ub8f9\\uac04\\uc758 \\ud3c9\\uade0\\uc774 \\uac19\\uac70\\ub098 \\uc5b4\\ub5a4 \\ubcc0\\uc218\\uac00 \\ub2e4\\ub978 \\ubcc0\\uc218\\uc5d0 \\uc601\\ud5a5\\uc744 \\ubbf8\\uce58\\uc9c0 \\uc54a\\ub294\\ub2e4\\ub294 \\uac83\\uacfc \\uac19\\uc740 \\uac00\\uc124\\uc744 \\uc758\\ubbf8\\ud558\\uba70 \\uc8fc\\uc694\\ubaa9\\uc801\\uc740 \\ubd84\\uc11d\\ud558\\uace0\\uc790 \\ud558\\ub294 \\ub370\\uc774\\ud130\\ub97c \\ud1b5\\ud574 \\uc5bb\\uc740 \\uacb0\\uacfc\\uac00 \\uc720\\uc758\\ubbf8\\ud55c\\uc9c0 \\ud310\\ub2e8\\ud558\\ub294 \\uac83\\uc774\\ub2e4.\",\n          \"pearsonr\\n\\ub2e4\\ubcc0\\uc218 \\uac80\\uc99d \\uc2dc \\ubcc0\\uc218\\uac00 \\uc5f0\\uc18d\\ud615\\uacfc \\uc5f0\\uc18d\\ud615\\uc774\\uace0 \\uc815\\uaddc\\ubd84\\ud3ec\\uc77c \\uacbd\\uc6b0 \\uc0ac\\uc6a9\\ud558\\ub294 CDA \\uae30\\uc220 \\uc911 \\ud558\\ub098\\ub85c EDA\\ub97c \\ud1b5\\ud574 \\uc218\\ub9bd\\ud55c \\uac00\\uc124\\uc774 \\uc720\\uc758\\ud55c\\uc9c0\\uc758 \\uc5ec\\ubd80\\ub97c \\ud310\\ubcc4\\ud558\\uae30 \\uc704\\ud574 \\uc0ac\\uc6a9\\ud55c\\ub2e4.\"\n        ],\n        \"num_unique_values\": 14,\n        \"semantic_type\": \"\",\n        \"description\": \"\"\n      }\n    },\n    {\n      \"column\": \"2024-02-05 00:00:00\",\n      \"properties\": {\n        \"dtype\": \"string\",\n        \"samples\": [\n          \"cut()\\n\\ub370\\uc774\\ud130\\ub97c \\uad6c\\uac04 \\uae38\\uc774\\uc5d0 \\ub530\\ub77c \\ub098\\ub204\\ub294 \\ud568\\uc218\\uc774\\ub2e4. \\n\\uc5f0\\uc18d\\ud615 \\ub370\\uc774\\ud130\\ub97c \\ubc94\\uc8fc\\ud615 \\ub370\\uc774\\ud130\\ub85c \\ubc14\\uafd4\\uc904 \\ub54c \\uc0ac\\uc6a9\\ub418\\uba70, \\ub370\\uc774\\ud130\\ub4e4\\uc744 \\uad6c\\uac04\\ubcc4\\ub85c \\ucabc\\uac1c\\uc5b4 \\ub098\\ub204\\uc5b4\\uc904 \\ub54c \\uc0ac\\uc6a9\\ud569\\ub2c8\\ub2e4. \",\n          \"pandas cut()\\n\\uac12\\uc758 \\ubc94\\uc704\\ub97c \\uae30\\ubc18\\uc73c\\ub85c \\ub370\\uc774\\ud130\\ub97c \\uc5ec\\ub7ec \\uad6c\\uac04\\uc73c\\ub85c \\ub098\\ub204\\ub294 \\uc5ed\\ud560\\uc744 \\ud574\\uc8fc\\ub294 \\ud568\\uc218.\\n\\uc5f0\\uc18d\\ud615 \\ub370\\uc774\\ud130\\ub97c \\ubc94\\uc8fc\\ud615 \\ub370\\uc774\\ud130\\ub85c \\ubcc0\\ud658\\ud558\\uc5ec \\ubd84\\uc11d\\uc744 \\uc6a9\\uc774\\ud558\\uac8c \\ud560 \\uc218 \\uc788\\uace0 \\ubd84\\uc11d\\uc744 \\ub2e8\\uc21c\\ud654\\ud574\\uc8fc\\uae30 \\ub54c\\ubb38\\uc5d0 \\uc0ac\\uc6a9\\ud55c\\ub2e4.\",\n          \"insight\\n\\uc778\\uc0ac\\uc774\\ud2b8\\ub97c \\ud1b5\\ud574 \\uc5bb\\uc740 \\ub370\\uc774\\ud130\\ub97c \\uae30\\ubc18\\uc73c\\ub85c \\ubd84\\uc11d\\ud558\\uc5ec \\uc5bb\\ub294 \\uacfc\\uc815\\uc73c\\ub85c \\ub370\\uc774\\ud130\\ub97c \\uc608\\uce21\\ud558\\uac70\\ub098 \\ub370\\uc774\\ud130\\uac00 \\uac00\\uc9c4 \\uc758\\ubbf8\\ub97c \\ud655\\uc778\\ud558\\ub294 \\uae30\\uc220\\uc774\\ub2e4.\"\n        ],\n        \"num_unique_values\": 14,\n        \"semantic_type\": \"\",\n        \"description\": \"\"\n      }\n    },\n    {\n      \"column\": \"2024-02-02 00:00:00\",\n      \"properties\": {\n        \"dtype\": \"string\",\n        \"samples\": [\n          \"DDA(\\ubb18\\uc0ac \\ub370\\uc774\\ud130 \\ubd84\\uc11d\\n\\ud1b5\\uacc4\\uc801\\uc778 \\uc218\\uce58 \\ub370\\uc774\\ud130\\ub098 \\ub370\\uc774\\ud130\\uc758 \\uad6c\\uc870 \\ub4f1\\uc744 \\ubd84\\uc11d\\ud558\\ub294 \\ubc29\\ubc95\\uc774\\ub2e4.\\n\\ub370\\uc774\\ud130\\uc758 \\uc0c1\\uad00\\uad00\\uacc4 \\ub4f1\\uc744 \\ud310\\ub2e8\\ud558\\uace0 \\ud604\\uc7ac \\ub370\\uc774\\ud130\\ub97c \\ud30c\\uc545\\ud558\\uae30 \\uc704\\ud574 \\uc0ac\\uc6a9\\ud55c\\ub2e4.\",\n          \"EDA(\\ud0d0\\uc0c9 \\ub370\\uc774\\ud130 \\ubd84\\uc11d)\\n\\uc5bb\\uc740 \\ub370\\uc774\\ud130\\ub97c \\ud1a0\\ub300\\ub85c \\ub370\\uc774\\ud130\\ud0d0\\uc0c9\\uc744 \\ud1b5\\ud55c \\uac00\\uc124\\uc744 \\uc218\\ub9bd\\ud558\\ub294 \\ub2e8\\uacc4\\ub85c x\\ucd95\\uc758 feature\\uacfc y\\ucd95\\uc758 target\\uc758 \\uc0c1\\uad00\\uad00\\uacc4\\ub97c \\ubd84\\uc11d\\ud558\\uc5ec \\uc778\\uc0ac\\uc774\\ud2b8\\ub97c \\ub3c4\\ucd9c\\ud558\\ub294 \\uae30\\uc220\\uc774\\ub2e4.\\n\\ubaa9\\uc801\\uc73c\\ub85c\\ub294 \\uc704 \\ubd84\\uc11d\\uc744 \\uc2dc\\uac01\\ud654\\ud558\\uc5ec \\uc0c1\\ub300\\ub97c \\uc124\\ub4dd\\uc2dc\\ud0a4\\uae30 \\uc704\\ud574 \\uc9c4\\ud589\\ud55c\\ub2e4.\",\n          \"\\uad6c\\uae00 \\ucf54\\ub7a9\\n\\uad6c\\uae00\\uc5d0\\uc11c \\uc81c\\uacf5\\ud558\\ub294 \\ud074\\ub77c\\uc6b0\\ub4dc \\uae30\\ubc18\\uc758 \\ud14d\\uc2a4\\ud2b8 \\ubc0f \\ucf54\\ub4dc \\uc5d0\\ub514\\ud130\\uc774\\uba70,\\n\\uc26c\\uc6b4 \\uc811\\uadfc\\uc131\\uacfc \\ud3b8\\ub9ac\\ud568\\uc73c\\ub85c \\uc8fc\\ub85c \\ucf54\\ub529\\uc5d0 \\uc775\\uc219\\ud558\\uc9c0 \\uc54a\\uc740 \\uc785\\ubb38\\uc790\\uc5d0\\uac8c \\ucd94\\ucc9c\\ud55c\\ub2e4.\"\n        ],\n        \"num_unique_values\": 11,\n        \"semantic_type\": \"\",\n        \"description\": \"\"\n      }\n    },\n    {\n      \"column\": \"2024-02-01 00:00:00\",\n      \"properties\": {\n        \"dtype\": \"string\",\n        \"samples\": [\n          \"Series\\n1\\uc5f4\\ub85c\\ub9cc \\uc774\\ub8e8\\uc5b4\\uc9c4 \\uc790\\ub8cc\\uad6c\\uc870\\uc774\\ub2e4.(index + value)\\n\\uac01 \\uc140\\uc5d0\\ub294 \\uc11c\\ub85c \\ub2e4\\ub978 \\ubaa8\\ub4e0 \\uc790\\ub8cc\\ud615\\uc744 \\ub123\\uc744 \\uc218 \\uc788\\uace0, \\ub2e4\\ucc28\\uc6d0 \\ubc30\\uc5f4\\ub3c4 \\ub123\\uc744 \\uc218 \\uc788\\ub2e4.\",\n          \"boolean indexing\\n\\ub370\\uc774\\ud130 \\ud504\\ub808\\uc784 \\ub0b4\\uc5d0\\uc11c \\uceec\\ub7fc\\uc5d0 \\ud2b9\\uc815 condition\\uc744 \\ubd80\\uc5ec\\ud55c \\ud6c4 \\uacb0\\uacfc\\uac00 True\\uac12\\uc5d0 \\ud574\\ub2f9\\ud558\\ub294 row\\uac12\\ub4e4\\uc744 \\ucd94\\ucd9c\\ud558\\ub294 \\ubc29\\ubc95\\uc774\\ub2e4.\\n\\ubaa9\\uc801\\uc740 \\uc790\\uc2e0\\uc774 \\uc5bb\\uace0\\uc790 \\ud558\\ub294 \\uae30\\uc900\\uc5d0 \\ud574\\ub2f9\\ud558\\ub294 \\ub370\\uc774\\ud130\\uac12\\uc744 \\uc5bb\\uace0\\uc790 \\ud560 \\ub54c \\uc0ac\\uc6a9\\ud55c\\ub2e4.\",\n          \"query                                                                     DataFrame \\uac1d\\uccb4\\uc758 \\ub370\\uc774\\ud130\\ub97c \\ud544\\ud130\\ub9c1\\ud558\\uac70\\ub098 \\uc870\\uac74\\uc5d0 \\ub9de\\ub294 \\ud589\\uc744 \\uc120\\ud0dd\\ud558\\uae30 \\uc704\\ud574 \\uc0ac\\uc6a9\\ub418\\ub294 \\uae30\\ub2a5\\uc774\\uace0 \\uc774\\ub97c \\ud1b5\\ud574 \\ub370\\uc774\\ud130\\ub97c \\ud6a8\\uc728\\uc801\\uc73c\\ub85c \\ud544\\ud130\\ub9c1\\ud558\\uace0 \\uc6d0\\ud558\\ub294 \\uacb0\\uacfc\\ub97c \\uc5bb\\uc744 \\uc218 \\uc788\\ub2e4.\"\n        ],\n        \"num_unique_values\": 11,\n        \"semantic_type\": \"\",\n        \"description\": \"\"\n      }\n    }\n  ]\n}"
            }
          },
          "metadata": {},
          "execution_count": 6
        }
      ]
    },
    {
      "cell_type": "code",
      "source": [
        "for i in range(len(df_sheets)):\n",
        "  df_sheets[i].fillna(\"\", inplace=True)\n",
        "df_sheets[0].isnull().sum()"
      ],
      "metadata": {
        "colab": {
          "base_uri": "https://localhost:8080/"
        },
        "id": "H74FvWfkuQgd",
        "outputId": "ca467ecb-b0fd-45d8-8adb-68ebaddef2e3"
      },
      "execution_count": null,
      "outputs": [
        {
          "output_type": "execute_result",
          "data": {
            "text/plain": [
              "                       0\n",
              "Unnamed: 1             0\n",
              "2024-02-15 00:00:00    0\n",
              "2024-02-14 00:00:00    0\n",
              "2024-02-13 00:00:00    0\n",
              "2024-02-07 00:00:00    0\n",
              "2024-02-06 00:00:00    0\n",
              "2024-02-05 00:00:00    0\n",
              "2024-02-02 00:00:00    0\n",
              "2024-02-01 00:00:00    0\n",
              "dtype: int64"
            ]
          },
          "metadata": {},
          "execution_count": 150
        }
      ]
    },
    {
      "cell_type": "code",
      "source": [
        "# user_OWG_list = []\n",
        "# for i in range(len(df_sheets)):\n",
        "#   for j in range(len(df_sheets[i])):\n",
        "#     user_text = ' '.join(df_sheets[i].iloc[j,1:].to_list())\n",
        "#     user_OWG_list.append(user_text)\n",
        "# entire_OWG_text = ' '.join(user_OWG_list)\n",
        "# entire_OWG_text\n",
        "user_OWG_list = []\n",
        "for i in range(len(df_sheets)):\n",
        "  user_text = ' '.join(df_sheets[i].iloc[2,1:].to_list())\n",
        "  user_OWG_list.append(user_text)\n",
        "entire_OWG_text = ' '.join(user_OWG_list)\n",
        "entire_OWG_text"
      ],
      "metadata": {
        "id": "QA9WGrMwlRK5",
        "colab": {
          "base_uri": "https://localhost:8080/",
          "height": 146
        },
        "outputId": "c9df8d5f-1f21-4978-a7ff-da8938390fe7"
      },
      "execution_count": 159,
      "outputs": [
        {
          "output_type": "execute_result",
          "data": {
            "text/plain": [
              "' scaling\\n수치형 데이터 변수들의 범위를 조정하는 과정입니다.\\n데이터를 일정한 범위로 변환하여 모델의 성능을 향상시키고, 변수들 간의 상대적인 중요도를 공정하게 만들어줍니다.  선형 회귀\\n종속 변수와 독립 변수들 간의 관계를 파악하는데 사용하는 통계적인 방법입니다.\\n독립 변수들이 종속 변수에 어떻게 영향을 주는지 파악하고, 독립 변수들로 종속 변수의 값을 예측 하는데 사용할 수 있습니다.  군집화(Clustering)\\n유사한 특성을 가진 데이터들끼리 그룹으로 나누는 작업을 말합니다. \\n분류 기준에 대한 정보 없이 데이터를 그룹으로 나눌 때 사용할 수 있습니다.  anderson test \\n5000개 넘는 record를 가진 연속형 데이터의 정규성을 확인하기 위해 사용하는 함수를 말합니다.\\n연속형 데이터가 정규분포인지 비정규분포인지 확인하여 가설 검정 방식의 선택을 도와줍니다. 확증 데이터 분석\\n규명하고자 하는 바를 가설로 수립하여, 해당 가설이 참인지 거짓인지 객관적인 수치로 확인하는 과정을 말합니다. \\n분석한 데이터를 객관적인 근거를 통해 증명하기 위해 사용합니다.  concat \\n여러 개의 데이터프레임이나 시리즈를 하나의 구조로 연결할 때 사용하는 함수 입니다. \\n프로젝트 진행 시 여러 사람들이 수집한 데이터를 하나로 통합하여 분석할 때 사용할 수 있습니다. 데이터 전처리\\n분석을 하기 전에 데이터를 정리하고, 결측치와 이상값을 처리하는 과정을 말합니다. \\n데이터의 품질과 신뢰도를 높이기 위해 사용합니다. boxplot\\n수치형 데이터의 분포와 이상값을 시각화하는 그래프입니다. \\n4분위를 사용하여 데이터에 이상값을 식별하고 처리함으로써 데이터의 정확성과 신뢰성을 높이기 위해 합니다.  aggregation \\n데이터프레임에서 특정 열 또는 전체 열에 대한 요약 통계 정보를 계산하는 함수입니다.\\n데이터를 요약하고 분석할 때 사용합니다.  datetime \\n날짜와 시간 데이터를 다루는 다양한 기능과 도구를 제공하는 모듈입니다. \\n주간,월별,분기별 데이터 집계, 날짜 간의 차이 계산과 같이 시계열 데이터를 조작하고 분석할때 사용합니다.  iloc\\n정수 인덱스를 사용하여 데이터 프레임의 특정 값 추출할 때 사용하는 방법입니다. \\n특정 범위의 값들을 가져올 때 유용하다는 장점이 있습니다.  Pandas\\n데이터 분석하기 위해 사용하는 파이썬 라이브러리입니다.\\n데이터를 분석, 정리, 탐색할 때  사용합니다.  JSON\\n사람이 읽을 수 있는 텍스트를 사용하여 데이터를 공유하는 파일 형식입니다.\\n네트워크 상으로 데이터를 주고 받을 때 사용합니다. arrow function\\n함수의 매개변수를 먼저 입력하고, 화살표 기호 다음에 함수의 실행코드를 작성하는 방식을 말합니다. \\n기존의 함수식보다 간결하게 코드를 작성하는데 도움을 줍니다.  rest api 매서드 \\n서버와 클라이언트가 소통할 때 사용하는 수단입니다.\\n클라이언트가 서버에 데이터를 전송하고, 조회, 삭제, 업데이트할 때 사용합니다. postman\\n웹 api를 테스트하고 디버깅하기 위한 도구입니다. \\napi에 오류가 없는지 확인하는데 사용합니다.  rest api\\n클라이언트가 서버에 요청을 보내면 서버가 그에 대한 응답을 하는 방식을 말합니다.\\n jinja \\n파이썬으로 작성된 템플릿팅 엔진을 말합니다. \\nAPI 요청을 쉽게 렌더링할 수 있도록 도와줍니다.  라우팅\\n요청을 http 메소드 종류와 라우트에 맞게 분류하는 작업을말합니다. \\nhttp 요청이 지정된 라우트로 전송되면 미리 정의된 로직이 해당 요청을 처리해서 응답하는 역할을 합니다.  템플릿팅 \\nAPI가 보낸 다양한 형식의 데이터를 화면에 표시하는 프로세스 \\n코드를 재사용하여 동일한 구조를 가진 여러 개의 컨텐츠를 생성할 때 사용합니다.  데이터베이스관리시스템\\n데이터베이스를 효율적으로 관리하고 데이터베이스에 대한 데이터 요청을 처리하는 소프트웨어시스템입니다. 사용자의 데이터 입력, 수정, 삭제 및 검색 요청을 효율적으로 처리하는 기능을 합니다. 빅데이터 시각화\\n방대한 양의 데이터를 분석해서 한 눈에 볼 수 있도록 분석 과정이나 분석 결과를 효과적으로 표현하는 방식이다. 빅데이터 시각화는 분석 결과의 이해와 의사소통에 도움을 준다. 객체ID\\n데이터베이스에 저장된 모든 문서의 기본키로 데이터의 고유값을 지정할 수 있습니다. 데이터베이스에서 원하는 값을 찾을 때 사용합니다. 스타일 상속\\n스타일 시트 내에서 자식 요소에 별다른 스타일을 지정하지 않았을 때 부모 요소에 적용된 스타일 속성들이 자식 요소로 전달되는 것을 말합니다. HTML\\nhypertext markup language라는 뜻으로, 웹페이지에서 내용을 보여주는 텍스트,이미지, 영상 등의 위치를 표시하는 것을 의미합니다. .gitignore \\ngit의 관리 대상에서 제외할 파일이나 폴더를 지정할 때 사용하는 파일입니다.\\n formaction\\nbutton 태그 안에서 링크를 연결할 때 사용하는 속성입니다.\\n pagenation \\n웹페이지에서 페이지를 구성할 때 부트스트랩을 통해 사용하는 클래스 입니다. \\n 웹 서버 \\n항상 브라우저에 접속할 수 있게 해주는 응답 프로그램입니다. overflow: scroll\\n박스의 내용을 스크롤이 가능하게 해주는 설정값입니다.  select_by_index \\nselector내에서 인덱스를 통해 원하는 option을 선택할 때 사용하는 태그입니다. switch_to.frame() \\n작업환경을 frame 안으로 변경할 때 사용하는 코드입니다.  window.innerWidth\\n현재 브라우저 창의 너비를 알려주는 명령어입니다. find_element\\n웹페이지에서 원하는 정보를 가져올 때 사용하는 코드입니다.  local host\\n네트워크에 연결하지 않아도 프로그램이 동작하기 위해 PC가 스스로에게 부여하는 ip 주소입니다. syntax error \\n구문과 관련하여 문제가 있을 때 발생하는 오류입니다.  try\\n실행하고자 하는 코드를 작성할 때 사용하는 구문으로 만약에 문제가 발생하면 except에 작성된 코드가 실행됩니다.  except\\ntry 시 문제가 발생하였을 때 대신 실행되는 작업을 작성할 때 사용하는 코드입니다.  find\\n조건에 맞는 데이터들을 찾을 때 사용하는 명령어입니다.  deleteMany\\nkey가 해당하는 value인 데이터들을 여러 개 삭제 할 때 사용하는 함수입니다. database\\n공유사용을 목적으로 이용하는 데이터 묶음들을 말합니다. import\\n모듈을 불러올 때 사용하는 명령어입니다.  return \\n함수가 종료될 때 사용되며, 함수가 작업을 수행하여 나오는 결과 값을 지정할 수 있습니다. '"
            ],
            "application/vnd.google.colaboratory.intrinsic+json": {
              "type": "string"
            }
          },
          "metadata": {},
          "execution_count": 159
        }
      ]
    },
    {
      "cell_type": "code",
      "source": [
        "# 조사 제거\n",
        "import re\n",
        "patterns = '(있습니다|합니다|습니다|입니다|있도록 |위한 |통해|다른 |하는|에서 |않을|되는|되어|하기|이다|하지 |하여 |으로 |위해 |있다|한다|있는|수 | 것 |할 |는 |데 |은 |을 |를 |와 |가 |의 |로 |에 |이 |때 |등 |\\n | W.|W,|\\\\n|W:|\\(|\\)|\\.|\\,)'\n",
        "text_regex = re.sub(pattern = patterns, repl = \" \",string=entire_OWG_text)\n",
        "text_regex"
      ],
      "metadata": {
        "colab": {
          "base_uri": "https://localhost:8080/",
          "height": 146
        },
        "id": "M6kM3eacy9rc",
        "outputId": "9075cbb0-788b-4973-ade8-f717b510fa1d"
      },
      "execution_count": 189,
      "outputs": [
        {
          "output_type": "execute_result",
          "data": {
            "text/plain": [
              "' scaling 수치형 데이터 변수들 범위 조정  과정   데이터 일정한 범위 변환 모델 성능 향상시키고  변수들 간 상대적인 중요도 공정하게 만들어줍니다   선형 회귀 종속 변수 독립 변수들 간 관계 파악  사용  통계적인 방법   독립 변수들 종속 변수 어떻게 영향 주는지 파악하고  독립 변수들 종속 변수 값 예측   사용      군집화 Clustering  유사한 특성 가진 데이터들끼리 그룹 나누 작업 말    분류 기준 대한 정보 없 데이터 그룹 나눌  사용      anderson test  5000개 넘 record 가진 연속형 데이터 정규성 확인   사용  함수 말   연속형 데이터 정규분포인지 비정규분포인지 확인 가설 검정 방식 선택 도와줍니다  확증 데이터 분석 규명하고자   바 가설 수립하여  해당 가설 참인지 거짓인지 객관적인 수치 확인  과정 말    분석한 데이터 객관적인 근거   증명   사용    concat  여러 개 데이터프레임이나 시리즈 하나 구조 연결  사용  함     프로젝트 진행 시 여러 사람들 수집한 데이터 하나 통합 분석  사용     데이터 전처리 분석   전 데이터 정리하고  결측치 이상값 처리  과정 말    데이터 품질과 신뢰도 높이기  사용   boxplot 수치형 데이터 분포 이상값 시각화  그래프    4분위 사용 데이터 이상값 식별하고 처리함으로써 데이터 정확성과 신뢰성 높이기      aggregation  데이터프레임 특정 열 또 전체 열 대한 요약 통계 정보 계산  함수   데이터 요약하고 분석  사용    datetime  날짜 시간 데이터 다루 다양한 기능과 도구 제공  모듈    주간 월별 분기별 데이터 집계  날짜 간 차 계산과 같 시계열 데이터 조작하고 분석할 사용    iloc 정 인덱스 사용 데이터 프레임 특정 값 추출  사용  방법    특정 범위 값들 가져올  유용하다 장점     Pandas 데이터 분석   사용  파이썬 라이브러리   데이터 분석  정리  탐색   사용    JSON 사람 읽    텍스트 사용 데이터 공유  파일 형식   네트워크 상 데이터 주고 받  사용   arrow function 함수 매개변수 먼저 입력하고  화살표 기호 다음 함수 실행코드 작성  방식 말    기존 함수식보다 간결하게 코드 작성  도움 줍니다   rest api 매서드  서버 클라이언트 소통  사용  수단   클라이언트 서버 데이터 전송하고  조회  삭제  업데이트  사용   postman 웹 api 테스트하고 디버깅   도구    api 오류 없는지 확인  사용    rest api 클라이언트 서버 요청 보내면 서버 그 대한 응답   방식 말   jinja  파이썬 작성된 템플릿팅 엔진 말    API 요청 쉽게 렌더링   도와줍니다   라우팅 요청 http 메소드 종류 라우트 맞게 분류  작업을말    http 요청 지정된 라우트 전송되면 미리 정의된 로직 해당 요청 처리해서 응답  역할     템플릿팅  API 보낸 다양한 형식 데이터 화면 표시  프로세스  코드 재사용 동일한 구조 가진 여러 개 컨텐츠 생성  사용    데이터베이스관리시스템 데이터베이스 효율적 관리하고 데이터베이스 대한 데이터 요청 처리  소프트웨어시스템   사용자 데이터 입력  수정  삭제 및 검색 요청 효율적 처리  기능    빅데이터 시각화 방대한 양 데이터 분석해서 한 눈 볼   분석 과정이나 분석 결과 효과적 표현  방식   빅데이터 시각화 분석 결과 이해 의사소통 도움 준다  객체ID 데이터베이스 저장된 모든 문서 기본키 데이터 고유값 지정     데이터베이스 원  값 찾  사용   스타일 상속 스타일 시트 내 자식 요소 별 스타일 지정 않았  부모 요소 적용된 스타일 속성들 자식 요소 전달  것 말   HTML hypertext markup language라 뜻으로  웹페이지 내용 보여주 텍스트 이미지  영상 등 위치 표시  것 의미    gitignore  git 관리 대상 제외 파일이나 폴더 지정  사용  파일   formaction button 태그 안 링크 연결  사용  속성   pagenation  웹페이지 페이지 구성  부트스트랩   사용  클래스     웹 서버  항상 브라우저 접속  있게 해주 응답 프로그램   overflow: scroll 박스 내용 스크롤 가능하게 해주 설정값    select_by_index  selector내 인덱스   원  option 선택  사용  태그   switch_to frame    작업환경 frame 안 변경  사용  코드    window innerWidth 현재 브라우저 창 너비 알려주 명령어   find_element 웹페이지 원  정보 가져올  사용  코드    local host 네트워크 연결 않아도 프로그램 동작   PC 스스로에게 부여  ip 주소   syntax error  구문과 관련 문제 있  발생  오류    try 실행하고자   코드 작성  사용  구문 만약 문제 발생하면 except 작성된 코드 실행됩니다   except try 시 문제 발생하였  대신 실행  작업 작성  사용  코드    find 조건 맞 데이터들 찾  사용  명령어    deleteMany key 해당  value인 데이터들 여러 개 삭제   사용  함수   database 공유사용 목적 이용  데이터 묶음들 말   import 모듈 불러올  사용  명령어    return  함수 종료될  사용되며  함수 작업 수행 나오 결과 값 지정     '"
            ],
            "application/vnd.google.colaboratory.intrinsic+json": {
              "type": "string"
            }
          },
          "metadata": {},
          "execution_count": 189
        }
      ]
    },
    {
      "cell_type": "code",
      "source": [
        "text_split = text_regex.split()\n",
        "series_text = pd.Series(text_split)"
      ],
      "metadata": {
        "id": "vsKz-CyRzHkV"
      },
      "execution_count": 190,
      "outputs": []
    },
    {
      "cell_type": "code",
      "source": [
        "text_split_count = series_text.value_counts()[:30]\n",
        "text_split_count"
      ],
      "metadata": {
        "colab": {
          "base_uri": "https://localhost:8080/"
        },
        "id": "ZTp5a5sP3-wG",
        "outputId": "b0da0d4f-06e4-44b2-f672-3fa4edd071d1"
      },
      "execution_count": 191,
      "outputs": [
        {
          "output_type": "execute_result",
          "data": {
            "text/plain": [
              "사용        33\n",
              "데이터       30\n",
              "말          9\n",
              "분석         9\n",
              "요청         7\n",
              "코드         7\n",
              "함수         7\n",
              "변수들        5\n",
              "서버         5\n",
              "지정         4\n",
              "api        4\n",
              "방식         4\n",
              "작성         4\n",
              "여러         4\n",
              "확인         4\n",
              "값          4\n",
              "스타일        4\n",
              "대한         4\n",
              "데이터베이스     4\n",
              "문제         3\n",
              "가설         3\n",
              "결과         3\n",
              "정보         3\n",
              "삭제         3\n",
              "클라이언트      3\n",
              "명령어        3\n",
              "가진         3\n",
              "개          3\n",
              "연결         3\n",
              "원          3\n",
              "dtype: int64"
            ]
          },
          "metadata": {},
          "execution_count": 191
        }
      ]
    },
    {
      "cell_type": "markdown",
      "source": [
        "## wordcloud"
      ],
      "metadata": {
        "id": "0wKe_YpVtdG3"
      }
    },
    {
      "cell_type": "code",
      "source": [
        "from wordcloud import WordCloud"
      ],
      "metadata": {
        "id": "9CaHhQQAn8y-"
      },
      "execution_count": 192,
      "outputs": []
    },
    {
      "cell_type": "code",
      "source": [
        "wordCloud = WordCloud(background_color='white', font_path = '/usr/share/fonts/truetype/nanum/NanumBarunGothic.ttf')\n",
        "wordCloud.generate_from_frequencies(text_split_count)"
      ],
      "metadata": {
        "colab": {
          "base_uri": "https://localhost:8080/"
        },
        "id": "ReIg8Wqso3P8",
        "outputId": "46362f76-3758-4fed-8d3a-0fc699915048"
      },
      "execution_count": 193,
      "outputs": [
        {
          "output_type": "execute_result",
          "data": {
            "text/plain": [
              "<wordcloud.wordcloud.WordCloud at 0x7bc7df01f460>"
            ]
          },
          "metadata": {},
          "execution_count": 193
        }
      ]
    },
    {
      "cell_type": "code",
      "source": [
        "wordCloud.words_"
      ],
      "metadata": {
        "colab": {
          "base_uri": "https://localhost:8080/"
        },
        "id": "9teCOziIpH8P",
        "outputId": "13f6b23d-3494-4a9e-9ddb-203f990cac94"
      },
      "execution_count": 194,
      "outputs": [
        {
          "output_type": "execute_result",
          "data": {
            "text/plain": [
              "{'사용': 1.0,\n",
              " '데이터': 0.9090909090909091,\n",
              " '말': 0.2727272727272727,\n",
              " '분석': 0.2727272727272727,\n",
              " '요청': 0.21212121212121213,\n",
              " '코드': 0.21212121212121213,\n",
              " '함수': 0.21212121212121213,\n",
              " '변수들': 0.15151515151515152,\n",
              " '서버': 0.15151515151515152,\n",
              " '지정': 0.12121212121212122,\n",
              " 'api': 0.12121212121212122,\n",
              " '방식': 0.12121212121212122,\n",
              " '작성': 0.12121212121212122,\n",
              " '여러': 0.12121212121212122,\n",
              " '확인': 0.12121212121212122,\n",
              " '값': 0.12121212121212122,\n",
              " '스타일': 0.12121212121212122,\n",
              " '대한': 0.12121212121212122,\n",
              " '데이터베이스': 0.12121212121212122,\n",
              " '문제': 0.09090909090909091,\n",
              " '가설': 0.09090909090909091,\n",
              " '결과': 0.09090909090909091,\n",
              " '정보': 0.09090909090909091,\n",
              " '삭제': 0.09090909090909091,\n",
              " '클라이언트': 0.09090909090909091,\n",
              " '명령어': 0.09090909090909091,\n",
              " '가진': 0.09090909090909091,\n",
              " '개': 0.09090909090909091,\n",
              " '연결': 0.09090909090909091,\n",
              " '원': 0.09090909090909091}"
            ]
          },
          "metadata": {},
          "execution_count": 194
        }
      ]
    },
    {
      "cell_type": "code",
      "source": [
        "import matplotlib.pyplot as plt\n",
        "plt.imshow(wordCloud)\n",
        "plt.axis('off')\n",
        "plt.show()"
      ],
      "metadata": {
        "colab": {
          "base_uri": "https://localhost:8080/",
          "height": 285
        },
        "id": "hYt_sd7Kph2l",
        "outputId": "41e4bd33-dce3-4da7-a2d6-5b838556b3a0"
      },
      "execution_count": 195,
      "outputs": [
        {
          "output_type": "display_data",
          "data": {
            "text/plain": [
              "<Figure size 640x480 with 1 Axes>"
            ],
            "image/png": "[encoded data removed]"
          },
          "metadata": {}
        }
      ]
    },
    {
      "cell_type": "code",
      "source": [],
      "metadata": {
        "id": "1ikyq7bEp1zu"
      },
      "execution_count": 195,
      "outputs": []
    }
  ]
}