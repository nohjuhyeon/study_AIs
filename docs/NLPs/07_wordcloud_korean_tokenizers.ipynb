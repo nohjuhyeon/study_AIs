{
  "nbformat": 4,
  "nbformat_minor": 0,
  "metadata": {
    "colab": {
      "provenance": [],
      "authorship_tag": "ABX9TyOnNhxaS6Ovpqyez7hjJ/QC",
      "include_colab_link": true
    },
    "kernelspec": {
      "name": "python3",
      "display_name": "Python 3"
    },
    "language_info": {
      "name": "python"
    }
  },
  "cells": [
    {
      "cell_type": "markdown",
      "metadata": {
        "id": "view-in-github",
        "colab_type": "text"
      },
      "source": [
        "<a href=\"https://colab.research.google.com/github/nohjuhyeon/study_AIs/blob/main/docs/NLPs/07_wordcloud_korean_tokenizers.ipynb\" target=\"_parent\"><img src=\"https://colab.research.google.com/assets/colab-badge.svg\" alt=\"Open In Colab\"/></a>"
      ]
    },
    {
      "cell_type": "markdown",
      "source": [
        "## 데이터 전처리"
      ],
      "metadata": {
        "id": "kqjiKKaJnFFl"
      }
    },
    {
      "cell_type": "code",
      "execution_count": 1,
      "metadata": {
        "id": "mkQaq1GqmKhK"
      },
      "outputs": [],
      "source": [
        "it_sentences = [\n",
        "    \"인공지능 기술이 사회의 다양한 분야에 점점 더 널리 적용되고 있다.\",\n",
        "    \"클라우드 컴퓨팅은 데이터 저장과 처리를 더욱 효율적으로 만들어 주며, 기업의 IT 인프라를 혁신하고 있다.\",\n",
        "    \"머신러닝과 딥러닝 알고리즘은 데이터 분석과 예측 모델링에 혁명을 일으키고 있다.\",\n",
        "    # \"블록체인 기술은 금융 거래의 투명성과 보안성을 향상시키는데 기여하고 있다.\",\n",
        "    # \"사이버 보안은 디지털 시대의 중요한 이슈로 부상하고 있으며, 지속적인 관심과 개선이 요구된다.\",\n",
        "    # \"소프트웨어 개발에서의 애자일 방법론은 빠른 시장 변화에 효과적으로 대응할 수 있게 해준다.\",\n",
        "    # \"데이터 과학과 분석은 비즈니스 의사 결정 과정에서 중요한 역할을 하며, 기업의 경쟁력을 강화시킨다.\",\n",
        "    # \"사물인터넷(IoT) 기술은 일상 생활을 더욱 편리하고 연결된 공간으로 변화시키고 있다.\",\n",
        "    # \"가상현실(VR)과 증강현실(AR) 기술은 엔터테인먼트, 교육, 의료 등 다양한 분야에서 새로운 경험을 제공한다.\",\n",
        "    # \"파이썬은 데이터 과학, 웹 개발, 자동화 스크립트 작성 등 다양한 프로그래밍 작업에 널리 사용되는 언어이다.\"\n",
        "]"
      ]
    },
    {
      "cell_type": "code",
      "source": [
        "!pip install python-mecab-ko"
      ],
      "metadata": {
        "colab": {
          "base_uri": "https://localhost:8080/"
        },
        "id": "RCpg22u-wWOO",
        "outputId": "9890ef75-bd58-4823-df86-2671c770420d"
      },
      "execution_count": 2,
      "outputs": [
        {
          "output_type": "stream",
          "name": "stdout",
          "text": [
            "Requirement already satisfied: python-mecab-ko in /usr/local/lib/python3.10/dist-packages (1.3.3)\n",
            "Requirement already satisfied: python-mecab-ko-dic in /usr/local/lib/python3.10/dist-packages (from python-mecab-ko) (2.1.1.post2)\n"
          ]
        }
      ]
    },
    {
      "cell_type": "code",
      "source": [
        "from mecab import MeCab\n",
        "mecab = MeCab()"
      ],
      "metadata": {
        "id": "uXzlgiLzwZkG"
      },
      "execution_count": 3,
      "outputs": []
    },
    {
      "cell_type": "code",
      "source": [
        "morphs_nouns = []\n",
        "morphs_nouns_list = []\n",
        "for sentence in it_sentences:\n",
        "  morphs = mecab.nouns(sentence)\n",
        "  morphs_nouns.append(morphs)\n",
        "  morphs_nouns_list = morphs_nouns_list + morphs\n",
        "  pass\n",
        "\n"
      ],
      "metadata": {
        "id": "IRhpN_iQwcf-"
      },
      "execution_count": 4,
      "outputs": []
    },
    {
      "cell_type": "code",
      "source": [
        "morphs_nouns # 사람 위한 단계 끝\n",
        "# morphs_nouns_list"
      ],
      "metadata": {
        "colab": {
          "base_uri": "https://localhost:8080/"
        },
        "id": "PH3DUkqA5xQ3",
        "outputId": "5cd7bec3-ff1e-43a4-eaac-60bd00386173"
      },
      "execution_count": 5,
      "outputs": [
        {
          "output_type": "execute_result",
          "data": {
            "text/plain": [
              "[['인공지능', '기술', '사회', '다양', '분야', '적용'],\n",
              " ['클라우드', '컴퓨팅', '데이터', '저장', '처리', '효율', '기업', '인프라', '혁신'],\n",
              " ['머신', '러닝', '딥', '러닝', '알고리즘', '데이터', '분석', '예측', '모델링', '혁명']]"
            ]
          },
          "metadata": {},
          "execution_count": 5
        }
      ]
    },
    {
      "cell_type": "code",
      "source": [
        "corpus = list(map(lambda x:' '.join(x) ,morphs_nouns))\n",
        "corpus[:2]"
      ],
      "metadata": {
        "colab": {
          "base_uri": "https://localhost:8080/"
        },
        "id": "3_c5gZjaxnKx",
        "outputId": "ccd6fbd3-2367-4cc8-cad7-67727f2bc59b"
      },
      "execution_count": 6,
      "outputs": [
        {
          "output_type": "execute_result",
          "data": {
            "text/plain": [
              "['인공지능 기술 사회 다양 분야 적용', '클라우드 컴퓨팅 데이터 저장 처리 효율 기업 인프라 혁신']"
            ]
          },
          "metadata": {},
          "execution_count": 6
        }
      ]
    },
    {
      "cell_type": "markdown",
      "source": [
        "## Tfidf Vectorizing"
      ],
      "metadata": {
        "id": "rp2-bATczJbA"
      }
    },
    {
      "cell_type": "code",
      "source": [
        "from sklearn.feature_extraction.text import TfidfVectorizer\n",
        "# tfidfVectorizer = TfidfVectorizer()\n",
        "tfidfVectorizer = TfidfVectorizer(stop_words=['인공지능'],ngram_range = (1,3)) # stop_words : 특정 단어 빼기 # ngram_range : 단어 붙이기\n",
        "result_vectors = tfidfVectorizer.fit_transform(corpus)\n",
        "result_vectors"
      ],
      "metadata": {
        "id": "VeJZEoEDnP1V",
        "colab": {
          "base_uri": "https://localhost:8080/"
        },
        "outputId": "e8a2745e-e45e-4f03-e11c-de5a5181f883"
      },
      "execution_count": 41,
      "outputs": [
        {
          "output_type": "execute_result",
          "data": {
            "text/plain": [
              "<3x58 sparse matrix of type '<class 'numpy.float64'>'\n",
              "\twith 59 stored elements in Compressed Sparse Row format>"
            ]
          },
          "metadata": {},
          "execution_count": 41
        }
      ]
    },
    {
      "cell_type": "code",
      "source": [
        "tfidfVectorizer.vocabulary_"
      ],
      "metadata": {
        "colab": {
          "base_uri": "https://localhost:8080/"
        },
        "id": "GVJeoFDf6RTK",
        "outputId": "3f4cfc36-30e9-4f16-f218-c10f327a7889"
      },
      "execution_count": 40,
      "outputs": [
        {
          "output_type": "execute_result",
          "data": {
            "text/plain": [
              "{'기술 사회': 0,\n",
              " '사회 다양': 20,\n",
              " '다양 분야': 4,\n",
              " '분야 적용': 19,\n",
              " '기술 사회 다양': 1,\n",
              " '사회 다양 분야': 21,\n",
              " '다양 분야 적용': 5,\n",
              " '클라우드 컴퓨팅': 33,\n",
              " '컴퓨팅 데이터': 31,\n",
              " '데이터 저장': 8,\n",
              " '저장 처리': 27,\n",
              " '처리 효율': 29,\n",
              " '효율 기업': 35,\n",
              " '기업 인프라': 2,\n",
              " '인프라 혁신': 26,\n",
              " '클라우드 컴퓨팅 데이터': 34,\n",
              " '컴퓨팅 데이터 저장': 32,\n",
              " '데이터 저장 처리': 9,\n",
              " '저장 처리 효율': 28,\n",
              " '처리 효율 기업': 30,\n",
              " '효율 기업 인프라': 36,\n",
              " '기업 인프라 혁신': 3,\n",
              " '머신 러닝': 14,\n",
              " '러닝 러닝': 10,\n",
              " '러닝 알고리즘': 12,\n",
              " '알고리즘 데이터': 22,\n",
              " '데이터 분석': 6,\n",
              " '분석 예측': 17,\n",
              " '예측 모델링': 24,\n",
              " '모델링 혁명': 16,\n",
              " '머신 러닝 러닝': 15,\n",
              " '러닝 러닝 알고리즘': 11,\n",
              " '러닝 알고리즘 데이터': 13,\n",
              " '알고리즘 데이터 분석': 23,\n",
              " '데이터 분석 예측': 7,\n",
              " '분석 예측 모델링': 18,\n",
              " '예측 모델링 혁명': 25}"
            ]
          },
          "metadata": {},
          "execution_count": 40
        }
      ]
    },
    {
      "cell_type": "code",
      "source": [
        "tfidfVectorizer.idf_ # 문장 내에서 단어들의 중요도 /  값이 클수록 중요도 높음"
      ],
      "metadata": {
        "colab": {
          "base_uri": "https://localhost:8080/"
        },
        "id": "ic-oZDMW64aU",
        "outputId": "51c2ee9a-290a-4a5c-a8db-41b268197049"
      },
      "execution_count": 17,
      "outputs": [
        {
          "output_type": "execute_result",
          "data": {
            "text/plain": [
              "array([1.69314718, 1.69314718, 1.69314718, 1.28768207, 1.69314718,\n",
              "       1.69314718, 1.69314718, 1.69314718, 1.69314718, 1.69314718,\n",
              "       1.69314718, 1.69314718, 1.69314718, 1.69314718, 1.69314718,\n",
              "       1.69314718, 1.69314718, 1.69314718, 1.69314718, 1.69314718,\n",
              "       1.69314718, 1.69314718])"
            ]
          },
          "metadata": {},
          "execution_count": 17
        }
      ]
    },
    {
      "cell_type": "code",
      "source": [
        "dtm = result_vectors.toarray()\n",
        "dtm.shape"
      ],
      "metadata": {
        "colab": {
          "base_uri": "https://localhost:8080/"
        },
        "id": "vG6uFr3txP96",
        "outputId": "3be511b6-843f-4f22-b9eb-8636373dd8c8"
      },
      "execution_count": 9,
      "outputs": [
        {
          "output_type": "execute_result",
          "data": {
            "text/plain": [
              "(3, 22)"
            ]
          },
          "metadata": {},
          "execution_count": 9
        }
      ]
    },
    {
      "cell_type": "code",
      "source": [
        "# tfidfVectorizer.get_feature_names_out()[:2]\n",
        "vocabs = tfidfVectorizer.get_feature_names_out()\n",
        "vocabs[:2]\n",
        "vocabs.shape"
      ],
      "metadata": {
        "colab": {
          "base_uri": "https://localhost:8080/"
        },
        "id": "6KXvg4yX1JMo",
        "outputId": "9290e51c-73f4-4050-878d-2c99371d35ca"
      },
      "execution_count": 10,
      "outputs": [
        {
          "output_type": "execute_result",
          "data": {
            "text/plain": [
              "(22,)"
            ]
          },
          "metadata": {},
          "execution_count": 10
        }
      ]
    },
    {
      "cell_type": "code",
      "source": [
        "import pandas as pd\n",
        "df_dtm = pd.DataFrame(dtm, columns = vocabs)\n",
        "df_dtm.T"
      ],
      "metadata": {
        "id": "qygCxci31PEY",
        "colab": {
          "base_uri": "https://localhost:8080/",
          "height": 739
        },
        "outputId": "27bfd0aa-a889-4237-9aab-a1f2762c2337"
      },
      "execution_count": 11,
      "outputs": [
        {
          "output_type": "execute_result",
          "data": {
            "text/plain": [
              "             0         1         2\n",
              "기술    0.408248  0.000000  0.000000\n",
              "기업    0.000000  0.341426  0.000000\n",
              "다양    0.408248  0.000000  0.000000\n",
              "데이터   0.000000  0.259663  0.233832\n",
              "러닝    0.000000  0.000000  0.614922\n",
              "머신    0.000000  0.000000  0.307461\n",
              "모델링   0.000000  0.000000  0.307461\n",
              "분석    0.000000  0.000000  0.307461\n",
              "분야    0.408248  0.000000  0.000000\n",
              "사회    0.408248  0.000000  0.000000\n",
              "알고리즘  0.000000  0.000000  0.307461\n",
              "예측    0.000000  0.000000  0.307461\n",
              "인공지능  0.408248  0.000000  0.000000\n",
              "인프라   0.000000  0.341426  0.000000\n",
              "저장    0.000000  0.341426  0.000000\n",
              "적용    0.408248  0.000000  0.000000\n",
              "처리    0.000000  0.341426  0.000000\n",
              "컴퓨팅   0.000000  0.341426  0.000000\n",
              "클라우드  0.000000  0.341426  0.000000\n",
              "혁명    0.000000  0.000000  0.307461\n",
              "혁신    0.000000  0.341426  0.000000\n",
              "효율    0.000000  0.341426  0.000000"
            ],
            "text/html": [
              "\n",
              "  <div id=\"df-61ac627a-f922-4162-924f-d7bd4f4f4dec\" class=\"colab-df-container\">\n",
              "    <div>\n",
              "<style scoped>\n",
              "    .dataframe tbody tr th:only-of-type {\n",
              "        vertical-align: middle;\n",
              "    }\n",
              "\n",
              "    .dataframe tbody tr th {\n",
              "        vertical-align: top;\n",
              "    }\n",
              "\n",
              "    .dataframe thead th {\n",
              "        text-align: right;\n",
              "    }\n",
              "</style>\n",
              "<table border=\"1\" class=\"dataframe\">\n",
              "  <thead>\n",
              "    <tr style=\"text-align: right;\">\n",
              "      <th></th>\n",
              "      <th>0</th>\n",
              "      <th>1</th>\n",
              "      <th>2</th>\n",
              "    </tr>\n",
              "  </thead>\n",
              "  <tbody>\n",
              "    <tr>\n",
              "      <th>기술</th>\n",
              "      <td>0.408248</td>\n",
              "      <td>0.000000</td>\n",
              "      <td>0.000000</td>\n",
              "    </tr>\n",
              "    <tr>\n",
              "      <th>기업</th>\n",
              "      <td>0.000000</td>\n",
              "      <td>0.341426</td>\n",
              "      <td>0.000000</td>\n",
              "    </tr>\n",
              "    <tr>\n",
              "      <th>다양</th>\n",
              "      <td>0.408248</td>\n",
              "      <td>0.000000</td>\n",
              "      <td>0.000000</td>\n",
              "    </tr>\n",
              "    <tr>\n",
              "      <th>데이터</th>\n",
              "      <td>0.000000</td>\n",
              "      <td>0.259663</td>\n",
              "      <td>0.233832</td>\n",
              "    </tr>\n",
              "    <tr>\n",
              "      <th>러닝</th>\n",
              "      <td>0.000000</td>\n",
              "      <td>0.000000</td>\n",
              "      <td>0.614922</td>\n",
              "    </tr>\n",
              "    <tr>\n",
              "      <th>머신</th>\n",
              "      <td>0.000000</td>\n",
              "      <td>0.000000</td>\n",
              "      <td>0.307461</td>\n",
              "    </tr>\n",
              "    <tr>\n",
              "      <th>모델링</th>\n",
              "      <td>0.000000</td>\n",
              "      <td>0.000000</td>\n",
              "      <td>0.307461</td>\n",
              "    </tr>\n",
              "    <tr>\n",
              "      <th>분석</th>\n",
              "      <td>0.000000</td>\n",
              "      <td>0.000000</td>\n",
              "      <td>0.307461</td>\n",
              "    </tr>\n",
              "    <tr>\n",
              "      <th>분야</th>\n",
              "      <td>0.408248</td>\n",
              "      <td>0.000000</td>\n",
              "      <td>0.000000</td>\n",
              "    </tr>\n",
              "    <tr>\n",
              "      <th>사회</th>\n",
              "      <td>0.408248</td>\n",
              "      <td>0.000000</td>\n",
              "      <td>0.000000</td>\n",
              "    </tr>\n",
              "    <tr>\n",
              "      <th>알고리즘</th>\n",
              "      <td>0.000000</td>\n",
              "      <td>0.000000</td>\n",
              "      <td>0.307461</td>\n",
              "    </tr>\n",
              "    <tr>\n",
              "      <th>예측</th>\n",
              "      <td>0.000000</td>\n",
              "      <td>0.000000</td>\n",
              "      <td>0.307461</td>\n",
              "    </tr>\n",
              "    <tr>\n",
              "      <th>인공지능</th>\n",
              "      <td>0.408248</td>\n",
              "      <td>0.000000</td>\n",
              "      <td>0.000000</td>\n",
              "    </tr>\n",
              "    <tr>\n",
              "      <th>인프라</th>\n",
              "      <td>0.000000</td>\n",
              "      <td>0.341426</td>\n",
              "      <td>0.000000</td>\n",
              "    </tr>\n",
              "    <tr>\n",
              "      <th>저장</th>\n",
              "      <td>0.000000</td>\n",
              "      <td>0.341426</td>\n",
              "      <td>0.000000</td>\n",
              "    </tr>\n",
              "    <tr>\n",
              "      <th>적용</th>\n",
              "      <td>0.408248</td>\n",
              "      <td>0.000000</td>\n",
              "      <td>0.000000</td>\n",
              "    </tr>\n",
              "    <tr>\n",
              "      <th>처리</th>\n",
              "      <td>0.000000</td>\n",
              "      <td>0.341426</td>\n",
              "      <td>0.000000</td>\n",
              "    </tr>\n",
              "    <tr>\n",
              "      <th>컴퓨팅</th>\n",
              "      <td>0.000000</td>\n",
              "      <td>0.341426</td>\n",
              "      <td>0.000000</td>\n",
              "    </tr>\n",
              "    <tr>\n",
              "      <th>클라우드</th>\n",
              "      <td>0.000000</td>\n",
              "      <td>0.341426</td>\n",
              "      <td>0.000000</td>\n",
              "    </tr>\n",
              "    <tr>\n",
              "      <th>혁명</th>\n",
              "      <td>0.000000</td>\n",
              "      <td>0.000000</td>\n",
              "      <td>0.307461</td>\n",
              "    </tr>\n",
              "    <tr>\n",
              "      <th>혁신</th>\n",
              "      <td>0.000000</td>\n",
              "      <td>0.341426</td>\n",
              "      <td>0.000000</td>\n",
              "    </tr>\n",
              "    <tr>\n",
              "      <th>효율</th>\n",
              "      <td>0.000000</td>\n",
              "      <td>0.341426</td>\n",
              "      <td>0.000000</td>\n",
              "    </tr>\n",
              "  </tbody>\n",
              "</table>\n",
              "</div>\n",
              "    <div class=\"colab-df-buttons\">\n",
              "\n",
              "  <div class=\"colab-df-container\">\n",
              "    <button class=\"colab-df-convert\" onclick=\"convertToInteractive('df-61ac627a-f922-4162-924f-d7bd4f4f4dec')\"\n",
              "            title=\"Convert this dataframe to an interactive table.\"\n",
              "            style=\"display:none;\">\n",
              "\n",
              "  <svg xmlns=\"http://www.w3.org/2000/svg\" height=\"24px\" viewBox=\"0 -960 960 960\">\n",
              "    <path d=\"M120-120v-720h720v720H120Zm60-500h600v-160H180v160Zm220 220h160v-160H400v160Zm0 220h160v-160H400v160ZM180-400h160v-160H180v160Zm440 0h160v-160H620v160ZM180-180h160v-160H180v160Zm440 0h160v-160H620v160Z\"/>\n",
              "  </svg>\n",
              "    </button>\n",
              "\n",
              "  <style>\n",
              "    .colab-df-container {\n",
              "      display:flex;\n",
              "      gap: 12px;\n",
              "    }\n",
              "\n",
              "    .colab-df-convert {\n",
              "      background-color: #E8F0FE;\n",
              "      border: none;\n",
              "      border-radius: 50%;\n",
              "      cursor: pointer;\n",
              "      display: none;\n",
              "      fill: #1967D2;\n",
              "      height: 32px;\n",
              "      padding: 0 0 0 0;\n",
              "      width: 32px;\n",
              "    }\n",
              "\n",
              "    .colab-df-convert:hover {\n",
              "      background-color: #E2EBFA;\n",
              "      box-shadow: 0px 1px 2px rgba(60, 64, 67, 0.3), 0px 1px 3px 1px rgba(60, 64, 67, 0.15);\n",
              "      fill: #174EA6;\n",
              "    }\n",
              "\n",
              "    .colab-df-buttons div {\n",
              "      margin-bottom: 4px;\n",
              "    }\n",
              "\n",
              "    [theme=dark] .colab-df-convert {\n",
              "      background-color: #3B4455;\n",
              "      fill: #D2E3FC;\n",
              "    }\n",
              "\n",
              "    [theme=dark] .colab-df-convert:hover {\n",
              "      background-color: #434B5C;\n",
              "      box-shadow: 0px 1px 3px 1px rgba(0, 0, 0, 0.15);\n",
              "      filter: drop-shadow(0px 1px 2px rgba(0, 0, 0, 0.3));\n",
              "      fill: #FFFFFF;\n",
              "    }\n",
              "  </style>\n",
              "\n",
              "    <script>\n",
              "      const buttonEl =\n",
              "        document.querySelector('#df-61ac627a-f922-4162-924f-d7bd4f4f4dec button.colab-df-convert');\n",
              "      buttonEl.style.display =\n",
              "        google.colab.kernel.accessAllowed ? 'block' : 'none';\n",
              "\n",
              "      async function convertToInteractive(key) {\n",
              "        const element = document.querySelector('#df-61ac627a-f922-4162-924f-d7bd4f4f4dec');\n",
              "        const dataTable =\n",
              "          await google.colab.kernel.invokeFunction('convertToInteractive',\n",
              "                                                    [key], {});\n",
              "        if (!dataTable) return;\n",
              "\n",
              "        const docLinkHtml = 'Like what you see? Visit the ' +\n",
              "          '<a target=\"_blank\" href=https://colab.research.google.com/notebooks/data_table.ipynb>data table notebook</a>'\n",
              "          + ' to learn more about interactive tables.';\n",
              "        element.innerHTML = '';\n",
              "        dataTable['output_type'] = 'display_data';\n",
              "        await google.colab.output.renderOutput(dataTable, element);\n",
              "        const docLink = document.createElement('div');\n",
              "        docLink.innerHTML = docLinkHtml;\n",
              "        element.appendChild(docLink);\n",
              "      }\n",
              "    </script>\n",
              "  </div>\n",
              "\n",
              "\n",
              "<div id=\"df-6c4037a3-c2fe-4cb2-b42e-94247575db25\">\n",
              "  <button class=\"colab-df-quickchart\" onclick=\"quickchart('df-6c4037a3-c2fe-4cb2-b42e-94247575db25')\"\n",
              "            title=\"Suggest charts\"\n",
              "            style=\"display:none;\">\n",
              "\n",
              "<svg xmlns=\"http://www.w3.org/2000/svg\" height=\"24px\"viewBox=\"0 0 24 24\"\n",
              "     width=\"24px\">\n",
              "    <g>\n",
              "        <path d=\"M19 3H5c-1.1 0-2 .9-2 2v14c0 1.1.9 2 2 2h14c1.1 0 2-.9 2-2V5c0-1.1-.9-2-2-2zM9 17H7v-7h2v7zm4 0h-2V7h2v10zm4 0h-2v-4h2v4z\"/>\n",
              "    </g>\n",
              "</svg>\n",
              "  </button>\n",
              "\n",
              "<style>\n",
              "  .colab-df-quickchart {\n",
              "      --bg-color: #E8F0FE;\n",
              "      --fill-color: #1967D2;\n",
              "      --hover-bg-color: #E2EBFA;\n",
              "      --hover-fill-color: #174EA6;\n",
              "      --disabled-fill-color: #AAA;\n",
              "      --disabled-bg-color: #DDD;\n",
              "  }\n",
              "\n",
              "  [theme=dark] .colab-df-quickchart {\n",
              "      --bg-color: #3B4455;\n",
              "      --fill-color: #D2E3FC;\n",
              "      --hover-bg-color: #434B5C;\n",
              "      --hover-fill-color: #FFFFFF;\n",
              "      --disabled-bg-color: #3B4455;\n",
              "      --disabled-fill-color: #666;\n",
              "  }\n",
              "\n",
              "  .colab-df-quickchart {\n",
              "    background-color: var(--bg-color);\n",
              "    border: none;\n",
              "    border-radius: 50%;\n",
              "    cursor: pointer;\n",
              "    display: none;\n",
              "    fill: var(--fill-color);\n",
              "    height: 32px;\n",
              "    padding: 0;\n",
              "    width: 32px;\n",
              "  }\n",
              "\n",
              "  .colab-df-quickchart:hover {\n",
              "    background-color: var(--hover-bg-color);\n",
              "    box-shadow: 0 1px 2px rgba(60, 64, 67, 0.3), 0 1px 3px 1px rgba(60, 64, 67, 0.15);\n",
              "    fill: var(--button-hover-fill-color);\n",
              "  }\n",
              "\n",
              "  .colab-df-quickchart-complete:disabled,\n",
              "  .colab-df-quickchart-complete:disabled:hover {\n",
              "    background-color: var(--disabled-bg-color);\n",
              "    fill: var(--disabled-fill-color);\n",
              "    box-shadow: none;\n",
              "  }\n",
              "\n",
              "  .colab-df-spinner {\n",
              "    border: 2px solid var(--fill-color);\n",
              "    border-color: transparent;\n",
              "    border-bottom-color: var(--fill-color);\n",
              "    animation:\n",
              "      spin 1s steps(1) infinite;\n",
              "  }\n",
              "\n",
              "  @keyframes spin {\n",
              "    0% {\n",
              "      border-color: transparent;\n",
              "      border-bottom-color: var(--fill-color);\n",
              "      border-left-color: var(--fill-color);\n",
              "    }\n",
              "    20% {\n",
              "      border-color: transparent;\n",
              "      border-left-color: var(--fill-color);\n",
              "      border-top-color: var(--fill-color);\n",
              "    }\n",
              "    30% {\n",
              "      border-color: transparent;\n",
              "      border-left-color: var(--fill-color);\n",
              "      border-top-color: var(--fill-color);\n",
              "      border-right-color: var(--fill-color);\n",
              "    }\n",
              "    40% {\n",
              "      border-color: transparent;\n",
              "      border-right-color: var(--fill-color);\n",
              "      border-top-color: var(--fill-color);\n",
              "    }\n",
              "    60% {\n",
              "      border-color: transparent;\n",
              "      border-right-color: var(--fill-color);\n",
              "    }\n",
              "    80% {\n",
              "      border-color: transparent;\n",
              "      border-right-color: var(--fill-color);\n",
              "      border-bottom-color: var(--fill-color);\n",
              "    }\n",
              "    90% {\n",
              "      border-color: transparent;\n",
              "      border-bottom-color: var(--fill-color);\n",
              "    }\n",
              "  }\n",
              "</style>\n",
              "\n",
              "  <script>\n",
              "    async function quickchart(key) {\n",
              "      const quickchartButtonEl =\n",
              "        document.querySelector('#' + key + ' button');\n",
              "      quickchartButtonEl.disabled = true;  // To prevent multiple clicks.\n",
              "      quickchartButtonEl.classList.add('colab-df-spinner');\n",
              "      try {\n",
              "        const charts = await google.colab.kernel.invokeFunction(\n",
              "            'suggestCharts', [key], {});\n",
              "      } catch (error) {\n",
              "        console.error('Error during call to suggestCharts:', error);\n",
              "      }\n",
              "      quickchartButtonEl.classList.remove('colab-df-spinner');\n",
              "      quickchartButtonEl.classList.add('colab-df-quickchart-complete');\n",
              "    }\n",
              "    (() => {\n",
              "      let quickchartButtonEl =\n",
              "        document.querySelector('#df-6c4037a3-c2fe-4cb2-b42e-94247575db25 button');\n",
              "      quickchartButtonEl.style.display =\n",
              "        google.colab.kernel.accessAllowed ? 'block' : 'none';\n",
              "    })();\n",
              "  </script>\n",
              "</div>\n",
              "\n",
              "    </div>\n",
              "  </div>\n"
            ],
            "application/vnd.google.colaboratory.intrinsic+json": {
              "type": "dataframe",
              "summary": "{\n  \"name\": \"df_dtm\",\n  \"rows\": 22,\n  \"fields\": [\n    {\n      \"column\": 0,\n      \"properties\": {\n        \"dtype\": \"number\",\n        \"std\": 0.18609684207969418,\n        \"min\": 0.0,\n        \"max\": 0.4082482904638631,\n        \"samples\": [\n          0.0,\n          0.4082482904638631\n        ],\n        \"num_unique_values\": 2,\n        \"semantic_type\": \"\",\n        \"description\": \"\"\n      }\n    },\n    {\n      \"column\": 1,\n      \"properties\": {\n        \"dtype\": \"number\",\n        \"std\": 0.16809011971622675,\n        \"min\": 0.0,\n        \"max\": 0.3414262179382391,\n        \"samples\": [\n          0.0,\n          0.3414262179382391\n        ],\n        \"num_unique_values\": 3,\n        \"semantic_type\": \"\",\n        \"description\": \"\"\n      }\n    },\n    {\n      \"column\": 2,\n      \"properties\": {\n        \"dtype\": \"number\",\n        \"std\": 0.1786490336804132,\n        \"min\": 0.0,\n        \"max\": 0.6149219764307087,\n        \"samples\": [\n          0.2338320064840948,\n          0.30746098821535434\n        ],\n        \"num_unique_values\": 4,\n        \"semantic_type\": \"\",\n        \"description\": \"\"\n      }\n    }\n  ]\n}"
            }
          },
          "metadata": {},
          "execution_count": 11
        }
      ]
    },
    {
      "cell_type": "code",
      "source": [
        "vocabs"
      ],
      "metadata": {
        "id": "f-lkpxYm2a5A",
        "colab": {
          "base_uri": "https://localhost:8080/"
        },
        "outputId": "3a76e14c-cb6d-4433-e562-0209d0a49ebf"
      },
      "execution_count": 12,
      "outputs": [
        {
          "output_type": "execute_result",
          "data": {
            "text/plain": [
              "array(['기술', '기업', '다양', '데이터', '러닝', '머신', '모델링', '분석', '분야', '사회',\n",
              "       '알고리즘', '예측', '인공지능', '인프라', '저장', '적용', '처리', '컴퓨팅', '클라우드', '혁명',\n",
              "       '혁신', '효율'], dtype=object)"
            ]
          },
          "metadata": {},
          "execution_count": 12
        }
      ]
    },
    {
      "cell_type": "code",
      "source": [
        "test_text = \"머신러닝과 딥러닝 알고리즘은 데이터 분석과 예측 모델링에 혁명을 일으키고 있다.\"\n",
        "morphs_noun = mecab.nouns(test_text)\n",
        "vocab = tfidfVectorizer.transform(morphs_noun)"
      ],
      "metadata": {
        "id": "CDyIlQWQyxzE"
      },
      "execution_count": 14,
      "outputs": []
    },
    {
      "cell_type": "code",
      "source": [
        "morphs_noun"
      ],
      "metadata": {
        "colab": {
          "base_uri": "https://localhost:8080/"
        },
        "id": "TgznTv1zyyqk",
        "outputId": "db5ed087-bae2-4214-e65f-a74667f6ed20"
      },
      "execution_count": 15,
      "outputs": [
        {
          "output_type": "execute_result",
          "data": {
            "text/plain": [
              "['머신', '러닝', '딥', '러닝', '알고리즘', '데이터', '분석', '예측', '모델링', '혁명']"
            ]
          },
          "metadata": {},
          "execution_count": 15
        }
      ]
    },
    {
      "cell_type": "code",
      "source": [
        "vocab.toarray()"
      ],
      "metadata": {
        "colab": {
          "base_uri": "https://localhost:8080/"
        },
        "id": "mY5sTmRtyzeb",
        "outputId": "f0edbb18-8b96-46a5-a50b-685f06997b11"
      },
      "execution_count": 16,
      "outputs": [
        {
          "output_type": "execute_result",
          "data": {
            "text/plain": [
              "array([[0., 0., 0., 0., 0., 1., 0., 0., 0., 0., 0., 0., 0., 0., 0., 0.,\n",
              "        0., 0., 0., 0., 0., 0.],\n",
              "       [0., 0., 0., 0., 1., 0., 0., 0., 0., 0., 0., 0., 0., 0., 0., 0.,\n",
              "        0., 0., 0., 0., 0., 0.],\n",
              "       [0., 0., 0., 0., 0., 0., 0., 0., 0., 0., 0., 0., 0., 0., 0., 0.,\n",
              "        0., 0., 0., 0., 0., 0.],\n",
              "       [0., 0., 0., 0., 1., 0., 0., 0., 0., 0., 0., 0., 0., 0., 0., 0.,\n",
              "        0., 0., 0., 0., 0., 0.],\n",
              "       [0., 0., 0., 0., 0., 0., 0., 0., 0., 0., 1., 0., 0., 0., 0., 0.,\n",
              "        0., 0., 0., 0., 0., 0.],\n",
              "       [0., 0., 0., 1., 0., 0., 0., 0., 0., 0., 0., 0., 0., 0., 0., 0.,\n",
              "        0., 0., 0., 0., 0., 0.],\n",
              "       [0., 0., 0., 0., 0., 0., 0., 1., 0., 0., 0., 0., 0., 0., 0., 0.,\n",
              "        0., 0., 0., 0., 0., 0.],\n",
              "       [0., 0., 0., 0., 0., 0., 0., 0., 0., 0., 0., 1., 0., 0., 0., 0.,\n",
              "        0., 0., 0., 0., 0., 0.],\n",
              "       [0., 0., 0., 0., 0., 0., 1., 0., 0., 0., 0., 0., 0., 0., 0., 0.,\n",
              "        0., 0., 0., 0., 0., 0.],\n",
              "       [0., 0., 0., 0., 0., 0., 0., 0., 0., 0., 0., 0., 0., 0., 0., 0.,\n",
              "        0., 0., 0., 1., 0., 0.]])"
            ]
          },
          "metadata": {},
          "execution_count": 16
        }
      ]
    },
    {
      "cell_type": "markdown",
      "source": [
        "## 표시"
      ],
      "metadata": {
        "id": "V2opCAAv9o6f"
      }
    },
    {
      "cell_type": "code",
      "source": [
        "import pandas as pd\n",
        "df_dtm = pd.DataFrame(result_vectors.toarray(),columns = tfidfVectorizer.get_feature_names_out())\n",
        "df_dtm[:3]"
      ],
      "metadata": {
        "colab": {
          "base_uri": "https://localhost:8080/",
          "height": 173
        },
        "id": "2LQKA3Pi9qbA",
        "outputId": "615155bc-7ed1-4ffc-80e1-f78d456da719"
      },
      "execution_count": 23,
      "outputs": [
        {
          "output_type": "execute_result",
          "data": {
            "text/plain": [
              "         기술        기업        다양       데이터        러닝        머신       모델링  \\\n",
              "0  0.408248  0.000000  0.408248  0.000000  0.000000  0.000000  0.000000   \n",
              "1  0.000000  0.341426  0.000000  0.259663  0.000000  0.000000  0.000000   \n",
              "2  0.000000  0.000000  0.000000  0.233832  0.614922  0.307461  0.307461   \n",
              "\n",
              "         분석        분야        사회  ...      인공지능       인프라        저장        적용  \\\n",
              "0  0.000000  0.408248  0.408248  ...  0.408248  0.000000  0.000000  0.408248   \n",
              "1  0.000000  0.000000  0.000000  ...  0.000000  0.341426  0.341426  0.000000   \n",
              "2  0.307461  0.000000  0.000000  ...  0.000000  0.000000  0.000000  0.000000   \n",
              "\n",
              "         처리       컴퓨팅      클라우드        혁명        혁신        효율  \n",
              "0  0.000000  0.000000  0.000000  0.000000  0.000000  0.000000  \n",
              "1  0.341426  0.341426  0.341426  0.000000  0.341426  0.341426  \n",
              "2  0.000000  0.000000  0.000000  0.307461  0.000000  0.000000  \n",
              "\n",
              "[3 rows x 22 columns]"
            ],
            "text/html": [
              "\n",
              "  <div id=\"df-bb140619-eed9-46c5-9435-1ba0c5db2e8f\" class=\"colab-df-container\">\n",
              "    <div>\n",
              "<style scoped>\n",
              "    .dataframe tbody tr th:only-of-type {\n",
              "        vertical-align: middle;\n",
              "    }\n",
              "\n",
              "    .dataframe tbody tr th {\n",
              "        vertical-align: top;\n",
              "    }\n",
              "\n",
              "    .dataframe thead th {\n",
              "        text-align: right;\n",
              "    }\n",
              "</style>\n",
              "<table border=\"1\" class=\"dataframe\">\n",
              "  <thead>\n",
              "    <tr style=\"text-align: right;\">\n",
              "      <th></th>\n",
              "      <th>기술</th>\n",
              "      <th>기업</th>\n",
              "      <th>다양</th>\n",
              "      <th>데이터</th>\n",
              "      <th>러닝</th>\n",
              "      <th>머신</th>\n",
              "      <th>모델링</th>\n",
              "      <th>분석</th>\n",
              "      <th>분야</th>\n",
              "      <th>사회</th>\n",
              "      <th>...</th>\n",
              "      <th>인공지능</th>\n",
              "      <th>인프라</th>\n",
              "      <th>저장</th>\n",
              "      <th>적용</th>\n",
              "      <th>처리</th>\n",
              "      <th>컴퓨팅</th>\n",
              "      <th>클라우드</th>\n",
              "      <th>혁명</th>\n",
              "      <th>혁신</th>\n",
              "      <th>효율</th>\n",
              "    </tr>\n",
              "  </thead>\n",
              "  <tbody>\n",
              "    <tr>\n",
              "      <th>0</th>\n",
              "      <td>0.408248</td>\n",
              "      <td>0.000000</td>\n",
              "      <td>0.408248</td>\n",
              "      <td>0.000000</td>\n",
              "      <td>0.000000</td>\n",
              "      <td>0.000000</td>\n",
              "      <td>0.000000</td>\n",
              "      <td>0.000000</td>\n",
              "      <td>0.408248</td>\n",
              "      <td>0.408248</td>\n",
              "      <td>...</td>\n",
              "      <td>0.408248</td>\n",
              "      <td>0.000000</td>\n",
              "      <td>0.000000</td>\n",
              "      <td>0.408248</td>\n",
              "      <td>0.000000</td>\n",
              "      <td>0.000000</td>\n",
              "      <td>0.000000</td>\n",
              "      <td>0.000000</td>\n",
              "      <td>0.000000</td>\n",
              "      <td>0.000000</td>\n",
              "    </tr>\n",
              "    <tr>\n",
              "      <th>1</th>\n",
              "      <td>0.000000</td>\n",
              "      <td>0.341426</td>\n",
              "      <td>0.000000</td>\n",
              "      <td>0.259663</td>\n",
              "      <td>0.000000</td>\n",
              "      <td>0.000000</td>\n",
              "      <td>0.000000</td>\n",
              "      <td>0.000000</td>\n",
              "      <td>0.000000</td>\n",
              "      <td>0.000000</td>\n",
              "      <td>...</td>\n",
              "      <td>0.000000</td>\n",
              "      <td>0.341426</td>\n",
              "      <td>0.341426</td>\n",
              "      <td>0.000000</td>\n",
              "      <td>0.341426</td>\n",
              "      <td>0.341426</td>\n",
              "      <td>0.341426</td>\n",
              "      <td>0.000000</td>\n",
              "      <td>0.341426</td>\n",
              "      <td>0.341426</td>\n",
              "    </tr>\n",
              "    <tr>\n",
              "      <th>2</th>\n",
              "      <td>0.000000</td>\n",
              "      <td>0.000000</td>\n",
              "      <td>0.000000</td>\n",
              "      <td>0.233832</td>\n",
              "      <td>0.614922</td>\n",
              "      <td>0.307461</td>\n",
              "      <td>0.307461</td>\n",
              "      <td>0.307461</td>\n",
              "      <td>0.000000</td>\n",
              "      <td>0.000000</td>\n",
              "      <td>...</td>\n",
              "      <td>0.000000</td>\n",
              "      <td>0.000000</td>\n",
              "      <td>0.000000</td>\n",
              "      <td>0.000000</td>\n",
              "      <td>0.000000</td>\n",
              "      <td>0.000000</td>\n",
              "      <td>0.000000</td>\n",
              "      <td>0.307461</td>\n",
              "      <td>0.000000</td>\n",
              "      <td>0.000000</td>\n",
              "    </tr>\n",
              "  </tbody>\n",
              "</table>\n",
              "<p>3 rows × 22 columns</p>\n",
              "</div>\n",
              "    <div class=\"colab-df-buttons\">\n",
              "\n",
              "  <div class=\"colab-df-container\">\n",
              "    <button class=\"colab-df-convert\" onclick=\"convertToInteractive('df-bb140619-eed9-46c5-9435-1ba0c5db2e8f')\"\n",
              "            title=\"Convert this dataframe to an interactive table.\"\n",
              "            style=\"display:none;\">\n",
              "\n",
              "  <svg xmlns=\"http://www.w3.org/2000/svg\" height=\"24px\" viewBox=\"0 -960 960 960\">\n",
              "    <path d=\"M120-120v-720h720v720H120Zm60-500h600v-160H180v160Zm220 220h160v-160H400v160Zm0 220h160v-160H400v160ZM180-400h160v-160H180v160Zm440 0h160v-160H620v160ZM180-180h160v-160H180v160Zm440 0h160v-160H620v160Z\"/>\n",
              "  </svg>\n",
              "    </button>\n",
              "\n",
              "  <style>\n",
              "    .colab-df-container {\n",
              "      display:flex;\n",
              "      gap: 12px;\n",
              "    }\n",
              "\n",
              "    .colab-df-convert {\n",
              "      background-color: #E8F0FE;\n",
              "      border: none;\n",
              "      border-radius: 50%;\n",
              "      cursor: pointer;\n",
              "      display: none;\n",
              "      fill: #1967D2;\n",
              "      height: 32px;\n",
              "      padding: 0 0 0 0;\n",
              "      width: 32px;\n",
              "    }\n",
              "\n",
              "    .colab-df-convert:hover {\n",
              "      background-color: #E2EBFA;\n",
              "      box-shadow: 0px 1px 2px rgba(60, 64, 67, 0.3), 0px 1px 3px 1px rgba(60, 64, 67, 0.15);\n",
              "      fill: #174EA6;\n",
              "    }\n",
              "\n",
              "    .colab-df-buttons div {\n",
              "      margin-bottom: 4px;\n",
              "    }\n",
              "\n",
              "    [theme=dark] .colab-df-convert {\n",
              "      background-color: #3B4455;\n",
              "      fill: #D2E3FC;\n",
              "    }\n",
              "\n",
              "    [theme=dark] .colab-df-convert:hover {\n",
              "      background-color: #434B5C;\n",
              "      box-shadow: 0px 1px 3px 1px rgba(0, 0, 0, 0.15);\n",
              "      filter: drop-shadow(0px 1px 2px rgba(0, 0, 0, 0.3));\n",
              "      fill: #FFFFFF;\n",
              "    }\n",
              "  </style>\n",
              "\n",
              "    <script>\n",
              "      const buttonEl =\n",
              "        document.querySelector('#df-bb140619-eed9-46c5-9435-1ba0c5db2e8f button.colab-df-convert');\n",
              "      buttonEl.style.display =\n",
              "        google.colab.kernel.accessAllowed ? 'block' : 'none';\n",
              "\n",
              "      async function convertToInteractive(key) {\n",
              "        const element = document.querySelector('#df-bb140619-eed9-46c5-9435-1ba0c5db2e8f');\n",
              "        const dataTable =\n",
              "          await google.colab.kernel.invokeFunction('convertToInteractive',\n",
              "                                                    [key], {});\n",
              "        if (!dataTable) return;\n",
              "\n",
              "        const docLinkHtml = 'Like what you see? Visit the ' +\n",
              "          '<a target=\"_blank\" href=https://colab.research.google.com/notebooks/data_table.ipynb>data table notebook</a>'\n",
              "          + ' to learn more about interactive tables.';\n",
              "        element.innerHTML = '';\n",
              "        dataTable['output_type'] = 'display_data';\n",
              "        await google.colab.output.renderOutput(dataTable, element);\n",
              "        const docLink = document.createElement('div');\n",
              "        docLink.innerHTML = docLinkHtml;\n",
              "        element.appendChild(docLink);\n",
              "      }\n",
              "    </script>\n",
              "  </div>\n",
              "\n",
              "\n",
              "<div id=\"df-a62dd5ab-26e9-4ffa-89cb-96c750c92976\">\n",
              "  <button class=\"colab-df-quickchart\" onclick=\"quickchart('df-a62dd5ab-26e9-4ffa-89cb-96c750c92976')\"\n",
              "            title=\"Suggest charts\"\n",
              "            style=\"display:none;\">\n",
              "\n",
              "<svg xmlns=\"http://www.w3.org/2000/svg\" height=\"24px\"viewBox=\"0 0 24 24\"\n",
              "     width=\"24px\">\n",
              "    <g>\n",
              "        <path d=\"M19 3H5c-1.1 0-2 .9-2 2v14c0 1.1.9 2 2 2h14c1.1 0 2-.9 2-2V5c0-1.1-.9-2-2-2zM9 17H7v-7h2v7zm4 0h-2V7h2v10zm4 0h-2v-4h2v4z\"/>\n",
              "    </g>\n",
              "</svg>\n",
              "  </button>\n",
              "\n",
              "<style>\n",
              "  .colab-df-quickchart {\n",
              "      --bg-color: #E8F0FE;\n",
              "      --fill-color: #1967D2;\n",
              "      --hover-bg-color: #E2EBFA;\n",
              "      --hover-fill-color: #174EA6;\n",
              "      --disabled-fill-color: #AAA;\n",
              "      --disabled-bg-color: #DDD;\n",
              "  }\n",
              "\n",
              "  [theme=dark] .colab-df-quickchart {\n",
              "      --bg-color: #3B4455;\n",
              "      --fill-color: #D2E3FC;\n",
              "      --hover-bg-color: #434B5C;\n",
              "      --hover-fill-color: #FFFFFF;\n",
              "      --disabled-bg-color: #3B4455;\n",
              "      --disabled-fill-color: #666;\n",
              "  }\n",
              "\n",
              "  .colab-df-quickchart {\n",
              "    background-color: var(--bg-color);\n",
              "    border: none;\n",
              "    border-radius: 50%;\n",
              "    cursor: pointer;\n",
              "    display: none;\n",
              "    fill: var(--fill-color);\n",
              "    height: 32px;\n",
              "    padding: 0;\n",
              "    width: 32px;\n",
              "  }\n",
              "\n",
              "  .colab-df-quickchart:hover {\n",
              "    background-color: var(--hover-bg-color);\n",
              "    box-shadow: 0 1px 2px rgba(60, 64, 67, 0.3), 0 1px 3px 1px rgba(60, 64, 67, 0.15);\n",
              "    fill: var(--button-hover-fill-color);\n",
              "  }\n",
              "\n",
              "  .colab-df-quickchart-complete:disabled,\n",
              "  .colab-df-quickchart-complete:disabled:hover {\n",
              "    background-color: var(--disabled-bg-color);\n",
              "    fill: var(--disabled-fill-color);\n",
              "    box-shadow: none;\n",
              "  }\n",
              "\n",
              "  .colab-df-spinner {\n",
              "    border: 2px solid var(--fill-color);\n",
              "    border-color: transparent;\n",
              "    border-bottom-color: var(--fill-color);\n",
              "    animation:\n",
              "      spin 1s steps(1) infinite;\n",
              "  }\n",
              "\n",
              "  @keyframes spin {\n",
              "    0% {\n",
              "      border-color: transparent;\n",
              "      border-bottom-color: var(--fill-color);\n",
              "      border-left-color: var(--fill-color);\n",
              "    }\n",
              "    20% {\n",
              "      border-color: transparent;\n",
              "      border-left-color: var(--fill-color);\n",
              "      border-top-color: var(--fill-color);\n",
              "    }\n",
              "    30% {\n",
              "      border-color: transparent;\n",
              "      border-left-color: var(--fill-color);\n",
              "      border-top-color: var(--fill-color);\n",
              "      border-right-color: var(--fill-color);\n",
              "    }\n",
              "    40% {\n",
              "      border-color: transparent;\n",
              "      border-right-color: var(--fill-color);\n",
              "      border-top-color: var(--fill-color);\n",
              "    }\n",
              "    60% {\n",
              "      border-color: transparent;\n",
              "      border-right-color: var(--fill-color);\n",
              "    }\n",
              "    80% {\n",
              "      border-color: transparent;\n",
              "      border-right-color: var(--fill-color);\n",
              "      border-bottom-color: var(--fill-color);\n",
              "    }\n",
              "    90% {\n",
              "      border-color: transparent;\n",
              "      border-bottom-color: var(--fill-color);\n",
              "    }\n",
              "  }\n",
              "</style>\n",
              "\n",
              "  <script>\n",
              "    async function quickchart(key) {\n",
              "      const quickchartButtonEl =\n",
              "        document.querySelector('#' + key + ' button');\n",
              "      quickchartButtonEl.disabled = true;  // To prevent multiple clicks.\n",
              "      quickchartButtonEl.classList.add('colab-df-spinner');\n",
              "      try {\n",
              "        const charts = await google.colab.kernel.invokeFunction(\n",
              "            'suggestCharts', [key], {});\n",
              "      } catch (error) {\n",
              "        console.error('Error during call to suggestCharts:', error);\n",
              "      }\n",
              "      quickchartButtonEl.classList.remove('colab-df-spinner');\n",
              "      quickchartButtonEl.classList.add('colab-df-quickchart-complete');\n",
              "    }\n",
              "    (() => {\n",
              "      let quickchartButtonEl =\n",
              "        document.querySelector('#df-a62dd5ab-26e9-4ffa-89cb-96c750c92976 button');\n",
              "      quickchartButtonEl.style.display =\n",
              "        google.colab.kernel.accessAllowed ? 'block' : 'none';\n",
              "    })();\n",
              "  </script>\n",
              "</div>\n",
              "\n",
              "    </div>\n",
              "  </div>\n"
            ],
            "application/vnd.google.colaboratory.intrinsic+json": {
              "type": "dataframe"
            }
          },
          "metadata": {},
          "execution_count": 23
        }
      ]
    },
    {
      "cell_type": "code",
      "source": [
        "display(df_dtm.style.background_gradient())"
      ],
      "metadata": {
        "colab": {
          "base_uri": "https://localhost:8080/",
          "height": 143
        },
        "id": "sf0VCeB39yv8",
        "outputId": "2fde60b8-0d26-4813-a164-066b5297aae4"
      },
      "execution_count": 24,
      "outputs": [
        {
          "output_type": "display_data",
          "data": {
            "text/plain": [
              "<pandas.io.formats.style.Styler at 0x7a8d4cb3bdf0>"
            ],
            "text/html": [
              "<style type=\"text/css\">\n",
              "#T_5a5d8_row0_col0, #T_5a5d8_row0_col2, #T_5a5d8_row0_col8, #T_5a5d8_row0_col9, #T_5a5d8_row0_col12, #T_5a5d8_row0_col15, #T_5a5d8_row1_col1, #T_5a5d8_row1_col3, #T_5a5d8_row1_col13, #T_5a5d8_row1_col14, #T_5a5d8_row1_col16, #T_5a5d8_row1_col17, #T_5a5d8_row1_col18, #T_5a5d8_row1_col20, #T_5a5d8_row1_col21, #T_5a5d8_row2_col4, #T_5a5d8_row2_col5, #T_5a5d8_row2_col6, #T_5a5d8_row2_col7, #T_5a5d8_row2_col10, #T_5a5d8_row2_col11, #T_5a5d8_row2_col19 {\n",
              "  background-color: #023858;\n",
              "  color: #f1f1f1;\n",
              "}\n",
              "#T_5a5d8_row0_col1, #T_5a5d8_row0_col3, #T_5a5d8_row0_col4, #T_5a5d8_row0_col5, #T_5a5d8_row0_col6, #T_5a5d8_row0_col7, #T_5a5d8_row0_col10, #T_5a5d8_row0_col11, #T_5a5d8_row0_col13, #T_5a5d8_row0_col14, #T_5a5d8_row0_col16, #T_5a5d8_row0_col17, #T_5a5d8_row0_col18, #T_5a5d8_row0_col19, #T_5a5d8_row0_col20, #T_5a5d8_row0_col21, #T_5a5d8_row1_col0, #T_5a5d8_row1_col2, #T_5a5d8_row1_col4, #T_5a5d8_row1_col5, #T_5a5d8_row1_col6, #T_5a5d8_row1_col7, #T_5a5d8_row1_col8, #T_5a5d8_row1_col9, #T_5a5d8_row1_col10, #T_5a5d8_row1_col11, #T_5a5d8_row1_col12, #T_5a5d8_row1_col15, #T_5a5d8_row1_col19, #T_5a5d8_row2_col0, #T_5a5d8_row2_col1, #T_5a5d8_row2_col2, #T_5a5d8_row2_col8, #T_5a5d8_row2_col9, #T_5a5d8_row2_col12, #T_5a5d8_row2_col13, #T_5a5d8_row2_col14, #T_5a5d8_row2_col15, #T_5a5d8_row2_col16, #T_5a5d8_row2_col17, #T_5a5d8_row2_col18, #T_5a5d8_row2_col20, #T_5a5d8_row2_col21 {\n",
              "  background-color: #fff7fb;\n",
              "  color: #000000;\n",
              "}\n",
              "#T_5a5d8_row2_col3 {\n",
              "  background-color: #045382;\n",
              "  color: #f1f1f1;\n",
              "}\n",
              "</style>\n",
              "<table id=\"T_5a5d8\" class=\"dataframe\">\n",
              "  <thead>\n",
              "    <tr>\n",
              "      <th class=\"blank level0\" >&nbsp;</th>\n",
              "      <th id=\"T_5a5d8_level0_col0\" class=\"col_heading level0 col0\" >기술</th>\n",
              "      <th id=\"T_5a5d8_level0_col1\" class=\"col_heading level0 col1\" >기업</th>\n",
              "      <th id=\"T_5a5d8_level0_col2\" class=\"col_heading level0 col2\" >다양</th>\n",
              "      <th id=\"T_5a5d8_level0_col3\" class=\"col_heading level0 col3\" >데이터</th>\n",
              "      <th id=\"T_5a5d8_level0_col4\" class=\"col_heading level0 col4\" >러닝</th>\n",
              "      <th id=\"T_5a5d8_level0_col5\" class=\"col_heading level0 col5\" >머신</th>\n",
              "      <th id=\"T_5a5d8_level0_col6\" class=\"col_heading level0 col6\" >모델링</th>\n",
              "      <th id=\"T_5a5d8_level0_col7\" class=\"col_heading level0 col7\" >분석</th>\n",
              "      <th id=\"T_5a5d8_level0_col8\" class=\"col_heading level0 col8\" >분야</th>\n",
              "      <th id=\"T_5a5d8_level0_col9\" class=\"col_heading level0 col9\" >사회</th>\n",
              "      <th id=\"T_5a5d8_level0_col10\" class=\"col_heading level0 col10\" >알고리즘</th>\n",
              "      <th id=\"T_5a5d8_level0_col11\" class=\"col_heading level0 col11\" >예측</th>\n",
              "      <th id=\"T_5a5d8_level0_col12\" class=\"col_heading level0 col12\" >인공지능</th>\n",
              "      <th id=\"T_5a5d8_level0_col13\" class=\"col_heading level0 col13\" >인프라</th>\n",
              "      <th id=\"T_5a5d8_level0_col14\" class=\"col_heading level0 col14\" >저장</th>\n",
              "      <th id=\"T_5a5d8_level0_col15\" class=\"col_heading level0 col15\" >적용</th>\n",
              "      <th id=\"T_5a5d8_level0_col16\" class=\"col_heading level0 col16\" >처리</th>\n",
              "      <th id=\"T_5a5d8_level0_col17\" class=\"col_heading level0 col17\" >컴퓨팅</th>\n",
              "      <th id=\"T_5a5d8_level0_col18\" class=\"col_heading level0 col18\" >클라우드</th>\n",
              "      <th id=\"T_5a5d8_level0_col19\" class=\"col_heading level0 col19\" >혁명</th>\n",
              "      <th id=\"T_5a5d8_level0_col20\" class=\"col_heading level0 col20\" >혁신</th>\n",
              "      <th id=\"T_5a5d8_level0_col21\" class=\"col_heading level0 col21\" >효율</th>\n",
              "    </tr>\n",
              "  </thead>\n",
              "  <tbody>\n",
              "    <tr>\n",
              "      <th id=\"T_5a5d8_level0_row0\" class=\"row_heading level0 row0\" >0</th>\n",
              "      <td id=\"T_5a5d8_row0_col0\" class=\"data row0 col0\" >0.408248</td>\n",
              "      <td id=\"T_5a5d8_row0_col1\" class=\"data row0 col1\" >0.000000</td>\n",
              "      <td id=\"T_5a5d8_row0_col2\" class=\"data row0 col2\" >0.408248</td>\n",
              "      <td id=\"T_5a5d8_row0_col3\" class=\"data row0 col3\" >0.000000</td>\n",
              "      <td id=\"T_5a5d8_row0_col4\" class=\"data row0 col4\" >0.000000</td>\n",
              "      <td id=\"T_5a5d8_row0_col5\" class=\"data row0 col5\" >0.000000</td>\n",
              "      <td id=\"T_5a5d8_row0_col6\" class=\"data row0 col6\" >0.000000</td>\n",
              "      <td id=\"T_5a5d8_row0_col7\" class=\"data row0 col7\" >0.000000</td>\n",
              "      <td id=\"T_5a5d8_row0_col8\" class=\"data row0 col8\" >0.408248</td>\n",
              "      <td id=\"T_5a5d8_row0_col9\" class=\"data row0 col9\" >0.408248</td>\n",
              "      <td id=\"T_5a5d8_row0_col10\" class=\"data row0 col10\" >0.000000</td>\n",
              "      <td id=\"T_5a5d8_row0_col11\" class=\"data row0 col11\" >0.000000</td>\n",
              "      <td id=\"T_5a5d8_row0_col12\" class=\"data row0 col12\" >0.408248</td>\n",
              "      <td id=\"T_5a5d8_row0_col13\" class=\"data row0 col13\" >0.000000</td>\n",
              "      <td id=\"T_5a5d8_row0_col14\" class=\"data row0 col14\" >0.000000</td>\n",
              "      <td id=\"T_5a5d8_row0_col15\" class=\"data row0 col15\" >0.408248</td>\n",
              "      <td id=\"T_5a5d8_row0_col16\" class=\"data row0 col16\" >0.000000</td>\n",
              "      <td id=\"T_5a5d8_row0_col17\" class=\"data row0 col17\" >0.000000</td>\n",
              "      <td id=\"T_5a5d8_row0_col18\" class=\"data row0 col18\" >0.000000</td>\n",
              "      <td id=\"T_5a5d8_row0_col19\" class=\"data row0 col19\" >0.000000</td>\n",
              "      <td id=\"T_5a5d8_row0_col20\" class=\"data row0 col20\" >0.000000</td>\n",
              "      <td id=\"T_5a5d8_row0_col21\" class=\"data row0 col21\" >0.000000</td>\n",
              "    </tr>\n",
              "    <tr>\n",
              "      <th id=\"T_5a5d8_level0_row1\" class=\"row_heading level0 row1\" >1</th>\n",
              "      <td id=\"T_5a5d8_row1_col0\" class=\"data row1 col0\" >0.000000</td>\n",
              "      <td id=\"T_5a5d8_row1_col1\" class=\"data row1 col1\" >0.341426</td>\n",
              "      <td id=\"T_5a5d8_row1_col2\" class=\"data row1 col2\" >0.000000</td>\n",
              "      <td id=\"T_5a5d8_row1_col3\" class=\"data row1 col3\" >0.259663</td>\n",
              "      <td id=\"T_5a5d8_row1_col4\" class=\"data row1 col4\" >0.000000</td>\n",
              "      <td id=\"T_5a5d8_row1_col5\" class=\"data row1 col5\" >0.000000</td>\n",
              "      <td id=\"T_5a5d8_row1_col6\" class=\"data row1 col6\" >0.000000</td>\n",
              "      <td id=\"T_5a5d8_row1_col7\" class=\"data row1 col7\" >0.000000</td>\n",
              "      <td id=\"T_5a5d8_row1_col8\" class=\"data row1 col8\" >0.000000</td>\n",
              "      <td id=\"T_5a5d8_row1_col9\" class=\"data row1 col9\" >0.000000</td>\n",
              "      <td id=\"T_5a5d8_row1_col10\" class=\"data row1 col10\" >0.000000</td>\n",
              "      <td id=\"T_5a5d8_row1_col11\" class=\"data row1 col11\" >0.000000</td>\n",
              "      <td id=\"T_5a5d8_row1_col12\" class=\"data row1 col12\" >0.000000</td>\n",
              "      <td id=\"T_5a5d8_row1_col13\" class=\"data row1 col13\" >0.341426</td>\n",
              "      <td id=\"T_5a5d8_row1_col14\" class=\"data row1 col14\" >0.341426</td>\n",
              "      <td id=\"T_5a5d8_row1_col15\" class=\"data row1 col15\" >0.000000</td>\n",
              "      <td id=\"T_5a5d8_row1_col16\" class=\"data row1 col16\" >0.341426</td>\n",
              "      <td id=\"T_5a5d8_row1_col17\" class=\"data row1 col17\" >0.341426</td>\n",
              "      <td id=\"T_5a5d8_row1_col18\" class=\"data row1 col18\" >0.341426</td>\n",
              "      <td id=\"T_5a5d8_row1_col19\" class=\"data row1 col19\" >0.000000</td>\n",
              "      <td id=\"T_5a5d8_row1_col20\" class=\"data row1 col20\" >0.341426</td>\n",
              "      <td id=\"T_5a5d8_row1_col21\" class=\"data row1 col21\" >0.341426</td>\n",
              "    </tr>\n",
              "    <tr>\n",
              "      <th id=\"T_5a5d8_level0_row2\" class=\"row_heading level0 row2\" >2</th>\n",
              "      <td id=\"T_5a5d8_row2_col0\" class=\"data row2 col0\" >0.000000</td>\n",
              "      <td id=\"T_5a5d8_row2_col1\" class=\"data row2 col1\" >0.000000</td>\n",
              "      <td id=\"T_5a5d8_row2_col2\" class=\"data row2 col2\" >0.000000</td>\n",
              "      <td id=\"T_5a5d8_row2_col3\" class=\"data row2 col3\" >0.233832</td>\n",
              "      <td id=\"T_5a5d8_row2_col4\" class=\"data row2 col4\" >0.614922</td>\n",
              "      <td id=\"T_5a5d8_row2_col5\" class=\"data row2 col5\" >0.307461</td>\n",
              "      <td id=\"T_5a5d8_row2_col6\" class=\"data row2 col6\" >0.307461</td>\n",
              "      <td id=\"T_5a5d8_row2_col7\" class=\"data row2 col7\" >0.307461</td>\n",
              "      <td id=\"T_5a5d8_row2_col8\" class=\"data row2 col8\" >0.000000</td>\n",
              "      <td id=\"T_5a5d8_row2_col9\" class=\"data row2 col9\" >0.000000</td>\n",
              "      <td id=\"T_5a5d8_row2_col10\" class=\"data row2 col10\" >0.307461</td>\n",
              "      <td id=\"T_5a5d8_row2_col11\" class=\"data row2 col11\" >0.307461</td>\n",
              "      <td id=\"T_5a5d8_row2_col12\" class=\"data row2 col12\" >0.000000</td>\n",
              "      <td id=\"T_5a5d8_row2_col13\" class=\"data row2 col13\" >0.000000</td>\n",
              "      <td id=\"T_5a5d8_row2_col14\" class=\"data row2 col14\" >0.000000</td>\n",
              "      <td id=\"T_5a5d8_row2_col15\" class=\"data row2 col15\" >0.000000</td>\n",
              "      <td id=\"T_5a5d8_row2_col16\" class=\"data row2 col16\" >0.000000</td>\n",
              "      <td id=\"T_5a5d8_row2_col17\" class=\"data row2 col17\" >0.000000</td>\n",
              "      <td id=\"T_5a5d8_row2_col18\" class=\"data row2 col18\" >0.000000</td>\n",
              "      <td id=\"T_5a5d8_row2_col19\" class=\"data row2 col19\" >0.307461</td>\n",
              "      <td id=\"T_5a5d8_row2_col20\" class=\"data row2 col20\" >0.000000</td>\n",
              "      <td id=\"T_5a5d8_row2_col21\" class=\"data row2 col21\" >0.000000</td>\n",
              "    </tr>\n",
              "  </tbody>\n",
              "</table>\n"
            ]
          },
          "metadata": {}
        }
      ]
    },
    {
      "cell_type": "code",
      "source": [],
      "metadata": {
        "id": "0INuuOa8_l0H"
      },
      "execution_count": null,
      "outputs": []
    }
  ]
}