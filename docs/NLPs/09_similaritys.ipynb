{
 "cells": [
  {
   "cell_type": "code",
   "execution_count": 1,
   "id": "05f55c63-6172-41c3-9e50-99c5022b4b9f",
   "metadata": {},
   "outputs": [],
   "source": [
    "sentences = [\n",
    "    \"빨간 사과가 나무에 많이 열리고 있습니다.\",\n",
    "    \"빨간 사과가 나무에서 많이 열렸어요.\",\n",
    "    \"오늘은 날씨가 정말 좋아요.\",\n",
    "    \"오늘은 날씨가 매우 좋네요.\",\n",
    "    \"내일은 축구 경기가 있는 날입니다.\",\n",
    "    \"내일은 축구 경기를 감상할 예정입니다.\",\n",
    "    \"한국의 전통 문화를 체험해 보는 것은 정말 멋진 일이죠.\",\n",
    "    \"한국의 전통 문화를 체험하는 것은 정말 멋진 경험이에요.\",\n",
    "    \"이 옷은 저에게 잘 어울릴 것 같아요.\",\n",
    "    \"이 옷은 나에게 잘 어울릴 것 같습니다.\",\n",
    "    \"좋은 책을 읽는 것은 항상 나를 기쁘게 만듭니다.\",\n",
    "    \"좋은 책을 읽는 것은 나를 기쁘게 만듭니다.\",\n",
    "    \"오늘은 친구들과 함께 맛있는 저녁 식사를 즐길 예정입니다.\",\n",
    "    \"오늘 저녁에 친구들과 함께 맛있는 식사를 즐길 예정이에요.\",\n",
    "    \"새로운 프로젝트에 대해 생각해 보는 것은 항상 흥미로운 일입니다.\",\n",
    "    \"새로운 프로젝트에 대해 고민하는 것은 항상 흥미로운 일이에요.\",\n",
    "    \"여행을 가는 것은 새로운 경험을 쌓는 좋은 방법입니다.\",\n",
    "    \"여행을 가는 것은 새로운 경험을 쌓는 좋은 기회입니다.\",\n",
    "    \"웃음은 건강에 좋은 영향을 미칩니다.\",\n",
    "    \"웃음은 건강에 좋은 영향을 줍니다.\"\n",
    "]"
   ]
  },
  {
   "cell_type": "code",
   "execution_count": 2,
   "id": "d00b8fb4-ceed-4a1b-8b95-a0f10ef6d84f",
   "metadata": {},
   "outputs": [
    {
     "data": {
      "text/plain": [
       "['빨간 사과가 나무에 많이 열리고 있습니다.',\n",
       " '빨간 사과가 나무에서 많이 열렸어요.',\n",
       " '오늘은 날씨가 정말 좋아요.',\n",
       " '오늘은 날씨가 매우 좋네요.',\n",
       " '내일은 축구 경기가 있는 날입니다.',\n",
       " '내일은 축구 경기를 감상할 예정입니다.',\n",
       " '한국의 전통 문화를 체험해 보는 것은 정말 멋진 일이죠.',\n",
       " '한국의 전통 문화를 체험하는 것은 정말 멋진 경험이에요.',\n",
       " '이 옷은 저에게 잘 어울릴 것 같아요.',\n",
       " '이 옷은 나에게 잘 어울릴 것 같습니다.',\n",
       " '좋은 책을 읽는 것은 항상 나를 기쁘게 만듭니다.',\n",
       " '좋은 책을 읽는 것은 나를 기쁘게 만듭니다.',\n",
       " '오늘은 친구들과 함께 맛있는 저녁 식사를 즐길 예정입니다.',\n",
       " '오늘 저녁에 친구들과 함께 맛있는 식사를 즐길 예정이에요.',\n",
       " '새로운 프로젝트에 대해 생각해 보는 것은 항상 흥미로운 일입니다.',\n",
       " '새로운 프로젝트에 대해 고민하는 것은 항상 흥미로운 일이에요.',\n",
       " '여행을 가는 것은 새로운 경험을 쌓는 좋은 방법입니다.',\n",
       " '여행을 가는 것은 새로운 경험을 쌓는 좋은 기회입니다.',\n",
       " '웃음은 건강에 좋은 영향을 미칩니다.',\n",
       " '웃음은 건강에 좋은 영향을 줍니다.']"
      ]
     },
     "execution_count": 2,
     "metadata": {},
     "output_type": "execute_result"
    }
   ],
   "source": [
    "sentences"
   ]
  },
  {
   "cell_type": "markdown",
   "id": "8cb16757-87cb-4136-aa58-9e2e0132692f",
   "metadata": {},
   "source": [
    "## 자연어 전처리"
   ]
  },
  {
   "cell_type": "code",
   "execution_count": 5,
   "id": "4173c357-9727-4876-a8c5-adadf72a55ad",
   "metadata": {},
   "outputs": [],
   "source": [
    "stopwords = []"
   ]
  },
  {
   "cell_type": "code",
   "execution_count": 36,
   "id": "a8dd85e6-cbca-48e1-b4eb-d3560fcc69cf",
   "metadata": {},
   "outputs": [],
   "source": [
    "# 토크나이징 함수 정의\n",
    "from konlpy.tag import Okt\n",
    "okt = Okt()\n",
    "def Tokenizer(raw, pos=[\"Noun\",\"Alpha\",\"Verb\",\"Number\"], stopword=stopwords):\n",
    "    return [\n",
    "        word for word, tag in okt.pos(\n",
    "            raw, \n",
    "            # norm=True,   # normalize 그랰ㅋㅏ -> 그래ㅋㅋ\n",
    "            stem=True    # stemming 바뀌나->바뀌다\n",
    "            )\n",
    "            if len(word) > 1 and tag in pos and word not in stopword\n",
    "\n",
    "    ]"
   ]
  },
  {
   "cell_type": "code",
   "execution_count": 30,
   "id": "b9324ad3-cb8a-4802-9e0a-8ffdea812d00",
   "metadata": {},
   "outputs": [],
   "source": [
    "# tokenizing\n",
    "from sklearn.feature_extraction.text import TfidfVectorizer\n",
    "tfidfVectorizer = TfidfVectorizer(tokenizer = Tokenizer)"
   ]
  },
  {
   "cell_type": "code",
   "execution_count": 31,
   "id": "b5104eac-7a16-4f6c-a9b7-c5559575bab0",
   "metadata": {},
   "outputs": [
    {
     "data": {
      "text/plain": [
       "array([[0.        , 0.        , 0.        , 0.        , 0.        ,\n",
       "        0.        , 0.        , 0.        , 0.57735027, 0.        ,\n",
       "        0.        , 0.        , 0.        , 0.        , 0.        ,\n",
       "        0.        , 0.        , 0.57735027, 0.        , 0.        ,\n",
       "        0.        , 0.        , 0.        , 0.57735027, 0.        ,\n",
       "        0.        , 0.        , 0.        , 0.        , 0.        ,\n",
       "        0.        , 0.        , 0.        , 0.        , 0.        ,\n",
       "        0.        , 0.        , 0.        , 0.        , 0.        ,\n",
       "        0.        , 0.        , 0.        ],\n",
       "       [0.        , 0.        , 0.        , 0.        , 0.        ,\n",
       "        0.        , 0.        , 0.        , 0.57735027, 0.        ,\n",
       "        0.        , 0.        , 0.        , 0.        , 0.        ,\n",
       "        0.        , 0.        , 0.57735027, 0.        , 0.        ,\n",
       "        0.        , 0.        , 0.        , 0.57735027, 0.        ,\n",
       "        0.        , 0.        , 0.        , 0.        , 0.        ,\n",
       "        0.        , 0.        , 0.        , 0.        , 0.        ,\n",
       "        0.        , 0.        , 0.        , 0.        , 0.        ,\n",
       "        0.        , 0.        , 0.        ]])"
      ]
     },
     "execution_count": 31,
     "metadata": {},
     "output_type": "execute_result"
    }
   ],
   "source": [
    "features = tfidfVectorizer.fit_transform(sentences)\n",
    "features.toarray()[:2]"
   ]
  },
  {
   "cell_type": "markdown",
   "id": "432539f0-eb30-4f69-971f-c8bf3fdb4816",
   "metadata": {},
   "source": [
    "## 유사도 확인"
   ]
  },
  {
   "cell_type": "code",
   "execution_count": 32,
   "id": "927bbe9f-27a7-473c-9e6a-b0e5685975ca",
   "metadata": {},
   "outputs": [],
   "source": [
    "from sklearn.metrics.pairwise import cosine_similarity"
   ]
  },
  {
   "cell_type": "code",
   "execution_count": 33,
   "id": "ac9af423-b7af-4723-bc28-c3315364c079",
   "metadata": {},
   "outputs": [
    {
     "data": {
      "text/plain": [
       "array([[1., 1., 0., 0., 0., 0., 0., 0., 0., 0., 0., 0., 0., 0., 0., 0.,\n",
       "        0., 0., 0., 0.]])"
      ]
     },
     "execution_count": 33,
     "metadata": {},
     "output_type": "execute_result"
    }
   ],
   "source": [
    "result_list = cosine_similarity(features.toarray()[:1],features.toarray())\n",
    "result_list"
   ]
  },
  {
   "cell_type": "markdown",
   "id": "d7800b44-cdff-458a-9ea8-02b5ec43655f",
   "metadata": {},
   "source": [
    "## dataframe 작성 필요"
   ]
  },
  {
   "cell_type": "code",
   "execution_count": 35,
   "id": "406345c3-36a6-4753-a947-2bb013d7b8f6",
   "metadata": {},
   "outputs": [
    {
     "data": {
      "text/html": [
       "<div>\n",
       "<style scoped>\n",
       "    .dataframe tbody tr th:only-of-type {\n",
       "        vertical-align: middle;\n",
       "    }\n",
       "\n",
       "    .dataframe tbody tr th {\n",
       "        vertical-align: top;\n",
       "    }\n",
       "\n",
       "    .dataframe thead th {\n",
       "        text-align: right;\n",
       "    }\n",
       "</style>\n",
       "<table border=\"1\" class=\"dataframe\">\n",
       "  <thead>\n",
       "    <tr style=\"text-align: right;\">\n",
       "      <th></th>\n",
       "      <th>번호</th>\n",
       "      <th>분류</th>\n",
       "      <th>제목</th>\n",
       "      <th>내용</th>\n",
       "      <th>내용번호</th>\n",
       "    </tr>\n",
       "  </thead>\n",
       "  <tbody>\n",
       "    <tr>\n",
       "      <th>0</th>\n",
       "      <td>2645</td>\n",
       "      <td>복지</td>\n",
       "      <td>아빠 육아휴직 장려금</td>\n",
       "      <td>아빠 육아휴직 장려금   업무개요  남성근로자의 육아휴직을 장려하고 양육에 따른 경...</td>\n",
       "      <td>23522464</td>\n",
       "    </tr>\n",
       "    <tr>\n",
       "      <th>1</th>\n",
       "      <td>2644</td>\n",
       "      <td>경제</td>\n",
       "      <td>[서울산업진흥원] 서울메이드란?</td>\n",
       "      <td>서울산업진흥원 서울메이드란 서울의 감성을 담은 다양하고 새로운 경험을 제공하기 위해...</td>\n",
       "      <td>23194045</td>\n",
       "    </tr>\n",
       "    <tr>\n",
       "      <th>2</th>\n",
       "      <td>2643</td>\n",
       "      <td>환경</td>\n",
       "      <td>(강북구) 정비중</td>\n",
       "      <td>강북구 정비중  업무개요  투명 폐트병을 교환보상하므로 수거율을 높이고 폐기물을 감...</td>\n",
       "      <td>23032485</td>\n",
       "    </tr>\n",
       "    <tr>\n",
       "      <th>3</th>\n",
       "      <td>2642</td>\n",
       "      <td>복지</td>\n",
       "      <td>광진맘택시 운영(임산부,영아 양육가정 전용 택시)</td>\n",
       "      <td>광진맘택시 운영임산부영아 양육가정 전용 택시  업무개요 교통약자인 임산부와 영아가정...</td>\n",
       "      <td>22904492</td>\n",
       "    </tr>\n",
       "    <tr>\n",
       "      <th>4</th>\n",
       "      <td>2641</td>\n",
       "      <td>복지</td>\n",
       "      <td>마포 뇌병변장애인 비전센터</td>\n",
       "      <td>마포 뇌병변장애인 비전센터 마포뇌병변장애인 비전센터 운영   구분 내용  목적  학...</td>\n",
       "      <td>22477798</td>\n",
       "    </tr>\n",
       "    <tr>\n",
       "      <th>...</th>\n",
       "      <td>...</td>\n",
       "      <td>...</td>\n",
       "      <td>...</td>\n",
       "      <td>...</td>\n",
       "      <td>...</td>\n",
       "    </tr>\n",
       "    <tr>\n",
       "      <th>2640</th>\n",
       "      <td>5</td>\n",
       "      <td>주택도시계획</td>\n",
       "      <td>이미 지정된 재정비촉진지구의 인접지를 추가 확장하고 싶은데 어떻게 해야 하나요?</td>\n",
       "      <td>이미 지정된 재정비촉진지구의 인접지를 추가 확장하고 싶은데 어떻게 해야 하나요 관할...</td>\n",
       "      <td>2894353</td>\n",
       "    </tr>\n",
       "    <tr>\n",
       "      <th>2641</th>\n",
       "      <td>4</td>\n",
       "      <td>환경</td>\n",
       "      <td>수돗물의 톤당 원가는?</td>\n",
       "      <td>수돗물의 톤당 원가는우리시 년 톤당 원가는 원 입니다 우리시 년 톤당 요금은 원 입니다</td>\n",
       "      <td>19353862</td>\n",
       "    </tr>\n",
       "    <tr>\n",
       "      <th>2642</th>\n",
       "      <td>3</td>\n",
       "      <td>복지</td>\n",
       "      <td>출산휴가후 집근처에 안심하고 맡길 수 있는 어린이집이 있는지?</td>\n",
       "      <td>출산휴가후 집근처에 안심하고 맡길 수 있는 어린이집이 있는지   서울시 육아종합지원...</td>\n",
       "      <td>19699584</td>\n",
       "    </tr>\n",
       "    <tr>\n",
       "      <th>2643</th>\n",
       "      <td>2</td>\n",
       "      <td>교통</td>\n",
       "      <td>자동차검사장을 지정받고자 하는데 어떻게 해야 하나요?</td>\n",
       "      <td>자동차검사장을 지정받고자 하는데 어떻게 해야 하나요  자동차종합정비업체 소형자동차정...</td>\n",
       "      <td>2898293</td>\n",
       "    </tr>\n",
       "    <tr>\n",
       "      <th>2644</th>\n",
       "      <td>1</td>\n",
       "      <td>환경</td>\n",
       "      <td>폐기대상 문서의 폐기는 어떻게 하나요?</td>\n",
       "      <td>폐기대상 문서의 폐기는 어떻게 하나요보존기간이 경과된 문서의 폐기는 정보공개정책과로...</td>\n",
       "      <td>19431143</td>\n",
       "    </tr>\n",
       "  </tbody>\n",
       "</table>\n",
       "<p>2645 rows × 5 columns</p>\n",
       "</div>"
      ],
      "text/plain": [
       "        번호      분류                                            제목  \\\n",
       "0     2645      복지                                   아빠 육아휴직 장려금   \n",
       "1     2644      경제                             [서울산업진흥원] 서울메이드란?   \n",
       "2     2643      환경                                     (강북구) 정비중   \n",
       "3     2642      복지                   광진맘택시 운영(임산부,영아 양육가정 전용 택시)   \n",
       "4     2641      복지                                마포 뇌병변장애인 비전센터   \n",
       "...    ...     ...                                           ...   \n",
       "2640     5  주택도시계획  이미 지정된 재정비촉진지구의 인접지를 추가 확장하고 싶은데 어떻게 해야 하나요?   \n",
       "2641     4      환경                                  수돗물의 톤당 원가는?   \n",
       "2642     3      복지            출산휴가후 집근처에 안심하고 맡길 수 있는 어린이집이 있는지?   \n",
       "2643     2      교통                 자동차검사장을 지정받고자 하는데 어떻게 해야 하나요?   \n",
       "2644     1      환경                         폐기대상 문서의 폐기는 어떻게 하나요?   \n",
       "\n",
       "                                                     내용      내용번호  \n",
       "0     아빠 육아휴직 장려금   업무개요  남성근로자의 육아휴직을 장려하고 양육에 따른 경...  23522464  \n",
       "1     서울산업진흥원 서울메이드란 서울의 감성을 담은 다양하고 새로운 경험을 제공하기 위해...  23194045  \n",
       "2     강북구 정비중  업무개요  투명 폐트병을 교환보상하므로 수거율을 높이고 폐기물을 감...  23032485  \n",
       "3     광진맘택시 운영임산부영아 양육가정 전용 택시  업무개요 교통약자인 임산부와 영아가정...  22904492  \n",
       "4     마포 뇌병변장애인 비전센터 마포뇌병변장애인 비전센터 운영   구분 내용  목적  학...  22477798  \n",
       "...                                                 ...       ...  \n",
       "2640  이미 지정된 재정비촉진지구의 인접지를 추가 확장하고 싶은데 어떻게 해야 하나요 관할...   2894353  \n",
       "2641  수돗물의 톤당 원가는우리시 년 톤당 원가는 원 입니다 우리시 년 톤당 요금은 원 입니다   19353862  \n",
       "2642  출산휴가후 집근처에 안심하고 맡길 수 있는 어린이집이 있는지   서울시 육아종합지원...  19699584  \n",
       "2643  자동차검사장을 지정받고자 하는데 어떻게 해야 하나요  자동차종합정비업체 소형자동차정...   2898293  \n",
       "2644  폐기대상 문서의 폐기는 어떻게 하나요보존기간이 경과된 문서의 폐기는 정보공개정책과로...  19431143  \n",
       "\n",
       "[2645 rows x 5 columns]"
      ]
     },
     "execution_count": 35,
     "metadata": {},
     "output_type": "execute_result"
    }
   ],
   "source": [
    "import pandas as pd\n",
    "pd.read_csv(\"https://bit.ly/seoul-120-text-csv\")"
   ]
  },
  {
   "cell_type": "code",
   "execution_count": null,
   "id": "1792996a-2fd1-473f-8da4-37e9e410f486",
   "metadata": {},
   "outputs": [],
   "source": []
  }
 ],
 "metadata": {
  "kernelspec": {
   "display_name": "Python 3 (ipykernel)",
   "language": "python",
   "name": "python3"
  },
  "language_info": {
   "codemirror_mode": {
    "name": "ipython",
    "version": 3
   },
   "file_extension": ".py",
   "mimetype": "text/x-python",
   "name": "python",
   "nbconvert_exporter": "python",
   "pygments_lexer": "ipython3",
   "version": "3.11.8"
  }
 },
 "nbformat": 4,
 "nbformat_minor": 5
}
